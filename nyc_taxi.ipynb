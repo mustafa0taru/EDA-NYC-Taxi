{
 "cells": [
  {
   "cell_type": "code",
   "execution_count": 1,
   "id": "2793aa9c-f137-4819-a649-a2fc2a1f493f",
   "metadata": {
    "ExecuteTime": {
     "end_time": "2021-10-27T13:42:36.273870Z",
     "start_time": "2021-10-27T13:42:26.116706Z"
    }
   },
   "outputs": [],
   "source": [
    "import pandas as pd\n",
    "pd.set_option('mode.chained_assignment', None) # suppress unnecessary warnings\n",
    "import numpy as np\n",
    "from os import listdir\n",
    "import re\n",
    "\n",
    "import sqlalchemy as sa\n",
    "import cx_Oracle\n",
    "\n",
    "from pandas.tseries.offsets import Day, MonthEnd\n",
    "from dateutil.relativedelta import relativedelta\n",
    "import datetime\n",
    "import os\n",
    "\n",
    "import seaborn as sns\n",
    "import matplotlib.pyplot as plt\n",
    "%matplotlib inline\n",
    "from chart_studio.plotly import plot, iplot\n",
    "from plotly.offline import download_plotlyjs, init_notebook_mode, plot, iplot\n",
    "import plotly.express as px\n",
    "import plotly.graph_objects as go\n",
    "from plotly.subplots import make_subplots\n",
    "\n",
    "import warnings\n",
    "warnings.filterwarnings('ignore')"
   ]
  },
  {
   "cell_type": "code",
   "execution_count": 2,
   "id": "11e35882-3e11-49a8-b347-58e2f5745ac0",
   "metadata": {
    "ExecuteTime": {
     "end_time": "2021-10-27T13:42:36.310775Z",
     "start_time": "2021-10-27T13:42:36.274869Z"
    }
   },
   "outputs": [
    {
     "data": {
      "text/html": [
       "<div>\n",
       "<style scoped>\n",
       "    .dataframe tbody tr th:only-of-type {\n",
       "        vertical-align: middle;\n",
       "    }\n",
       "\n",
       "    .dataframe tbody tr th {\n",
       "        vertical-align: top;\n",
       "    }\n",
       "\n",
       "    .dataframe thead th {\n",
       "        text-align: right;\n",
       "    }\n",
       "</style>\n",
       "<table border=\"1\" class=\"dataframe\">\n",
       "  <thead>\n",
       "    <tr style=\"text-align: right;\">\n",
       "      <th></th>\n",
       "      <th>locationid</th>\n",
       "      <th>borough</th>\n",
       "      <th>zone</th>\n",
       "      <th>service_zone</th>\n",
       "    </tr>\n",
       "  </thead>\n",
       "  <tbody>\n",
       "    <tr>\n",
       "      <th>0</th>\n",
       "      <td>1</td>\n",
       "      <td>EWR</td>\n",
       "      <td>Newark Airport</td>\n",
       "      <td>EWR</td>\n",
       "    </tr>\n",
       "    <tr>\n",
       "      <th>1</th>\n",
       "      <td>2</td>\n",
       "      <td>Queens</td>\n",
       "      <td>Jamaica Bay</td>\n",
       "      <td>Boro Zone</td>\n",
       "    </tr>\n",
       "  </tbody>\n",
       "</table>\n",
       "</div>"
      ],
      "text/plain": [
       "   locationid borough            zone service_zone\n",
       "0           1     EWR  Newark Airport          EWR\n",
       "1           2  Queens     Jamaica Bay    Boro Zone"
      ]
     },
     "execution_count": 2,
     "metadata": {},
     "output_type": "execute_result"
    }
   ],
   "source": [
    "zone = pd.read_csv('taxi_zones.csv')\n",
    "zone.columns = zone.columns.str.lower()\n",
    "zone.head(2)"
   ]
  },
  {
   "cell_type": "code",
   "execution_count": 3,
   "id": "dd4f00e6-b30e-4658-9375-6dd34406bffb",
   "metadata": {
    "ExecuteTime": {
     "end_time": "2021-10-27T13:42:36.324703Z",
     "start_time": "2021-10-27T13:42:36.311771Z"
    }
   },
   "outputs": [],
   "source": [
    "pu_zone = zone.copy()\n",
    "pu_zone.columns = 'pu'+pu_zone.columns\n",
    "\n",
    "do_zone = zone.copy()\n",
    "do_zone.columns = 'do'+do_zone.columns"
   ]
  },
  {
   "cell_type": "code",
   "execution_count": 4,
   "id": "3329c39b-83e1-4eeb-b241-7ad18556dff8",
   "metadata": {
    "ExecuteTime": {
     "end_time": "2021-10-27T13:42:36.379557Z",
     "start_time": "2021-10-27T13:42:36.326709Z"
    }
   },
   "outputs": [
    {
     "data": {
      "text/html": [
       "<div>\n",
       "<style scoped>\n",
       "    .dataframe tbody tr th:only-of-type {\n",
       "        vertical-align: middle;\n",
       "    }\n",
       "\n",
       "    .dataframe tbody tr th {\n",
       "        vertical-align: top;\n",
       "    }\n",
       "\n",
       "    .dataframe thead th {\n",
       "        text-align: right;\n",
       "    }\n",
       "</style>\n",
       "<table border=\"1\" class=\"dataframe\">\n",
       "  <thead>\n",
       "    <tr style=\"text-align: right;\">\n",
       "      <th></th>\n",
       "      <th>date</th>\n",
       "      <th>fiscalyear</th>\n",
       "      <th>fiscalquarter</th>\n",
       "      <th>fiscalmonthnumber</th>\n",
       "      <th>fiscalmonthofquarter</th>\n",
       "      <th>fiscalweekofyear</th>\n",
       "      <th>dayofweek</th>\n",
       "      <th>fiscalmonthname</th>\n",
       "      <th>fiscalmonthyear</th>\n",
       "      <th>fiscalquarteryear</th>\n",
       "      <th>dayofmonthnumber</th>\n",
       "      <th>dayname</th>\n",
       "    </tr>\n",
       "  </thead>\n",
       "  <tbody>\n",
       "    <tr>\n",
       "      <th>0</th>\n",
       "      <td>2017-02-05</td>\n",
       "      <td>2017</td>\n",
       "      <td>1</td>\n",
       "      <td>1</td>\n",
       "      <td>1</td>\n",
       "      <td>1</td>\n",
       "      <td>0</td>\n",
       "      <td>February</td>\n",
       "      <td>17-Feb</td>\n",
       "      <td>12017</td>\n",
       "      <td>5</td>\n",
       "      <td>Sunday</td>\n",
       "    </tr>\n",
       "    <tr>\n",
       "      <th>1</th>\n",
       "      <td>2017-02-06</td>\n",
       "      <td>2017</td>\n",
       "      <td>1</td>\n",
       "      <td>1</td>\n",
       "      <td>1</td>\n",
       "      <td>1</td>\n",
       "      <td>1</td>\n",
       "      <td>February</td>\n",
       "      <td>17-Feb</td>\n",
       "      <td>12017</td>\n",
       "      <td>6</td>\n",
       "      <td>Monday</td>\n",
       "    </tr>\n",
       "  </tbody>\n",
       "</table>\n",
       "</div>"
      ],
      "text/plain": [
       "         date  fiscalyear  fiscalquarter  fiscalmonthnumber  \\\n",
       "0  2017-02-05        2017              1                  1   \n",
       "1  2017-02-06        2017              1                  1   \n",
       "\n",
       "   fiscalmonthofquarter  fiscalweekofyear  dayofweek fiscalmonthname  \\\n",
       "0                     1                 1          0        February   \n",
       "1                     1                 1          1        February   \n",
       "\n",
       "  fiscalmonthyear  fiscalquarteryear  dayofmonthnumber dayname  \n",
       "0          17-Feb              12017                 5  Sunday  \n",
       "1          17-Feb              12017                 6  Monday  "
      ]
     },
     "execution_count": 4,
     "metadata": {},
     "output_type": "execute_result"
    }
   ],
   "source": [
    "cal = pd.read_csv('454_calendar.csv')\n",
    "cal.columns = cal.columns.str.lower()\n",
    "cal.head(2)"
   ]
  },
  {
   "cell_type": "code",
   "execution_count": 5,
   "id": "c4c4f513-4fa7-4afd-8d4d-3260abd370a1",
   "metadata": {
    "ExecuteTime": {
     "end_time": "2021-10-27T13:42:36.395513Z",
     "start_time": "2021-10-27T13:42:36.380554Z"
    }
   },
   "outputs": [
    {
     "name": "stdout",
     "output_type": "stream",
     "text": [
      "<class 'pandas.core.frame.DataFrame'>\n",
      "RangeIndex: 1456 entries, 0 to 1455\n",
      "Data columns (total 12 columns):\n",
      " #   Column                Non-Null Count  Dtype \n",
      "---  ------                --------------  ----- \n",
      " 0   date                  1456 non-null   object\n",
      " 1   fiscalyear            1456 non-null   int64 \n",
      " 2   fiscalquarter         1456 non-null   int64 \n",
      " 3   fiscalmonthnumber     1456 non-null   int64 \n",
      " 4   fiscalmonthofquarter  1456 non-null   int64 \n",
      " 5   fiscalweekofyear      1456 non-null   int64 \n",
      " 6   dayofweek             1456 non-null   int64 \n",
      " 7   fiscalmonthname       1456 non-null   object\n",
      " 8   fiscalmonthyear       1456 non-null   object\n",
      " 9   fiscalquarteryear     1456 non-null   int64 \n",
      " 10  dayofmonthnumber      1456 non-null   int64 \n",
      " 11  dayname               1456 non-null   object\n",
      "dtypes: int64(8), object(4)\n",
      "memory usage: 136.6+ KB\n"
     ]
    }
   ],
   "source": [
    "cal.info()"
   ]
  },
  {
   "cell_type": "code",
   "execution_count": 6,
   "id": "25708010-33a1-4bb9-bd88-952d90288229",
   "metadata": {
    "ExecuteTime": {
     "end_time": "2021-10-27T13:42:36.405488Z",
     "start_time": "2021-10-27T13:42:36.396510Z"
    }
   },
   "outputs": [],
   "source": [
    "#getting the list of the files in the current directory\n",
    "files = os.listdir()\n",
    "#finding the files that ended with \"_taxi_trips.csv\"\n",
    "files = [f for f in files if f[-15:]=='_taxi_trips.csv']"
   ]
  },
  {
   "cell_type": "code",
   "execution_count": 7,
   "id": "2a54a360-1b2e-4fda-80dc-e353746b6fbb",
   "metadata": {
    "ExecuteTime": {
     "end_time": "2021-10-27T13:45:25.066187Z",
     "start_time": "2021-10-27T13:42:36.407482Z"
    }
   },
   "outputs": [],
   "source": [
    "trips = pd.DataFrame()\n",
    "for f in files:\n",
    "    temp = pd.read_csv(f)\n",
    "    #extracting date only\n",
    "    temp['date'] = temp['lpep_pickup_datetime'].str.slice(0,10)\n",
    "    \n",
    "    #converting the object to datetime format\n",
    "    temp['lpep_pickup_datetime'] = pd.to_datetime(temp['lpep_pickup_datetime'])\n",
    "    temp['lpep_dropoff_datetime'] = pd.to_datetime(temp['lpep_dropoff_datetime'])\n",
    "    \n",
    "    #not sent via store & forward\n",
    "    temp = temp.loc[temp['store_and_fwd_flag']=='N'] \n",
    "    #street-hailed trips only\n",
    "    temp = temp.loc[temp['trip_type']==1] \n",
    "    #standard-rated trips only\n",
    "    temp = temp.loc[temp['RatecodeID']==1] \n",
    "    #card or cash payment only\n",
    "    temp = temp.loc[(temp['payment_type']==1)|(temp['payment_type']==2)] \n",
    "    #2017 to 2021 trips only\n",
    "    temp = temp.loc[(temp['lpep_pickup_datetime']<='2020-12-31')&(temp['lpep_pickup_datetime']>='2017-01-01')]\n",
    "    #swapping pickup and dropoff datetime \n",
    "    temp['pickup_time'] = np.where(((temp['lpep_dropoff_datetime']-temp['lpep_pickup_datetime'])/np.timedelta64(1,'h')) < 0, \n",
    "                                    temp['lpep_dropoff_datetime'],temp['lpep_pickup_datetime']) \n",
    "    temp['dropoff_time'] = np.where(((temp['lpep_dropoff_datetime']-temp['lpep_pickup_datetime'])/np.timedelta64(1,'h')) < 0, \n",
    "                                     temp['lpep_pickup_datetime'],temp['lpep_dropoff_datetime'])\n",
    "    #removing trips that lasted more than 24 hours\n",
    "    temp = temp[~(((temp['dropoff_time']-temp['pickup_time'])/np.timedelta64(1,'h')) > 24)]\n",
    "    \n",
    "    #removing those trips with trip disntance and fare amount of zero\n",
    "    temp = temp[~((temp['trip_distance']==0)&(temp['fare_amount']==0))] \n",
    "    \n",
    "    #making the positive charges\n",
    "    temp['fare_amount'] = temp['fare_amount'].abs()\n",
    "    temp['extra'] = temp['extra'].abs()\n",
    "    temp['mta_tax'] = temp['mta_tax'].abs()\n",
    "    \n",
    "    #calculating distance when there's fare amount \n",
    "    temp['trip_distance'] = np.where((temp['fare_amount']>0)&(temp['trip_distance']==0), \n",
    "                                     (temp['fare_amount']-2.5)/2.5,\n",
    "                                     temp['trip_distance']) \n",
    "    \n",
    "    #calculating fare when there's distance \n",
    "    temp['fare_amount'] = np.where((temp['trip_distance']>0)&(temp['fare_amount']==0), \n",
    "                                   (temp['trip_distance']*2.5)+2.5,\n",
    "                                   temp['fare_amount'])\n",
    "    \n",
    "    #removing the columns with limited variables filtered above\n",
    "    temp = temp.drop(columns=['store_and_fwd_flag','payment_type','RatecodeID','trip_type',\n",
    "                              'lpep_dropoff_datetime','lpep_pickup_datetime','total_amount'])\n",
    "    temp.columns = temp.columns.str.lower()\n",
    "    trips = pd.concat([temp,trips])"
   ]
  },
  {
   "cell_type": "code",
   "execution_count": 8,
   "id": "e92610da-207d-4aca-b128-0d0da1d41363",
   "metadata": {
    "ExecuteTime": {
     "end_time": "2021-10-27T13:45:40.612064Z",
     "start_time": "2021-10-27T13:45:25.077156Z"
    }
   },
   "outputs": [],
   "source": [
    "trips = trips.merge(pu_zone,on='pulocationid',how='left')\n",
    "trips = trips.merge(do_zone,on='dolocationid',how='left')"
   ]
  },
  {
   "cell_type": "code",
   "execution_count": 9,
   "id": "cb9bf9cf-d499-43a9-9020-7c4bd8011c8f",
   "metadata": {
    "ExecuteTime": {
     "end_time": "2021-10-27T13:46:15.847327Z",
     "start_time": "2021-10-27T13:45:40.618017Z"
    }
   },
   "outputs": [],
   "source": [
    "#removing the pickup from unknown zone\n",
    "trips = trips.dropna(subset=['puzone'])\n",
    "trips = trips.loc[trips['puborough']!='Unknown']\n",
    "\n",
    "#removing the dropoff to unknown zone\n",
    "trips = trips.dropna(subset=['dozone'])\n",
    "trips = trips.loc[trips['doborough']!='Unknown']"
   ]
  },
  {
   "cell_type": "code",
   "execution_count": 46,
   "id": "fafcb986-1630-4de3-91ed-3417446fe42d",
   "metadata": {
    "ExecuteTime": {
     "end_time": "2021-10-27T13:46:17.699617Z",
     "start_time": "2021-10-27T13:46:15.852320Z"
    }
   },
   "outputs": [],
   "source": [
    "trips['year'] = trips['pickup_time'].dt.to_period(\"Y\")"
   ]
  },
  {
   "cell_type": "code",
   "execution_count": 47,
   "id": "d4c25a55-821f-40b4-b6b9-8f626ea6b286",
   "metadata": {
    "ExecuteTime": {
     "end_time": "2021-10-27T13:48:33.426636Z",
     "start_time": "2021-10-27T13:46:17.700604Z"
    }
   },
   "outputs": [],
   "source": [
    "trips['month'] = trips['pickup_time'].dt.strftime(\"%B\")"
   ]
  },
  {
   "cell_type": "code",
   "execution_count": 45,
   "id": "164c3205-f586-4dc4-a8fc-66b5d3a75c64",
   "metadata": {
    "ExecuteTime": {
     "end_time": "2021-10-27T13:53:11.142493Z",
     "start_time": "2021-10-27T13:50:48.214265Z"
    }
   },
   "outputs": [],
   "source": [
    "trips['week'] = trips['pickup_time'].dt.strftime(\"%V\")"
   ]
  },
  {
   "cell_type": "code",
   "execution_count": 49,
   "id": "b0fffc1a-c593-4638-90bd-13ceee16bf02",
   "metadata": {
    "ExecuteTime": {
     "end_time": "2021-10-27T13:53:11.145454Z",
     "start_time": "2021-10-27T13:42:26.147Z"
    }
   },
   "outputs": [],
   "source": [
    "trips['day_of_week_no'] = trips['pickup_time'].dt.dayofweek\n",
    "trips['day_of_week'] = trips['pickup_time'].dt.day_name()"
   ]
  },
  {
   "cell_type": "code",
   "execution_count": 50,
   "id": "8c9a6fce-3859-400a-ab44-c748c36f19c7",
   "metadata": {
    "ExecuteTime": {
     "end_time": "2021-10-27T13:53:11.146451Z",
     "start_time": "2021-10-27T13:42:26.148Z"
    }
   },
   "outputs": [],
   "source": [
    "trips['hour'] = trips['pickup_time'].dt.strftime(\"%H\")"
   ]
  },
  {
   "cell_type": "code",
   "execution_count": 51,
   "id": "f3db64b7",
   "metadata": {},
   "outputs": [
    {
     "data": {
      "text/html": [
       "<div>\n",
       "<style scoped>\n",
       "    .dataframe tbody tr th:only-of-type {\n",
       "        vertical-align: middle;\n",
       "    }\n",
       "\n",
       "    .dataframe tbody tr th {\n",
       "        vertical-align: top;\n",
       "    }\n",
       "\n",
       "    .dataframe thead th {\n",
       "        text-align: right;\n",
       "    }\n",
       "</style>\n",
       "<table border=\"1\" class=\"dataframe\">\n",
       "  <thead>\n",
       "    <tr style=\"text-align: right;\">\n",
       "      <th></th>\n",
       "      <th>vendorid</th>\n",
       "      <th>pulocationid</th>\n",
       "      <th>dolocationid</th>\n",
       "      <th>passenger_count</th>\n",
       "      <th>trip_distance</th>\n",
       "      <th>fare_amount</th>\n",
       "      <th>extra</th>\n",
       "      <th>mta_tax</th>\n",
       "      <th>tip_amount</th>\n",
       "      <th>tolls_amount</th>\n",
       "      <th>...</th>\n",
       "      <th>doborough</th>\n",
       "      <th>dozone</th>\n",
       "      <th>doservice_zone</th>\n",
       "      <th>week</th>\n",
       "      <th>year</th>\n",
       "      <th>month</th>\n",
       "      <th>month_no</th>\n",
       "      <th>day_of_week_no</th>\n",
       "      <th>day_of_week</th>\n",
       "      <th>hour</th>\n",
       "    </tr>\n",
       "  </thead>\n",
       "  <tbody>\n",
       "    <tr>\n",
       "      <th>0</th>\n",
       "      <td>2.0</td>\n",
       "      <td>74</td>\n",
       "      <td>75</td>\n",
       "      <td>1.0</td>\n",
       "      <td>1.47</td>\n",
       "      <td>6.5</td>\n",
       "      <td>0.0</td>\n",
       "      <td>0.5</td>\n",
       "      <td>0.0</td>\n",
       "      <td>0.0</td>\n",
       "      <td>...</td>\n",
       "      <td>Manhattan</td>\n",
       "      <td>East Harlem South</td>\n",
       "      <td>Boro Zone</td>\n",
       "      <td>01</td>\n",
       "      <td>2020</td>\n",
       "      <td>January</td>\n",
       "      <td>01</td>\n",
       "      <td>2</td>\n",
       "      <td>Wednesday</td>\n",
       "      <td>06</td>\n",
       "    </tr>\n",
       "    <tr>\n",
       "      <th>1</th>\n",
       "      <td>2.0</td>\n",
       "      <td>74</td>\n",
       "      <td>75</td>\n",
       "      <td>1.0</td>\n",
       "      <td>1.49</td>\n",
       "      <td>6.5</td>\n",
       "      <td>0.0</td>\n",
       "      <td>0.5</td>\n",
       "      <td>0.0</td>\n",
       "      <td>0.0</td>\n",
       "      <td>...</td>\n",
       "      <td>Manhattan</td>\n",
       "      <td>East Harlem South</td>\n",
       "      <td>Boro Zone</td>\n",
       "      <td>01</td>\n",
       "      <td>2020</td>\n",
       "      <td>January</td>\n",
       "      <td>01</td>\n",
       "      <td>2</td>\n",
       "      <td>Wednesday</td>\n",
       "      <td>13</td>\n",
       "    </tr>\n",
       "    <tr>\n",
       "      <th>2</th>\n",
       "      <td>2.0</td>\n",
       "      <td>74</td>\n",
       "      <td>75</td>\n",
       "      <td>1.0</td>\n",
       "      <td>1.31</td>\n",
       "      <td>6.5</td>\n",
       "      <td>0.0</td>\n",
       "      <td>0.5</td>\n",
       "      <td>0.0</td>\n",
       "      <td>0.0</td>\n",
       "      <td>...</td>\n",
       "      <td>Manhattan</td>\n",
       "      <td>East Harlem South</td>\n",
       "      <td>Boro Zone</td>\n",
       "      <td>01</td>\n",
       "      <td>2020</td>\n",
       "      <td>January</td>\n",
       "      <td>01</td>\n",
       "      <td>2</td>\n",
       "      <td>Wednesday</td>\n",
       "      <td>14</td>\n",
       "    </tr>\n",
       "    <tr>\n",
       "      <th>3</th>\n",
       "      <td>2.0</td>\n",
       "      <td>74</td>\n",
       "      <td>75</td>\n",
       "      <td>1.0</td>\n",
       "      <td>1.43</td>\n",
       "      <td>6.5</td>\n",
       "      <td>0.0</td>\n",
       "      <td>0.5</td>\n",
       "      <td>0.0</td>\n",
       "      <td>0.0</td>\n",
       "      <td>...</td>\n",
       "      <td>Manhattan</td>\n",
       "      <td>East Harlem South</td>\n",
       "      <td>Boro Zone</td>\n",
       "      <td>01</td>\n",
       "      <td>2020</td>\n",
       "      <td>January</td>\n",
       "      <td>01</td>\n",
       "      <td>3</td>\n",
       "      <td>Thursday</td>\n",
       "      <td>06</td>\n",
       "    </tr>\n",
       "    <tr>\n",
       "      <th>4</th>\n",
       "      <td>2.0</td>\n",
       "      <td>74</td>\n",
       "      <td>75</td>\n",
       "      <td>1.0</td>\n",
       "      <td>1.10</td>\n",
       "      <td>6.5</td>\n",
       "      <td>0.0</td>\n",
       "      <td>0.5</td>\n",
       "      <td>0.0</td>\n",
       "      <td>0.0</td>\n",
       "      <td>...</td>\n",
       "      <td>Manhattan</td>\n",
       "      <td>East Harlem South</td>\n",
       "      <td>Boro Zone</td>\n",
       "      <td>01</td>\n",
       "      <td>2020</td>\n",
       "      <td>January</td>\n",
       "      <td>01</td>\n",
       "      <td>3</td>\n",
       "      <td>Thursday</td>\n",
       "      <td>09</td>\n",
       "    </tr>\n",
       "  </tbody>\n",
       "</table>\n",
       "<p>5 rows × 28 columns</p>\n",
       "</div>"
      ],
      "text/plain": [
       "   vendorid  pulocationid  dolocationid  passenger_count  trip_distance  \\\n",
       "0       2.0            74            75              1.0           1.47   \n",
       "1       2.0            74            75              1.0           1.49   \n",
       "2       2.0            74            75              1.0           1.31   \n",
       "3       2.0            74            75              1.0           1.43   \n",
       "4       2.0            74            75              1.0           1.10   \n",
       "\n",
       "   fare_amount  extra  mta_tax  tip_amount  tolls_amount  ...  doborough  \\\n",
       "0          6.5    0.0      0.5         0.0           0.0  ...  Manhattan   \n",
       "1          6.5    0.0      0.5         0.0           0.0  ...  Manhattan   \n",
       "2          6.5    0.0      0.5         0.0           0.0  ...  Manhattan   \n",
       "3          6.5    0.0      0.5         0.0           0.0  ...  Manhattan   \n",
       "4          6.5    0.0      0.5         0.0           0.0  ...  Manhattan   \n",
       "\n",
       "              dozone doservice_zone week  year    month month_no  \\\n",
       "0  East Harlem South      Boro Zone   01  2020  January       01   \n",
       "1  East Harlem South      Boro Zone   01  2020  January       01   \n",
       "2  East Harlem South      Boro Zone   01  2020  January       01   \n",
       "3  East Harlem South      Boro Zone   01  2020  January       01   \n",
       "4  East Harlem South      Boro Zone   01  2020  January       01   \n",
       "\n",
       "  day_of_week_no day_of_week hour  \n",
       "0              2   Wednesday   06  \n",
       "1              2   Wednesday   13  \n",
       "2              2   Wednesday   14  \n",
       "3              3    Thursday   06  \n",
       "4              3    Thursday   09  \n",
       "\n",
       "[5 rows x 28 columns]"
      ]
     },
     "execution_count": 51,
     "metadata": {},
     "output_type": "execute_result"
    }
   ],
   "source": [
    "trips.head()"
   ]
  },
  {
   "cell_type": "markdown",
   "id": "a88a97b1",
   "metadata": {},
   "source": [
    "# Plotting"
   ]
  },
  {
   "cell_type": "markdown",
   "id": "b1764e78",
   "metadata": {},
   "source": [
    "## Drop-off locations "
   ]
  },
  {
   "cell_type": "code",
   "execution_count": 84,
   "id": "c0454620",
   "metadata": {
    "scrolled": false
   },
   "outputs": [
    {
     "data": {
      "application/vnd.plotly.v1+json": {
       "config": {
        "plotlyServerURL": "https://plot.ly"
       },
       "data": [
        {
         "branchvalues": "total",
         "customdata": [
          [
           "Bronx"
          ],
          [
           "Queens"
          ],
          [
           "Queens"
          ],
          [
           "Brooklyn"
          ],
          [
           "Queens"
          ],
          [
           "Bronx"
          ],
          [
           "Bronx"
          ],
          [
           "Brooklyn"
          ],
          [
           "Brooklyn"
          ],
          [
           "Brooklyn"
          ],
          [
           "Brooklyn"
          ],
          [
           "Brooklyn"
          ],
          [
           "Queens"
          ],
          [
           "Brooklyn"
          ],
          [
           "Manhattan"
          ],
          [
           "Manhattan"
          ],
          [
           "Manhattan"
          ],
          [
           "Staten Island"
          ],
          [
           "Manhattan"
          ],
          [
           "Brooklyn"
          ],
          [
           "Brooklyn"
          ],
          [
           "Brooklyn"
          ],
          [
           "Staten Island"
          ],
          [
           "Manhattan"
          ],
          [
           "Manhattan"
          ],
          [
           "Staten Island"
          ],
          [
           "Staten Island"
          ],
          [
           "Queens"
          ],
          [
           "Queens"
          ],
          [
           "Queens"
          ],
          [
           "Brooklyn"
          ],
          [
           "Manhattan"
          ],
          [
           "Queens"
          ],
          [
           "Brooklyn"
          ],
          [
           "Queens"
          ],
          [
           "Queens"
          ],
          [
           "Brooklyn"
          ],
          [
           "Bronx"
          ],
          [
           "Queens"
          ],
          [
           "Bronx"
          ],
          [
           "Brooklyn"
          ],
          [
           "Manhattan"
          ],
          [
           "Brooklyn"
          ],
          [
           "Brooklyn"
          ],
          [
           "Manhattan"
          ],
          [
           "Brooklyn"
          ],
          [
           "Manhattan"
          ],
          [
           "Manhattan"
          ],
          [
           "Queens"
          ],
          [
           "Queens"
          ],
          [
           "Staten Island"
          ],
          [
           "Queens"
          ],
          [
           "Bronx"
          ],
          [
           "Queens"
          ],
          [
           "Brooklyn"
          ],
          [
           "Brooklyn"
          ],
          [
           "Queens"
          ],
          [
           "Manhattan"
          ],
          [
           "Queens"
          ],
          [
           "Queens"
          ],
          [
           "Brooklyn"
          ],
          [
           "Queens"
          ],
          [
           "Staten Island"
          ],
          [
           "Manhattan"
          ],
          [
           "Queens"
          ],
          [
           "Queens"
          ],
          [
           "Brooklyn"
          ],
          [
           "Manhattan"
          ],
          [
           "Brooklyn"
          ],
          [
           "Staten Island"
          ],
          [
           "Manhattan"
          ],
          [
           "Bronx"
          ],
          [
           "Bronx"
          ],
          [
           "Brooklyn"
          ],
          [
           "Brooklyn"
          ],
          [
           "Brooklyn"
          ],
          [
           "Bronx"
          ],
          [
           "Bronx"
          ],
          [
           "Manhattan"
          ],
          [
           "Brooklyn"
          ],
          [
           "Manhattan"
          ],
          [
           "Bronx"
          ],
          [
           "Brooklyn"
          ],
          [
           "Brooklyn"
          ],
          [
           "Brooklyn"
          ],
          [
           "Queens"
          ],
          [
           "Bronx"
          ],
          [
           "Bronx"
          ],
          [
           "Bronx"
          ],
          [
           "Queens"
          ],
          [
           "Brooklyn"
          ],
          [
           "Brooklyn"
          ],
          [
           "Brooklyn"
          ],
          [
           "Queens"
          ],
          [
           "Brooklyn"
          ],
          [
           "Brooklyn"
          ],
          [
           "Manhattan"
          ],
          [
           "Manhattan"
          ],
          [
           "Bronx"
          ],
          [
           "Queens"
          ],
          [
           "Brooklyn"
          ],
          [
           "Brooklyn"
          ],
          [
           "Queens"
          ],
          [
           "Manhattan"
          ],
          [
           "Staten Island"
          ],
          [
           "Bronx"
          ],
          [
           "Bronx"
          ],
          [
           "Manhattan"
          ],
          [
           "Brooklyn"
          ],
          [
           "Brooklyn"
          ],
          [
           "Manhattan"
          ],
          [
           "Manhattan"
          ],
          [
           "Manhattan"
          ],
          [
           "Brooklyn"
          ],
          [
           "Brooklyn"
          ],
          [
           "Staten Island"
          ],
          [
           "Queens"
          ],
          [
           "Manhattan"
          ],
          [
           "Queens"
          ],
          [
           "Queens"
          ],
          [
           "Queens"
          ],
          [
           "Manhattan"
          ],
          [
           "Queens"
          ],
          [
           "Bronx"
          ],
          [
           "Queens"
          ],
          [
           "EWR"
          ],
          [
           "Staten Island"
          ],
          [
           "Queens"
          ],
          [
           "Manhattan"
          ],
          [
           "Manhattan"
          ],
          [
           "Bronx"
          ],
          [
           "Bronx"
          ],
          [
           "Manhattan"
          ],
          [
           "Brooklyn"
          ],
          [
           "Manhattan"
          ],
          [
           "Manhattan"
          ],
          [
           "Bronx"
          ],
          [
           "Manhattan"
          ],
          [
           "Queens"
          ],
          [
           "Manhattan"
          ],
          [
           "Queens"
          ],
          [
           "Brooklyn"
          ],
          [
           "Queens"
          ],
          [
           "Queens"
          ],
          [
           "Bronx"
          ],
          [
           "Staten Island"
          ],
          [
           "Manhattan"
          ],
          [
           "Queens"
          ],
          [
           "Staten Island"
          ],
          [
           "Manhattan"
          ],
          [
           "Manhattan"
          ],
          [
           "Brooklyn"
          ],
          [
           "Brooklyn"
          ],
          [
           "Manhattan"
          ],
          [
           "Manhattan"
          ],
          [
           "Bronx"
          ],
          [
           "Manhattan"
          ],
          [
           "Manhattan"
          ],
          [
           "Manhattan"
          ],
          [
           "Manhattan"
          ],
          [
           "Queens"
          ],
          [
           "Queens"
          ],
          [
           "Manhattan"
          ],
          [
           "Bronx"
          ],
          [
           "Queens"
          ],
          [
           "Manhattan"
          ],
          [
           "Brooklyn"
          ],
          [
           "Queens"
          ],
          [
           "Queens"
          ],
          [
           "Queens"
          ],
          [
           "Queens"
          ],
          [
           "Queens"
          ],
          [
           "Manhattan"
          ],
          [
           "Queens"
          ],
          [
           "Brooklyn"
          ],
          [
           "Staten Island"
          ],
          [
           "Bronx"
          ],
          [
           "Queens"
          ],
          [
           "Queens"
          ],
          [
           "Brooklyn"
          ],
          [
           "Bronx"
          ],
          [
           "Queens"
          ],
          [
           "Staten Island"
          ],
          [
           "Bronx"
          ],
          [
           "Brooklyn"
          ],
          [
           "Queens"
          ],
          [
           "Queens"
          ],
          [
           "Bronx"
          ],
          [
           "Brooklyn"
          ],
          [
           "Manhattan"
          ],
          [
           "Manhattan"
          ],
          [
           "Bronx"
          ],
          [
           "Bronx"
          ],
          [
           "Manhattan"
          ],
          [
           "Manhattan"
          ],
          [
           "Manhattan"
          ],
          [
           "Manhattan"
          ],
          [
           "Bronx"
          ],
          [
           "Manhattan"
          ],
          [
           "Manhattan"
          ],
          [
           "Manhattan"
          ],
          [
           "Manhattan"
          ],
          [
           "Manhattan"
          ],
          [
           "Manhattan"
          ],
          [
           "Brooklyn"
          ],
          [
           "Brooklyn"
          ],
          [
           "Queens"
          ],
          [
           "Bronx"
          ],
          [
           "Staten Island"
          ],
          [
           "Brooklyn"
          ],
          [
           "Brooklyn"
          ],
          [
           "Queens"
          ],
          [
           "Queens"
          ],
          [
           "Manhattan"
          ],
          [
           "Bronx"
          ],
          [
           "Bronx"
          ],
          [
           "Bronx"
          ],
          [
           "Bronx"
          ],
          [
           "Manhattan"
          ],
          [
           "Staten Island"
          ],
          [
           "Brooklyn"
          ],
          [
           "Brooklyn"
          ],
          [
           "Brooklyn"
          ],
          [
           "Brooklyn"
          ],
          [
           "Queens"
          ],
          [
           "Queens"
          ],
          [
           "Queens"
          ],
          [
           "Staten Island"
          ],
          [
           "Staten Island"
          ],
          [
           "Manhattan"
          ],
          [
           "Queens"
          ],
          [
           "Bronx"
          ],
          [
           "Queens"
          ],
          [
           "Queens"
          ],
          [
           "Queens"
          ],
          [
           "Queens"
          ],
          [
           "Brooklyn"
          ],
          [
           "Manhattan"
          ],
          [
           "Queens"
          ],
          [
           "Bronx"
          ],
          [
           "Bronx"
          ],
          [
           "Manhattan"
          ],
          [
           "Queens"
          ],
          [
           "Bronx"
          ],
          [
           "Queens"
          ],
          [
           "Brooklyn"
          ],
          [
           "Brooklyn"
          ],
          [
           "Brooklyn"
          ],
          [
           "Queens"
          ],
          [
           "Staten Island"
          ],
          [
           "Staten Island"
          ],
          [
           "Bronx"
          ],
          [
           "Manhattan"
          ],
          [
           "Bronx"
          ],
          [
           "Bronx"
          ],
          [
           "Manhattan"
          ],
          [
           "Manhattan"
          ],
          [
           "Manhattan"
          ],
          [
           "Queens"
          ],
          [
           "Manhattan"
          ],
          [
           "Bronx"
          ],
          [
           "Brooklyn"
          ],
          [
           "EWR"
          ],
          [
           "Manhattan"
          ],
          [
           "Queens"
          ],
          [
           "Staten Island"
          ]
         ],
         "domain": {
          "x": [
           0,
           1
          ],
          "y": [
           0,
           1
          ]
         },
         "hovertemplate": "labels=%{label}<br>pickup_time=%{value}<br>parent=%{parent}<br>id=%{id}<br>doborough=%{customdata[0]}<extra></extra>",
         "ids": [
          "Bronx/Allerton/Pelham Gardens",
          "Queens/Breezy Point/Fort Tilden/Riis Beach",
          "Queens/Briarwood/Jamaica Hills",
          "Brooklyn/Brighton Beach",
          "Queens/Broad Channel",
          "Bronx/Bronx Park",
          "Bronx/Bronxdale",
          "Brooklyn/Brooklyn Heights",
          "Brooklyn/Brooklyn Navy Yard",
          "Brooklyn/Borough Park",
          "Brooklyn/Brownsville",
          "Brooklyn/Bushwick South",
          "Queens/Cambria Heights",
          "Brooklyn/Carroll Gardens",
          "Manhattan/Central Harlem",
          "Manhattan/Central Harlem North",
          "Manhattan/Central Park",
          "Staten Island/Charleston/Tottenville",
          "Manhattan/Chinatown",
          "Brooklyn/Bushwick North",
          "Brooklyn/Boerum Hill",
          "Brooklyn/Canarsie",
          "Staten Island/Bloomfield/Emerson Hill",
          "Manhattan/Bloomingdale",
          "Manhattan/Alphabet City",
          "Staten Island/Arden Heights",
          "Staten Island/Arrochar/Fort Wadsworth",
          "Queens/Astoria Park",
          "Queens/Auburndale",
          "Queens/Baisley Park",
          "Brooklyn/Bath Beach",
          "Manhattan/Battery Park",
          "Queens/Astoria",
          "Brooklyn/Bay Ridge",
          "Queens/Bay Terrace/Fort Totten",
          "Queens/Bayside",
          "Brooklyn/Bedford",
          "Bronx/Bedford Park",
          "Queens/Bellerose",
          "Bronx/Belmont",
          "Brooklyn/Bensonhurst East",
          "Manhattan/Battery Park City",
          "Brooklyn/Bensonhurst West",
          "Brooklyn/Flatlands",
          "Manhattan/Flatiron",
          "Brooklyn/Flatbush/Ditmas Park",
          "Manhattan/Financial District South",
          "Manhattan/Financial District North",
          "Queens/Far Rockaway",
          "Queens/Elmhurst",
          "Staten Island/Eltingville/Annadale/Prince's Bay",
          "Queens/Elmhurst/Maspeth",
          "Bronx/Eastchester",
          "Queens/Flushing",
          "Brooklyn/East Williamsburg",
          "Brooklyn/Erasmus",
          "Queens/Flushing Meadows-Corona Park",
          "Manhattan/Governor's Island/Ellis Island/Liberty Island",
          "Queens/Forest Hills",
          "Queens/Forest Park/Highland Park",
          "Brooklyn/Fort Greene",
          "Queens/Fresh Meadows",
          "Staten Island/Freshkills Park",
          "Manhattan/Garment District",
          "Queens/Glen Oaks",
          "Queens/Glendale",
          "Brooklyn/Gowanus",
          "Manhattan/Gramercy",
          "Brooklyn/Gravesend",
          "Staten Island/Great Kills",
          "Manhattan/East Village",
          "Bronx/Fordham South",
          "Bronx/East Tremont",
          "Brooklyn/East Flatbush/Remsen Village",
          "Brooklyn/East New York",
          "Brooklyn/East New York/Pennsylvania Avenue",
          "Bronx/City Island",
          "Bronx/Claremont/Bathgate",
          "Manhattan/Clinton East",
          "Brooklyn/Clinton Hill",
          "Manhattan/Clinton West",
          "Bronx/Co-Op City",
          "Brooklyn/Cobble Hill",
          "Brooklyn/Columbia Street",
          "Brooklyn/Coney Island",
          "Queens/Corona",
          "Bronx/Country Club",
          "Bronx/Crotona Park",
          "Bronx/Crotona Park East",
          "Queens/College Point",
          "Brooklyn/Crown Heights South",
          "Brooklyn/Cypress Hills",
          "Brooklyn/DUMBO/Vinegar Hill",
          "Queens/Douglaston",
          "Brooklyn/Downtown Brooklyn/MetroTech",
          "Brooklyn/Dyker Heights",
          "Manhattan/East Harlem South",
          "Manhattan/East Chelsea",
          "Bronx/East Concourse/Concourse Village",
          "Queens/East Elmhurst",
          "Brooklyn/East Flatbush/Farragut",
          "Brooklyn/Crown Heights North",
          "Queens/East Flushing",
          "Manhattan/East Harlem North",
          "Staten Island/Great Kills Park",
          "Bronx/Melrose South",
          "Bronx/Longwood",
          "Manhattan/Lower East Side",
          "Brooklyn/Madison",
          "Brooklyn/Manhattan Beach",
          "Manhattan/Manhattan Valley",
          "Manhattan/Manhattanville",
          "Manhattan/Marble Hill",
          "Brooklyn/Marine Park/Floyd Bennett Field",
          "Brooklyn/Marine Park/Mill Basin",
          "Staten Island/Mariners Harbor",
          "Queens/Maspeth",
          "Manhattan/Meatpacking/West Village West",
          "Queens/Long Island City/Queens Plaza",
          "Queens/Middle Village",
          "Queens/Oakland Gardens",
          "Manhattan/Midtown East",
          "Queens/Long Island City/Hunters Point",
          "Bronx/Norwood",
          "Queens/North Corona",
          "EWR/Newark Airport",
          "Staten Island/New Dorp/Midland Beach",
          "Queens/Murray Hill-Queens",
          "Manhattan/Midtown Center",
          "Manhattan/Murray Hill",
          "Bronx/Mott Haven/Port Morris",
          "Bronx/Morrisania/Melrose",
          "Manhattan/Morningside Heights",
          "Brooklyn/Midwood",
          "Manhattan/Midtown South",
          "Manhattan/Midtown North",
          "Bronx/Mount Hope",
          "Manhattan/Little Italy/NoLiTa",
          "Queens/Kew Gardens",
          "Manhattan/Lincoln Square East",
          "Queens/Howard Beach",
          "Brooklyn/Homecrest",
          "Queens/Hollis",
          "Queens/Hillcrest/Pomonok",
          "Bronx/Highbridge",
          "Staten Island/Heartland Village/Todt Hill",
          "Manhattan/Hudson Sq",
          "Queens/Hammels/Arverne",
          "Staten Island/Grymes Hill/Clifton",
          "Manhattan/Greenwich Village South",
          "Manhattan/Greenwich Village North",
          "Brooklyn/Greenpoint",
          "Brooklyn/Green-Wood Cemetery",
          "Manhattan/Lincoln Square West",
          "Manhattan/Hamilton Heights",
          "Bronx/Hunts Point",
          "Manhattan/Highbridge Park",
          "Manhattan/Inwood Hill Park",
          "Manhattan/Lenox Hill West",
          "Manhattan/Inwood",
          "Queens/Laurelton",
          "Queens/LaGuardia Airport",
          "Manhattan/Kips Bay",
          "Bronx/Kingsbridge Heights",
          "Queens/Kew Gardens Hills",
          "Manhattan/Lenox Hill East",
          "Brooklyn/Kensington",
          "Queens/Jamaica Estates",
          "Queens/Jamaica Bay",
          "Queens/Jamaica",
          "Queens/Jackson Heights",
          "Queens/JFK Airport",
          "Manhattan/Stuy Town/Peter Cooper Village",
          "Queens/Steinway",
          "Brooklyn/Starrett City",
          "Staten Island/Stapleton",
          "Bronx/Spuyten Duyvil/Kingsbridge",
          "Queens/Springfield Gardens South",
          "Queens/South Ozone Park",
          "Brooklyn/South Williamsburg",
          "Bronx/Soundview/Bruckner",
          "Queens/South Jamaica",
          "Staten Island/South Beach/Dongan Hills",
          "Bronx/Soundview/Castle Hill",
          "Brooklyn/Stuyvesant Heights",
          "Queens/Springfield Gardens North",
          "Queens/Sunnyside",
          "Bronx/Van Nest/Morris Park",
          "Brooklyn/Sunset Park West",
          "Manhattan/Washington Heights North",
          "Manhattan/SoHo",
          "Bronx/Van Cortlandt Village",
          "Bronx/Van Cortlandt Park",
          "Manhattan/Upper West Side South",
          "Manhattan/Upper West Side North",
          "Manhattan/Upper East Side South",
          "Manhattan/Upper East Side North",
          "Bronx/University Heights/Morris Heights",
          "Manhattan/Union Sq",
          "Manhattan/UN/Turtle Bay South",
          "Manhattan/Two Bridges/Seward Park",
          "Manhattan/TriBeCa/Civic Center",
          "Manhattan/Times Sq/Theatre District",
          "Manhattan/Sutton Place/Turtle Bay North",
          "Brooklyn/Sunset Park East",
          "Brooklyn/Sheepshead Bay",
          "Queens/Rosedale",
          "Bronx/Schuylerville/Edgewater Park",
          "Staten Island/Oakwood",
          "Brooklyn/Ocean Hill",
          "Brooklyn/Ocean Parkway South",
          "Queens/Old Astoria",
          "Queens/Ozone Park",
          "Manhattan/Seaport",
          "Bronx/Parkchester",
          "Bronx/Pelham Bay",
          "Bronx/Pelham Bay Park",
          "Bronx/Pelham Parkway",
          "Manhattan/Penn Station/Madison Sq West",
          "Staten Island/Port Richmond",
          "Brooklyn/Prospect Heights",
          "Brooklyn/Prospect Park",
          "Brooklyn/Prospect-Lefferts Gardens",
          "Brooklyn/Park Slope",
          "Queens/Queensboro Hill",
          "Queens/Queens Village",
          "Queens/Saint Michaels Cemetery/Woodside",
          "Staten Island/Saint George/New Brighton",
          "Staten Island/Rossville/Woodrow",
          "Manhattan/Roosevelt Island",
          "Queens/Rockaway Park",
          "Bronx/Riverdale/North Riverdale/Fieldston",
          "Queens/Saint Albans",
          "Queens/Ridgewood",
          "Queens/Richmond Hill",
          "Queens/Rego Park",
          "Brooklyn/Red Hook",
          "Manhattan/Randalls Island",
          "Queens/Queensbridge/Ravenswood",
          "Bronx/Rikers Island",
          "Bronx/Williamsbridge/Olinville",
          "Manhattan/World Trade Center",
          "Queens/Woodside",
          "Bronx/Woodlawn/Wakefield",
          "Queens/Woodhaven",
          "Brooklyn/Windsor Terrace",
          "Brooklyn/Williamsburg (South Side)",
          "Brooklyn/Williamsburg (North Side)",
          "Queens/Willets Point",
          "Staten Island/West Brighton",
          "Staten Island/Westerleigh",
          "Bronx/Westchester Village/Unionport",
          "Manhattan/West Village",
          "Bronx/West Farms/Bronx River",
          "Bronx/West Concourse",
          "Manhattan/West Chelsea/Hudson Yards",
          "Manhattan/Washington Heights South",
          "Manhattan/Yorkville East",
          "Queens/Whitestone",
          "Manhattan/Yorkville West",
          "Bronx",
          "Brooklyn",
          "EWR",
          "Manhattan",
          "Queens",
          "Staten Island"
         ],
         "labels": [
          "Allerton/Pelham Gardens",
          "Breezy Point/Fort Tilden/Riis Beach",
          "Briarwood/Jamaica Hills",
          "Brighton Beach",
          "Broad Channel",
          "Bronx Park",
          "Bronxdale",
          "Brooklyn Heights",
          "Brooklyn Navy Yard",
          "Borough Park",
          "Brownsville",
          "Bushwick South",
          "Cambria Heights",
          "Carroll Gardens",
          "Central Harlem",
          "Central Harlem North",
          "Central Park",
          "Charleston/Tottenville",
          "Chinatown",
          "Bushwick North",
          "Boerum Hill",
          "Canarsie",
          "Bloomfield/Emerson Hill",
          "Bloomingdale",
          "Alphabet City",
          "Arden Heights",
          "Arrochar/Fort Wadsworth",
          "Astoria Park",
          "Auburndale",
          "Baisley Park",
          "Bath Beach",
          "Battery Park",
          "Astoria",
          "Bay Ridge",
          "Bay Terrace/Fort Totten",
          "Bayside",
          "Bedford",
          "Bedford Park",
          "Bellerose",
          "Belmont",
          "Bensonhurst East",
          "Battery Park City",
          "Bensonhurst West",
          "Flatlands",
          "Flatiron",
          "Flatbush/Ditmas Park",
          "Financial District South",
          "Financial District North",
          "Far Rockaway",
          "Elmhurst",
          "Eltingville/Annadale/Prince's Bay",
          "Elmhurst/Maspeth",
          "Eastchester",
          "Flushing",
          "East Williamsburg",
          "Erasmus",
          "Flushing Meadows-Corona Park",
          "Governor's Island/Ellis Island/Liberty Island",
          "Forest Hills",
          "Forest Park/Highland Park",
          "Fort Greene",
          "Fresh Meadows",
          "Freshkills Park",
          "Garment District",
          "Glen Oaks",
          "Glendale",
          "Gowanus",
          "Gramercy",
          "Gravesend",
          "Great Kills",
          "East Village",
          "Fordham South",
          "East Tremont",
          "East Flatbush/Remsen Village",
          "East New York",
          "East New York/Pennsylvania Avenue",
          "City Island",
          "Claremont/Bathgate",
          "Clinton East",
          "Clinton Hill",
          "Clinton West",
          "Co-Op City",
          "Cobble Hill",
          "Columbia Street",
          "Coney Island",
          "Corona",
          "Country Club",
          "Crotona Park",
          "Crotona Park East",
          "College Point",
          "Crown Heights South",
          "Cypress Hills",
          "DUMBO/Vinegar Hill",
          "Douglaston",
          "Downtown Brooklyn/MetroTech",
          "Dyker Heights",
          "East Harlem South",
          "East Chelsea",
          "East Concourse/Concourse Village",
          "East Elmhurst",
          "East Flatbush/Farragut",
          "Crown Heights North",
          "East Flushing",
          "East Harlem North",
          "Great Kills Park",
          "Melrose South",
          "Longwood",
          "Lower East Side",
          "Madison",
          "Manhattan Beach",
          "Manhattan Valley",
          "Manhattanville",
          "Marble Hill",
          "Marine Park/Floyd Bennett Field",
          "Marine Park/Mill Basin",
          "Mariners Harbor",
          "Maspeth",
          "Meatpacking/West Village West",
          "Long Island City/Queens Plaza",
          "Middle Village",
          "Oakland Gardens",
          "Midtown East",
          "Long Island City/Hunters Point",
          "Norwood",
          "North Corona",
          "Newark Airport",
          "New Dorp/Midland Beach",
          "Murray Hill-Queens",
          "Midtown Center",
          "Murray Hill",
          "Mott Haven/Port Morris",
          "Morrisania/Melrose",
          "Morningside Heights",
          "Midwood",
          "Midtown South",
          "Midtown North",
          "Mount Hope",
          "Little Italy/NoLiTa",
          "Kew Gardens",
          "Lincoln Square East",
          "Howard Beach",
          "Homecrest",
          "Hollis",
          "Hillcrest/Pomonok",
          "Highbridge",
          "Heartland Village/Todt Hill",
          "Hudson Sq",
          "Hammels/Arverne",
          "Grymes Hill/Clifton",
          "Greenwich Village South",
          "Greenwich Village North",
          "Greenpoint",
          "Green-Wood Cemetery",
          "Lincoln Square West",
          "Hamilton Heights",
          "Hunts Point",
          "Highbridge Park",
          "Inwood Hill Park",
          "Lenox Hill West",
          "Inwood",
          "Laurelton",
          "LaGuardia Airport",
          "Kips Bay",
          "Kingsbridge Heights",
          "Kew Gardens Hills",
          "Lenox Hill East",
          "Kensington",
          "Jamaica Estates",
          "Jamaica Bay",
          "Jamaica",
          "Jackson Heights",
          "JFK Airport",
          "Stuy Town/Peter Cooper Village",
          "Steinway",
          "Starrett City",
          "Stapleton",
          "Spuyten Duyvil/Kingsbridge",
          "Springfield Gardens South",
          "South Ozone Park",
          "South Williamsburg",
          "Soundview/Bruckner",
          "South Jamaica",
          "South Beach/Dongan Hills",
          "Soundview/Castle Hill",
          "Stuyvesant Heights",
          "Springfield Gardens North",
          "Sunnyside",
          "Van Nest/Morris Park",
          "Sunset Park West",
          "Washington Heights North",
          "SoHo",
          "Van Cortlandt Village",
          "Van Cortlandt Park",
          "Upper West Side South",
          "Upper West Side North",
          "Upper East Side South",
          "Upper East Side North",
          "University Heights/Morris Heights",
          "Union Sq",
          "UN/Turtle Bay South",
          "Two Bridges/Seward Park",
          "TriBeCa/Civic Center",
          "Times Sq/Theatre District",
          "Sutton Place/Turtle Bay North",
          "Sunset Park East",
          "Sheepshead Bay",
          "Rosedale",
          "Schuylerville/Edgewater Park",
          "Oakwood",
          "Ocean Hill",
          "Ocean Parkway South",
          "Old Astoria",
          "Ozone Park",
          "Seaport",
          "Parkchester",
          "Pelham Bay",
          "Pelham Bay Park",
          "Pelham Parkway",
          "Penn Station/Madison Sq West",
          "Port Richmond",
          "Prospect Heights",
          "Prospect Park",
          "Prospect-Lefferts Gardens",
          "Park Slope",
          "Queensboro Hill",
          "Queens Village",
          "Saint Michaels Cemetery/Woodside",
          "Saint George/New Brighton",
          "Rossville/Woodrow",
          "Roosevelt Island",
          "Rockaway Park",
          "Riverdale/North Riverdale/Fieldston",
          "Saint Albans",
          "Ridgewood",
          "Richmond Hill",
          "Rego Park",
          "Red Hook",
          "Randalls Island",
          "Queensbridge/Ravenswood",
          "Rikers Island",
          "Williamsbridge/Olinville",
          "World Trade Center",
          "Woodside",
          "Woodlawn/Wakefield",
          "Woodhaven",
          "Windsor Terrace",
          "Williamsburg (South Side)",
          "Williamsburg (North Side)",
          "Willets Point",
          "West Brighton",
          "Westerleigh",
          "Westchester Village/Unionport",
          "West Village",
          "West Farms/Bronx River",
          "West Concourse",
          "West Chelsea/Hudson Yards",
          "Washington Heights South",
          "Yorkville East",
          "Whitestone",
          "Yorkville West",
          "Bronx",
          "Brooklyn",
          "EWR",
          "Manhattan",
          "Queens",
          "Staten Island"
         ],
         "marker": {
          "colors": [
           "#F7DBF0",
           "#949db9",
           "#949db9",
           "#F3F0D7",
           "#949db9",
           "#F7DBF0",
           "#F7DBF0",
           "#F3F0D7",
           "#F3F0D7",
           "#F3F0D7",
           "#F3F0D7",
           "#F3F0D7",
           "#949db9",
           "#F3F0D7",
           "#CDF0EA",
           "#CDF0EA",
           "#CDF0EA",
           "#FFA15A",
           "#CDF0EA",
           "#F3F0D7",
           "#F3F0D7",
           "#F3F0D7",
           "#FFA15A",
           "#CDF0EA",
           "#CDF0EA",
           "#FFA15A",
           "#FFA15A",
           "#949db9",
           "#949db9",
           "#949db9",
           "#F3F0D7",
           "#CDF0EA",
           "#949db9",
           "#F3F0D7",
           "#949db9",
           "#949db9",
           "#F3F0D7",
           "#F7DBF0",
           "#949db9",
           "#F7DBF0",
           "#F3F0D7",
           "#CDF0EA",
           "#F3F0D7",
           "#F3F0D7",
           "#CDF0EA",
           "#F3F0D7",
           "#CDF0EA",
           "#CDF0EA",
           "#949db9",
           "#949db9",
           "#FFA15A",
           "#949db9",
           "#F7DBF0",
           "#949db9",
           "#F3F0D7",
           "#F3F0D7",
           "#949db9",
           "#CDF0EA",
           "#949db9",
           "#949db9",
           "#F3F0D7",
           "#949db9",
           "#FFA15A",
           "#CDF0EA",
           "#949db9",
           "#949db9",
           "#F3F0D7",
           "#CDF0EA",
           "#F3F0D7",
           "#FFA15A",
           "#CDF0EA",
           "#F7DBF0",
           "#F7DBF0",
           "#F3F0D7",
           "#F3F0D7",
           "#F3F0D7",
           "#F7DBF0",
           "#F7DBF0",
           "#CDF0EA",
           "#F3F0D7",
           "#CDF0EA",
           "#F7DBF0",
           "#F3F0D7",
           "#F3F0D7",
           "#F3F0D7",
           "#949db9",
           "#F7DBF0",
           "#F7DBF0",
           "#F7DBF0",
           "#949db9",
           "#F3F0D7",
           "#F3F0D7",
           "#F3F0D7",
           "#949db9",
           "#F3F0D7",
           "#F3F0D7",
           "#CDF0EA",
           "#CDF0EA",
           "#F7DBF0",
           "#949db9",
           "#F3F0D7",
           "#F3F0D7",
           "#949db9",
           "#CDF0EA",
           "#FFA15A",
           "#F7DBF0",
           "#F7DBF0",
           "#CDF0EA",
           "#F3F0D7",
           "#F3F0D7",
           "#CDF0EA",
           "#CDF0EA",
           "#CDF0EA",
           "#F3F0D7",
           "#F3F0D7",
           "#FFA15A",
           "#949db9",
           "#CDF0EA",
           "#949db9",
           "#949db9",
           "#949db9",
           "#CDF0EA",
           "#949db9",
           "#F7DBF0",
           "#949db9",
           "#19d3f3",
           "#FFA15A",
           "#949db9",
           "#CDF0EA",
           "#CDF0EA",
           "#F7DBF0",
           "#F7DBF0",
           "#CDF0EA",
           "#F3F0D7",
           "#CDF0EA",
           "#CDF0EA",
           "#F7DBF0",
           "#CDF0EA",
           "#949db9",
           "#CDF0EA",
           "#949db9",
           "#F3F0D7",
           "#949db9",
           "#949db9",
           "#F7DBF0",
           "#FFA15A",
           "#CDF0EA",
           "#949db9",
           "#FFA15A",
           "#CDF0EA",
           "#CDF0EA",
           "#F3F0D7",
           "#F3F0D7",
           "#CDF0EA",
           "#CDF0EA",
           "#F7DBF0",
           "#CDF0EA",
           "#CDF0EA",
           "#CDF0EA",
           "#CDF0EA",
           "#949db9",
           "#949db9",
           "#CDF0EA",
           "#F7DBF0",
           "#949db9",
           "#CDF0EA",
           "#F3F0D7",
           "#949db9",
           "#949db9",
           "#949db9",
           "#949db9",
           "#949db9",
           "#CDF0EA",
           "#949db9",
           "#F3F0D7",
           "#FFA15A",
           "#F7DBF0",
           "#949db9",
           "#949db9",
           "#F3F0D7",
           "#F7DBF0",
           "#949db9",
           "#FFA15A",
           "#F7DBF0",
           "#F3F0D7",
           "#949db9",
           "#949db9",
           "#F7DBF0",
           "#F3F0D7",
           "#CDF0EA",
           "#CDF0EA",
           "#F7DBF0",
           "#F7DBF0",
           "#CDF0EA",
           "#CDF0EA",
           "#CDF0EA",
           "#CDF0EA",
           "#F7DBF0",
           "#CDF0EA",
           "#CDF0EA",
           "#CDF0EA",
           "#CDF0EA",
           "#CDF0EA",
           "#CDF0EA",
           "#F3F0D7",
           "#F3F0D7",
           "#949db9",
           "#F7DBF0",
           "#FFA15A",
           "#F3F0D7",
           "#F3F0D7",
           "#949db9",
           "#949db9",
           "#CDF0EA",
           "#F7DBF0",
           "#F7DBF0",
           "#F7DBF0",
           "#F7DBF0",
           "#CDF0EA",
           "#FFA15A",
           "#F3F0D7",
           "#F3F0D7",
           "#F3F0D7",
           "#F3F0D7",
           "#949db9",
           "#949db9",
           "#949db9",
           "#FFA15A",
           "#FFA15A",
           "#CDF0EA",
           "#949db9",
           "#F7DBF0",
           "#949db9",
           "#949db9",
           "#949db9",
           "#949db9",
           "#F3F0D7",
           "#CDF0EA",
           "#949db9",
           "#F7DBF0",
           "#F7DBF0",
           "#CDF0EA",
           "#949db9",
           "#F7DBF0",
           "#949db9",
           "#F3F0D7",
           "#F3F0D7",
           "#F3F0D7",
           "#949db9",
           "#FFA15A",
           "#FFA15A",
           "#F7DBF0",
           "#CDF0EA",
           "#F7DBF0",
           "#F7DBF0",
           "#CDF0EA",
           "#CDF0EA",
           "#CDF0EA",
           "#949db9",
           "#CDF0EA",
           "#F7DBF0",
           "#F3F0D7",
           "#19d3f3",
           "#CDF0EA",
           "#949db9",
           "#FFA15A"
          ]
         },
         "name": "",
         "parents": [
          "Bronx",
          "Queens",
          "Queens",
          "Brooklyn",
          "Queens",
          "Bronx",
          "Bronx",
          "Brooklyn",
          "Brooklyn",
          "Brooklyn",
          "Brooklyn",
          "Brooklyn",
          "Queens",
          "Brooklyn",
          "Manhattan",
          "Manhattan",
          "Manhattan",
          "Staten Island",
          "Manhattan",
          "Brooklyn",
          "Brooklyn",
          "Brooklyn",
          "Staten Island",
          "Manhattan",
          "Manhattan",
          "Staten Island",
          "Staten Island",
          "Queens",
          "Queens",
          "Queens",
          "Brooklyn",
          "Manhattan",
          "Queens",
          "Brooklyn",
          "Queens",
          "Queens",
          "Brooklyn",
          "Bronx",
          "Queens",
          "Bronx",
          "Brooklyn",
          "Manhattan",
          "Brooklyn",
          "Brooklyn",
          "Manhattan",
          "Brooklyn",
          "Manhattan",
          "Manhattan",
          "Queens",
          "Queens",
          "Staten Island",
          "Queens",
          "Bronx",
          "Queens",
          "Brooklyn",
          "Brooklyn",
          "Queens",
          "Manhattan",
          "Queens",
          "Queens",
          "Brooklyn",
          "Queens",
          "Staten Island",
          "Manhattan",
          "Queens",
          "Queens",
          "Brooklyn",
          "Manhattan",
          "Brooklyn",
          "Staten Island",
          "Manhattan",
          "Bronx",
          "Bronx",
          "Brooklyn",
          "Brooklyn",
          "Brooklyn",
          "Bronx",
          "Bronx",
          "Manhattan",
          "Brooklyn",
          "Manhattan",
          "Bronx",
          "Brooklyn",
          "Brooklyn",
          "Brooklyn",
          "Queens",
          "Bronx",
          "Bronx",
          "Bronx",
          "Queens",
          "Brooklyn",
          "Brooklyn",
          "Brooklyn",
          "Queens",
          "Brooklyn",
          "Brooklyn",
          "Manhattan",
          "Manhattan",
          "Bronx",
          "Queens",
          "Brooklyn",
          "Brooklyn",
          "Queens",
          "Manhattan",
          "Staten Island",
          "Bronx",
          "Bronx",
          "Manhattan",
          "Brooklyn",
          "Brooklyn",
          "Manhattan",
          "Manhattan",
          "Manhattan",
          "Brooklyn",
          "Brooklyn",
          "Staten Island",
          "Queens",
          "Manhattan",
          "Queens",
          "Queens",
          "Queens",
          "Manhattan",
          "Queens",
          "Bronx",
          "Queens",
          "EWR",
          "Staten Island",
          "Queens",
          "Manhattan",
          "Manhattan",
          "Bronx",
          "Bronx",
          "Manhattan",
          "Brooklyn",
          "Manhattan",
          "Manhattan",
          "Bronx",
          "Manhattan",
          "Queens",
          "Manhattan",
          "Queens",
          "Brooklyn",
          "Queens",
          "Queens",
          "Bronx",
          "Staten Island",
          "Manhattan",
          "Queens",
          "Staten Island",
          "Manhattan",
          "Manhattan",
          "Brooklyn",
          "Brooklyn",
          "Manhattan",
          "Manhattan",
          "Bronx",
          "Manhattan",
          "Manhattan",
          "Manhattan",
          "Manhattan",
          "Queens",
          "Queens",
          "Manhattan",
          "Bronx",
          "Queens",
          "Manhattan",
          "Brooklyn",
          "Queens",
          "Queens",
          "Queens",
          "Queens",
          "Queens",
          "Manhattan",
          "Queens",
          "Brooklyn",
          "Staten Island",
          "Bronx",
          "Queens",
          "Queens",
          "Brooklyn",
          "Bronx",
          "Queens",
          "Staten Island",
          "Bronx",
          "Brooklyn",
          "Queens",
          "Queens",
          "Bronx",
          "Brooklyn",
          "Manhattan",
          "Manhattan",
          "Bronx",
          "Bronx",
          "Manhattan",
          "Manhattan",
          "Manhattan",
          "Manhattan",
          "Bronx",
          "Manhattan",
          "Manhattan",
          "Manhattan",
          "Manhattan",
          "Manhattan",
          "Manhattan",
          "Brooklyn",
          "Brooklyn",
          "Queens",
          "Bronx",
          "Staten Island",
          "Brooklyn",
          "Brooklyn",
          "Queens",
          "Queens",
          "Manhattan",
          "Bronx",
          "Bronx",
          "Bronx",
          "Bronx",
          "Manhattan",
          "Staten Island",
          "Brooklyn",
          "Brooklyn",
          "Brooklyn",
          "Brooklyn",
          "Queens",
          "Queens",
          "Queens",
          "Staten Island",
          "Staten Island",
          "Manhattan",
          "Queens",
          "Bronx",
          "Queens",
          "Queens",
          "Queens",
          "Queens",
          "Brooklyn",
          "Manhattan",
          "Queens",
          "Bronx",
          "Bronx",
          "Manhattan",
          "Queens",
          "Bronx",
          "Queens",
          "Brooklyn",
          "Brooklyn",
          "Brooklyn",
          "Queens",
          "Staten Island",
          "Staten Island",
          "Bronx",
          "Manhattan",
          "Bronx",
          "Bronx",
          "Manhattan",
          "Manhattan",
          "Manhattan",
          "Queens",
          "Manhattan",
          "",
          "",
          "",
          "",
          "",
          ""
         ],
         "type": "sunburst",
         "values": [
          15332,
          860,
          109745,
          24686,
          325,
          7190,
          20452,
          306079,
          28341,
          43682,
          69914,
          178964,
          10854,
          199515,
          825188,
          915492,
          153724,
          306,
          37216,
          112128,
          284503,
          54077,
          1000,
          127418,
          31280,
          320,
          476,
          4093,
          12709,
          56756,
          11075,
          1681,
          797293,
          81258,
          8887,
          17776,
          315581,
          41112,
          10390,
          25441,
          21706,
          34030,
          28423,
          52706,
          43531,
          139231,
          29289,
          48976,
          7846,
          493161,
          182,
          185962,
          18064,
          97651,
          178407,
          40601,
          26232,
          6,
          390082,
          7275,
          413933,
          15309,
          33,
          39974,
          6375,
          51180,
          106058,
          68453,
          19676,
          277,
          99551,
          20223,
          35784,
          54197,
          92023,
          28229,
          2599,
          38356,
          114944,
          367793,
          48213,
          32345,
          121851,
          61096,
          50498,
          222966,
          2080,
          1953,
          20222,
          39403,
          92840,
          23700,
          149621,
          4643,
          206727,
          17571,
          644667,
          72002,
          111607,
          118919,
          51971,
          405927,
          18554,
          955946,
          1,
          96571,
          25750,
          82533,
          19920,
          24717,
          258318,
          261557,
          11001,
          2365,
          28786,
          1614,
          143054,
          27415,
          136694,
          92143,
          11069,
          108166,
          208807,
          35778,
          190672,
          1472,
          323,
          31405,
          108693,
          88348,
          154637,
          50790,
          531468,
          33229,
          58293,
          76365,
          52016,
          53058,
          113790,
          162320,
          10721,
          29657,
          15411,
          80081,
          60662,
          724,
          21042,
          10847,
          1483,
          37850,
          42428,
          315852,
          2763,
          75605,
          377082,
          29840,
          7163,
          8831,
          142990,
          83538,
          12023,
          303826,
          62361,
          36865,
          99382,
          135803,
          42326,
          35425,
          65,
          110504,
          727796,
          104227,
          15907,
          466737,
          16501,
          1161,
          44328,
          16785,
          100551,
          47708,
          27619,
          67448,
          526,
          54851,
          225702,
          28254,
          357695,
          49484,
          121878,
          171326,
          29158,
          33249,
          5781,
          241885,
          382352,
          177174,
          396456,
          60848,
          68856,
          66568,
          44602,
          103080,
          82108,
          73006,
          45935,
          60380,
          9648,
          28507,
          161,
          68208,
          9641,
          288273,
          11293,
          25143,
          37236,
          9276,
          1920,
          27474,
          71449,
          495,
          173733,
          37216,
          157452,
          583947,
          30594,
          30465,
          6797,
          1310,
          142,
          16641,
          3595,
          20581,
          52317,
          88321,
          111895,
          137628,
          121072,
          10920,
          131616,
          6,
          33575,
          26890,
          347591,
          15764,
          55847,
          69212,
          219401,
          235373,
          1930,
          457,
          616,
          25917,
          45582,
          22064,
          115960,
          55551,
          380733,
          123272,
          23117,
          269571,
          1550109,
          7127562,
          1472,
          9992039,
          7521585,
          11607
         ]
        }
       ],
       "layout": {
        "font": {
         "color": "white",
         "family": "Roboto",
         "size": 10
        },
        "hovermode": "x",
        "legend": {
         "tracegroupgap": 0
        },
        "margin": {
         "t": 60
        },
        "paper_bgcolor": "black",
        "plot_bgcolor": "black",
        "template": {
         "data": {
          "bar": [
           {
            "error_x": {
             "color": "#2a3f5f"
            },
            "error_y": {
             "color": "#2a3f5f"
            },
            "marker": {
             "line": {
              "color": "#E5ECF6",
              "width": 0.5
             }
            },
            "type": "bar"
           }
          ],
          "barpolar": [
           {
            "marker": {
             "line": {
              "color": "#E5ECF6",
              "width": 0.5
             }
            },
            "type": "barpolar"
           }
          ],
          "carpet": [
           {
            "aaxis": {
             "endlinecolor": "#2a3f5f",
             "gridcolor": "white",
             "linecolor": "white",
             "minorgridcolor": "white",
             "startlinecolor": "#2a3f5f"
            },
            "baxis": {
             "endlinecolor": "#2a3f5f",
             "gridcolor": "white",
             "linecolor": "white",
             "minorgridcolor": "white",
             "startlinecolor": "#2a3f5f"
            },
            "type": "carpet"
           }
          ],
          "choropleth": [
           {
            "colorbar": {
             "outlinewidth": 0,
             "ticks": ""
            },
            "type": "choropleth"
           }
          ],
          "contour": [
           {
            "colorbar": {
             "outlinewidth": 0,
             "ticks": ""
            },
            "colorscale": [
             [
              0,
              "#0d0887"
             ],
             [
              0.1111111111111111,
              "#46039f"
             ],
             [
              0.2222222222222222,
              "#7201a8"
             ],
             [
              0.3333333333333333,
              "#9c179e"
             ],
             [
              0.4444444444444444,
              "#bd3786"
             ],
             [
              0.5555555555555556,
              "#d8576b"
             ],
             [
              0.6666666666666666,
              "#ed7953"
             ],
             [
              0.7777777777777778,
              "#fb9f3a"
             ],
             [
              0.8888888888888888,
              "#fdca26"
             ],
             [
              1,
              "#f0f921"
             ]
            ],
            "type": "contour"
           }
          ],
          "contourcarpet": [
           {
            "colorbar": {
             "outlinewidth": 0,
             "ticks": ""
            },
            "type": "contourcarpet"
           }
          ],
          "heatmap": [
           {
            "colorbar": {
             "outlinewidth": 0,
             "ticks": ""
            },
            "colorscale": [
             [
              0,
              "#0d0887"
             ],
             [
              0.1111111111111111,
              "#46039f"
             ],
             [
              0.2222222222222222,
              "#7201a8"
             ],
             [
              0.3333333333333333,
              "#9c179e"
             ],
             [
              0.4444444444444444,
              "#bd3786"
             ],
             [
              0.5555555555555556,
              "#d8576b"
             ],
             [
              0.6666666666666666,
              "#ed7953"
             ],
             [
              0.7777777777777778,
              "#fb9f3a"
             ],
             [
              0.8888888888888888,
              "#fdca26"
             ],
             [
              1,
              "#f0f921"
             ]
            ],
            "type": "heatmap"
           }
          ],
          "heatmapgl": [
           {
            "colorbar": {
             "outlinewidth": 0,
             "ticks": ""
            },
            "colorscale": [
             [
              0,
              "#0d0887"
             ],
             [
              0.1111111111111111,
              "#46039f"
             ],
             [
              0.2222222222222222,
              "#7201a8"
             ],
             [
              0.3333333333333333,
              "#9c179e"
             ],
             [
              0.4444444444444444,
              "#bd3786"
             ],
             [
              0.5555555555555556,
              "#d8576b"
             ],
             [
              0.6666666666666666,
              "#ed7953"
             ],
             [
              0.7777777777777778,
              "#fb9f3a"
             ],
             [
              0.8888888888888888,
              "#fdca26"
             ],
             [
              1,
              "#f0f921"
             ]
            ],
            "type": "heatmapgl"
           }
          ],
          "histogram": [
           {
            "marker": {
             "colorbar": {
              "outlinewidth": 0,
              "ticks": ""
             }
            },
            "type": "histogram"
           }
          ],
          "histogram2d": [
           {
            "colorbar": {
             "outlinewidth": 0,
             "ticks": ""
            },
            "colorscale": [
             [
              0,
              "#0d0887"
             ],
             [
              0.1111111111111111,
              "#46039f"
             ],
             [
              0.2222222222222222,
              "#7201a8"
             ],
             [
              0.3333333333333333,
              "#9c179e"
             ],
             [
              0.4444444444444444,
              "#bd3786"
             ],
             [
              0.5555555555555556,
              "#d8576b"
             ],
             [
              0.6666666666666666,
              "#ed7953"
             ],
             [
              0.7777777777777778,
              "#fb9f3a"
             ],
             [
              0.8888888888888888,
              "#fdca26"
             ],
             [
              1,
              "#f0f921"
             ]
            ],
            "type": "histogram2d"
           }
          ],
          "histogram2dcontour": [
           {
            "colorbar": {
             "outlinewidth": 0,
             "ticks": ""
            },
            "colorscale": [
             [
              0,
              "#0d0887"
             ],
             [
              0.1111111111111111,
              "#46039f"
             ],
             [
              0.2222222222222222,
              "#7201a8"
             ],
             [
              0.3333333333333333,
              "#9c179e"
             ],
             [
              0.4444444444444444,
              "#bd3786"
             ],
             [
              0.5555555555555556,
              "#d8576b"
             ],
             [
              0.6666666666666666,
              "#ed7953"
             ],
             [
              0.7777777777777778,
              "#fb9f3a"
             ],
             [
              0.8888888888888888,
              "#fdca26"
             ],
             [
              1,
              "#f0f921"
             ]
            ],
            "type": "histogram2dcontour"
           }
          ],
          "mesh3d": [
           {
            "colorbar": {
             "outlinewidth": 0,
             "ticks": ""
            },
            "type": "mesh3d"
           }
          ],
          "parcoords": [
           {
            "line": {
             "colorbar": {
              "outlinewidth": 0,
              "ticks": ""
             }
            },
            "type": "parcoords"
           }
          ],
          "pie": [
           {
            "automargin": true,
            "type": "pie"
           }
          ],
          "scatter": [
           {
            "marker": {
             "colorbar": {
              "outlinewidth": 0,
              "ticks": ""
             }
            },
            "type": "scatter"
           }
          ],
          "scatter3d": [
           {
            "line": {
             "colorbar": {
              "outlinewidth": 0,
              "ticks": ""
             }
            },
            "marker": {
             "colorbar": {
              "outlinewidth": 0,
              "ticks": ""
             }
            },
            "type": "scatter3d"
           }
          ],
          "scattercarpet": [
           {
            "marker": {
             "colorbar": {
              "outlinewidth": 0,
              "ticks": ""
             }
            },
            "type": "scattercarpet"
           }
          ],
          "scattergeo": [
           {
            "marker": {
             "colorbar": {
              "outlinewidth": 0,
              "ticks": ""
             }
            },
            "type": "scattergeo"
           }
          ],
          "scattergl": [
           {
            "marker": {
             "colorbar": {
              "outlinewidth": 0,
              "ticks": ""
             }
            },
            "type": "scattergl"
           }
          ],
          "scattermapbox": [
           {
            "marker": {
             "colorbar": {
              "outlinewidth": 0,
              "ticks": ""
             }
            },
            "type": "scattermapbox"
           }
          ],
          "scatterpolar": [
           {
            "marker": {
             "colorbar": {
              "outlinewidth": 0,
              "ticks": ""
             }
            },
            "type": "scatterpolar"
           }
          ],
          "scatterpolargl": [
           {
            "marker": {
             "colorbar": {
              "outlinewidth": 0,
              "ticks": ""
             }
            },
            "type": "scatterpolargl"
           }
          ],
          "scatterternary": [
           {
            "marker": {
             "colorbar": {
              "outlinewidth": 0,
              "ticks": ""
             }
            },
            "type": "scatterternary"
           }
          ],
          "surface": [
           {
            "colorbar": {
             "outlinewidth": 0,
             "ticks": ""
            },
            "colorscale": [
             [
              0,
              "#0d0887"
             ],
             [
              0.1111111111111111,
              "#46039f"
             ],
             [
              0.2222222222222222,
              "#7201a8"
             ],
             [
              0.3333333333333333,
              "#9c179e"
             ],
             [
              0.4444444444444444,
              "#bd3786"
             ],
             [
              0.5555555555555556,
              "#d8576b"
             ],
             [
              0.6666666666666666,
              "#ed7953"
             ],
             [
              0.7777777777777778,
              "#fb9f3a"
             ],
             [
              0.8888888888888888,
              "#fdca26"
             ],
             [
              1,
              "#f0f921"
             ]
            ],
            "type": "surface"
           }
          ],
          "table": [
           {
            "cells": {
             "fill": {
              "color": "#EBF0F8"
             },
             "line": {
              "color": "white"
             }
            },
            "header": {
             "fill": {
              "color": "#C8D4E3"
             },
             "line": {
              "color": "white"
             }
            },
            "type": "table"
           }
          ]
         },
         "layout": {
          "annotationdefaults": {
           "arrowcolor": "#2a3f5f",
           "arrowhead": 0,
           "arrowwidth": 1
          },
          "coloraxis": {
           "colorbar": {
            "outlinewidth": 0,
            "ticks": ""
           }
          },
          "colorscale": {
           "diverging": [
            [
             0,
             "#8e0152"
            ],
            [
             0.1,
             "#c51b7d"
            ],
            [
             0.2,
             "#de77ae"
            ],
            [
             0.3,
             "#f1b6da"
            ],
            [
             0.4,
             "#fde0ef"
            ],
            [
             0.5,
             "#f7f7f7"
            ],
            [
             0.6,
             "#e6f5d0"
            ],
            [
             0.7,
             "#b8e186"
            ],
            [
             0.8,
             "#7fbc41"
            ],
            [
             0.9,
             "#4d9221"
            ],
            [
             1,
             "#276419"
            ]
           ],
           "sequential": [
            [
             0,
             "#0d0887"
            ],
            [
             0.1111111111111111,
             "#46039f"
            ],
            [
             0.2222222222222222,
             "#7201a8"
            ],
            [
             0.3333333333333333,
             "#9c179e"
            ],
            [
             0.4444444444444444,
             "#bd3786"
            ],
            [
             0.5555555555555556,
             "#d8576b"
            ],
            [
             0.6666666666666666,
             "#ed7953"
            ],
            [
             0.7777777777777778,
             "#fb9f3a"
            ],
            [
             0.8888888888888888,
             "#fdca26"
            ],
            [
             1,
             "#f0f921"
            ]
           ],
           "sequentialminus": [
            [
             0,
             "#0d0887"
            ],
            [
             0.1111111111111111,
             "#46039f"
            ],
            [
             0.2222222222222222,
             "#7201a8"
            ],
            [
             0.3333333333333333,
             "#9c179e"
            ],
            [
             0.4444444444444444,
             "#bd3786"
            ],
            [
             0.5555555555555556,
             "#d8576b"
            ],
            [
             0.6666666666666666,
             "#ed7953"
            ],
            [
             0.7777777777777778,
             "#fb9f3a"
            ],
            [
             0.8888888888888888,
             "#fdca26"
            ],
            [
             1,
             "#f0f921"
            ]
           ]
          },
          "colorway": [
           "#636efa",
           "#EF553B",
           "#00cc96",
           "#ab63fa",
           "#FFA15A",
           "#19d3f3",
           "#FF6692",
           "#B6E880",
           "#FF97FF",
           "#FECB52"
          ],
          "font": {
           "color": "#2a3f5f"
          },
          "geo": {
           "bgcolor": "white",
           "lakecolor": "white",
           "landcolor": "#E5ECF6",
           "showlakes": true,
           "showland": true,
           "subunitcolor": "white"
          },
          "hoverlabel": {
           "align": "left"
          },
          "hovermode": "closest",
          "mapbox": {
           "style": "light"
          },
          "paper_bgcolor": "white",
          "plot_bgcolor": "#E5ECF6",
          "polar": {
           "angularaxis": {
            "gridcolor": "white",
            "linecolor": "white",
            "ticks": ""
           },
           "bgcolor": "#E5ECF6",
           "radialaxis": {
            "gridcolor": "white",
            "linecolor": "white",
            "ticks": ""
           }
          },
          "scene": {
           "xaxis": {
            "backgroundcolor": "#E5ECF6",
            "gridcolor": "white",
            "gridwidth": 2,
            "linecolor": "white",
            "showbackground": true,
            "ticks": "",
            "zerolinecolor": "white"
           },
           "yaxis": {
            "backgroundcolor": "#E5ECF6",
            "gridcolor": "white",
            "gridwidth": 2,
            "linecolor": "white",
            "showbackground": true,
            "ticks": "",
            "zerolinecolor": "white"
           },
           "zaxis": {
            "backgroundcolor": "#E5ECF6",
            "gridcolor": "white",
            "gridwidth": 2,
            "linecolor": "white",
            "showbackground": true,
            "ticks": "",
            "zerolinecolor": "white"
           }
          },
          "shapedefaults": {
           "line": {
            "color": "#2a3f5f"
           }
          },
          "ternary": {
           "aaxis": {
            "gridcolor": "white",
            "linecolor": "white",
            "ticks": ""
           },
           "baxis": {
            "gridcolor": "white",
            "linecolor": "white",
            "ticks": ""
           },
           "bgcolor": "#E5ECF6",
           "caxis": {
            "gridcolor": "white",
            "linecolor": "white",
            "ticks": ""
           }
          },
          "title": {
           "x": 0.05
          },
          "xaxis": {
           "automargin": true,
           "gridcolor": "white",
           "linecolor": "white",
           "ticks": "",
           "title": {
            "standoff": 15
           },
           "zerolinecolor": "white",
           "zerolinewidth": 2
          },
          "yaxis": {
           "automargin": true,
           "gridcolor": "white",
           "linecolor": "white",
           "ticks": "",
           "title": {
            "standoff": 15
           },
           "zerolinecolor": "white",
           "zerolinewidth": 2
          }
         }
        },
        "title": {
         "font": {
          "family": "Roboto"
         },
         "text": "drop off by zone"
        }
       }
      },
      "text/html": [
       "<div>                            <div id=\"0d137280-4d94-4ed0-b1d8-eeeb0241b19c\" class=\"plotly-graph-div\" style=\"height:525px; width:100%;\"></div>            <script type=\"text/javascript\">                require([\"plotly\"], function(Plotly) {                    window.PLOTLYENV=window.PLOTLYENV || {};                                    if (document.getElementById(\"0d137280-4d94-4ed0-b1d8-eeeb0241b19c\")) {                    Plotly.newPlot(                        \"0d137280-4d94-4ed0-b1d8-eeeb0241b19c\",                        [{\"branchvalues\": \"total\", \"customdata\": [[\"Bronx\"], [\"Queens\"], [\"Queens\"], [\"Brooklyn\"], [\"Queens\"], [\"Bronx\"], [\"Bronx\"], [\"Brooklyn\"], [\"Brooklyn\"], [\"Brooklyn\"], [\"Brooklyn\"], [\"Brooklyn\"], [\"Queens\"], [\"Brooklyn\"], [\"Manhattan\"], [\"Manhattan\"], [\"Manhattan\"], [\"Staten Island\"], [\"Manhattan\"], [\"Brooklyn\"], [\"Brooklyn\"], [\"Brooklyn\"], [\"Staten Island\"], [\"Manhattan\"], [\"Manhattan\"], [\"Staten Island\"], [\"Staten Island\"], [\"Queens\"], [\"Queens\"], [\"Queens\"], [\"Brooklyn\"], [\"Manhattan\"], [\"Queens\"], [\"Brooklyn\"], [\"Queens\"], [\"Queens\"], [\"Brooklyn\"], [\"Bronx\"], [\"Queens\"], [\"Bronx\"], [\"Brooklyn\"], [\"Manhattan\"], [\"Brooklyn\"], [\"Brooklyn\"], [\"Manhattan\"], [\"Brooklyn\"], [\"Manhattan\"], [\"Manhattan\"], [\"Queens\"], [\"Queens\"], [\"Staten Island\"], [\"Queens\"], [\"Bronx\"], [\"Queens\"], [\"Brooklyn\"], [\"Brooklyn\"], [\"Queens\"], [\"Manhattan\"], [\"Queens\"], [\"Queens\"], [\"Brooklyn\"], [\"Queens\"], [\"Staten Island\"], [\"Manhattan\"], [\"Queens\"], [\"Queens\"], [\"Brooklyn\"], [\"Manhattan\"], [\"Brooklyn\"], [\"Staten Island\"], [\"Manhattan\"], [\"Bronx\"], [\"Bronx\"], [\"Brooklyn\"], [\"Brooklyn\"], [\"Brooklyn\"], [\"Bronx\"], [\"Bronx\"], [\"Manhattan\"], [\"Brooklyn\"], [\"Manhattan\"], [\"Bronx\"], [\"Brooklyn\"], [\"Brooklyn\"], [\"Brooklyn\"], [\"Queens\"], [\"Bronx\"], [\"Bronx\"], [\"Bronx\"], [\"Queens\"], [\"Brooklyn\"], [\"Brooklyn\"], [\"Brooklyn\"], [\"Queens\"], [\"Brooklyn\"], [\"Brooklyn\"], [\"Manhattan\"], [\"Manhattan\"], [\"Bronx\"], [\"Queens\"], [\"Brooklyn\"], [\"Brooklyn\"], [\"Queens\"], [\"Manhattan\"], [\"Staten Island\"], [\"Bronx\"], [\"Bronx\"], [\"Manhattan\"], [\"Brooklyn\"], [\"Brooklyn\"], [\"Manhattan\"], [\"Manhattan\"], [\"Manhattan\"], [\"Brooklyn\"], [\"Brooklyn\"], [\"Staten Island\"], [\"Queens\"], [\"Manhattan\"], [\"Queens\"], [\"Queens\"], [\"Queens\"], [\"Manhattan\"], [\"Queens\"], [\"Bronx\"], [\"Queens\"], [\"EWR\"], [\"Staten Island\"], [\"Queens\"], [\"Manhattan\"], [\"Manhattan\"], [\"Bronx\"], [\"Bronx\"], [\"Manhattan\"], [\"Brooklyn\"], [\"Manhattan\"], [\"Manhattan\"], [\"Bronx\"], [\"Manhattan\"], [\"Queens\"], [\"Manhattan\"], [\"Queens\"], [\"Brooklyn\"], [\"Queens\"], [\"Queens\"], [\"Bronx\"], [\"Staten Island\"], [\"Manhattan\"], [\"Queens\"], [\"Staten Island\"], [\"Manhattan\"], [\"Manhattan\"], [\"Brooklyn\"], [\"Brooklyn\"], [\"Manhattan\"], [\"Manhattan\"], [\"Bronx\"], [\"Manhattan\"], [\"Manhattan\"], [\"Manhattan\"], [\"Manhattan\"], [\"Queens\"], [\"Queens\"], [\"Manhattan\"], [\"Bronx\"], [\"Queens\"], [\"Manhattan\"], [\"Brooklyn\"], [\"Queens\"], [\"Queens\"], [\"Queens\"], [\"Queens\"], [\"Queens\"], [\"Manhattan\"], [\"Queens\"], [\"Brooklyn\"], [\"Staten Island\"], [\"Bronx\"], [\"Queens\"], [\"Queens\"], [\"Brooklyn\"], [\"Bronx\"], [\"Queens\"], [\"Staten Island\"], [\"Bronx\"], [\"Brooklyn\"], [\"Queens\"], [\"Queens\"], [\"Bronx\"], [\"Brooklyn\"], [\"Manhattan\"], [\"Manhattan\"], [\"Bronx\"], [\"Bronx\"], [\"Manhattan\"], [\"Manhattan\"], [\"Manhattan\"], [\"Manhattan\"], [\"Bronx\"], [\"Manhattan\"], [\"Manhattan\"], [\"Manhattan\"], [\"Manhattan\"], [\"Manhattan\"], [\"Manhattan\"], [\"Brooklyn\"], [\"Brooklyn\"], [\"Queens\"], [\"Bronx\"], [\"Staten Island\"], [\"Brooklyn\"], [\"Brooklyn\"], [\"Queens\"], [\"Queens\"], [\"Manhattan\"], [\"Bronx\"], [\"Bronx\"], [\"Bronx\"], [\"Bronx\"], [\"Manhattan\"], [\"Staten Island\"], [\"Brooklyn\"], [\"Brooklyn\"], [\"Brooklyn\"], [\"Brooklyn\"], [\"Queens\"], [\"Queens\"], [\"Queens\"], [\"Staten Island\"], [\"Staten Island\"], [\"Manhattan\"], [\"Queens\"], [\"Bronx\"], [\"Queens\"], [\"Queens\"], [\"Queens\"], [\"Queens\"], [\"Brooklyn\"], [\"Manhattan\"], [\"Queens\"], [\"Bronx\"], [\"Bronx\"], [\"Manhattan\"], [\"Queens\"], [\"Bronx\"], [\"Queens\"], [\"Brooklyn\"], [\"Brooklyn\"], [\"Brooklyn\"], [\"Queens\"], [\"Staten Island\"], [\"Staten Island\"], [\"Bronx\"], [\"Manhattan\"], [\"Bronx\"], [\"Bronx\"], [\"Manhattan\"], [\"Manhattan\"], [\"Manhattan\"], [\"Queens\"], [\"Manhattan\"], [\"Bronx\"], [\"Brooklyn\"], [\"EWR\"], [\"Manhattan\"], [\"Queens\"], [\"Staten Island\"]], \"domain\": {\"x\": [0.0, 1.0], \"y\": [0.0, 1.0]}, \"hovertemplate\": \"labels=%{label}<br>pickup_time=%{value}<br>parent=%{parent}<br>id=%{id}<br>doborough=%{customdata[0]}<extra></extra>\", \"ids\": [\"Bronx/Allerton/Pelham Gardens\", \"Queens/Breezy Point/Fort Tilden/Riis Beach\", \"Queens/Briarwood/Jamaica Hills\", \"Brooklyn/Brighton Beach\", \"Queens/Broad Channel\", \"Bronx/Bronx Park\", \"Bronx/Bronxdale\", \"Brooklyn/Brooklyn Heights\", \"Brooklyn/Brooklyn Navy Yard\", \"Brooklyn/Borough Park\", \"Brooklyn/Brownsville\", \"Brooklyn/Bushwick South\", \"Queens/Cambria Heights\", \"Brooklyn/Carroll Gardens\", \"Manhattan/Central Harlem\", \"Manhattan/Central Harlem North\", \"Manhattan/Central Park\", \"Staten Island/Charleston/Tottenville\", \"Manhattan/Chinatown\", \"Brooklyn/Bushwick North\", \"Brooklyn/Boerum Hill\", \"Brooklyn/Canarsie\", \"Staten Island/Bloomfield/Emerson Hill\", \"Manhattan/Bloomingdale\", \"Manhattan/Alphabet City\", \"Staten Island/Arden Heights\", \"Staten Island/Arrochar/Fort Wadsworth\", \"Queens/Astoria Park\", \"Queens/Auburndale\", \"Queens/Baisley Park\", \"Brooklyn/Bath Beach\", \"Manhattan/Battery Park\", \"Queens/Astoria\", \"Brooklyn/Bay Ridge\", \"Queens/Bay Terrace/Fort Totten\", \"Queens/Bayside\", \"Brooklyn/Bedford\", \"Bronx/Bedford Park\", \"Queens/Bellerose\", \"Bronx/Belmont\", \"Brooklyn/Bensonhurst East\", \"Manhattan/Battery Park City\", \"Brooklyn/Bensonhurst West\", \"Brooklyn/Flatlands\", \"Manhattan/Flatiron\", \"Brooklyn/Flatbush/Ditmas Park\", \"Manhattan/Financial District South\", \"Manhattan/Financial District North\", \"Queens/Far Rockaway\", \"Queens/Elmhurst\", \"Staten Island/Eltingville/Annadale/Prince's Bay\", \"Queens/Elmhurst/Maspeth\", \"Bronx/Eastchester\", \"Queens/Flushing\", \"Brooklyn/East Williamsburg\", \"Brooklyn/Erasmus\", \"Queens/Flushing Meadows-Corona Park\", \"Manhattan/Governor's Island/Ellis Island/Liberty Island\", \"Queens/Forest Hills\", \"Queens/Forest Park/Highland Park\", \"Brooklyn/Fort Greene\", \"Queens/Fresh Meadows\", \"Staten Island/Freshkills Park\", \"Manhattan/Garment District\", \"Queens/Glen Oaks\", \"Queens/Glendale\", \"Brooklyn/Gowanus\", \"Manhattan/Gramercy\", \"Brooklyn/Gravesend\", \"Staten Island/Great Kills\", \"Manhattan/East Village\", \"Bronx/Fordham South\", \"Bronx/East Tremont\", \"Brooklyn/East Flatbush/Remsen Village\", \"Brooklyn/East New York\", \"Brooklyn/East New York/Pennsylvania Avenue\", \"Bronx/City Island\", \"Bronx/Claremont/Bathgate\", \"Manhattan/Clinton East\", \"Brooklyn/Clinton Hill\", \"Manhattan/Clinton West\", \"Bronx/Co-Op City\", \"Brooklyn/Cobble Hill\", \"Brooklyn/Columbia Street\", \"Brooklyn/Coney Island\", \"Queens/Corona\", \"Bronx/Country Club\", \"Bronx/Crotona Park\", \"Bronx/Crotona Park East\", \"Queens/College Point\", \"Brooklyn/Crown Heights South\", \"Brooklyn/Cypress Hills\", \"Brooklyn/DUMBO/Vinegar Hill\", \"Queens/Douglaston\", \"Brooklyn/Downtown Brooklyn/MetroTech\", \"Brooklyn/Dyker Heights\", \"Manhattan/East Harlem South\", \"Manhattan/East Chelsea\", \"Bronx/East Concourse/Concourse Village\", \"Queens/East Elmhurst\", \"Brooklyn/East Flatbush/Farragut\", \"Brooklyn/Crown Heights North\", \"Queens/East Flushing\", \"Manhattan/East Harlem North\", \"Staten Island/Great Kills Park\", \"Bronx/Melrose South\", \"Bronx/Longwood\", \"Manhattan/Lower East Side\", \"Brooklyn/Madison\", \"Brooklyn/Manhattan Beach\", \"Manhattan/Manhattan Valley\", \"Manhattan/Manhattanville\", \"Manhattan/Marble Hill\", \"Brooklyn/Marine Park/Floyd Bennett Field\", \"Brooklyn/Marine Park/Mill Basin\", \"Staten Island/Mariners Harbor\", \"Queens/Maspeth\", \"Manhattan/Meatpacking/West Village West\", \"Queens/Long Island City/Queens Plaza\", \"Queens/Middle Village\", \"Queens/Oakland Gardens\", \"Manhattan/Midtown East\", \"Queens/Long Island City/Hunters Point\", \"Bronx/Norwood\", \"Queens/North Corona\", \"EWR/Newark Airport\", \"Staten Island/New Dorp/Midland Beach\", \"Queens/Murray Hill-Queens\", \"Manhattan/Midtown Center\", \"Manhattan/Murray Hill\", \"Bronx/Mott Haven/Port Morris\", \"Bronx/Morrisania/Melrose\", \"Manhattan/Morningside Heights\", \"Brooklyn/Midwood\", \"Manhattan/Midtown South\", \"Manhattan/Midtown North\", \"Bronx/Mount Hope\", \"Manhattan/Little Italy/NoLiTa\", \"Queens/Kew Gardens\", \"Manhattan/Lincoln Square East\", \"Queens/Howard Beach\", \"Brooklyn/Homecrest\", \"Queens/Hollis\", \"Queens/Hillcrest/Pomonok\", \"Bronx/Highbridge\", \"Staten Island/Heartland Village/Todt Hill\", \"Manhattan/Hudson Sq\", \"Queens/Hammels/Arverne\", \"Staten Island/Grymes Hill/Clifton\", \"Manhattan/Greenwich Village South\", \"Manhattan/Greenwich Village North\", \"Brooklyn/Greenpoint\", \"Brooklyn/Green-Wood Cemetery\", \"Manhattan/Lincoln Square West\", \"Manhattan/Hamilton Heights\", \"Bronx/Hunts Point\", \"Manhattan/Highbridge Park\", \"Manhattan/Inwood Hill Park\", \"Manhattan/Lenox Hill West\", \"Manhattan/Inwood\", \"Queens/Laurelton\", \"Queens/LaGuardia Airport\", \"Manhattan/Kips Bay\", \"Bronx/Kingsbridge Heights\", \"Queens/Kew Gardens Hills\", \"Manhattan/Lenox Hill East\", \"Brooklyn/Kensington\", \"Queens/Jamaica Estates\", \"Queens/Jamaica Bay\", \"Queens/Jamaica\", \"Queens/Jackson Heights\", \"Queens/JFK Airport\", \"Manhattan/Stuy Town/Peter Cooper Village\", \"Queens/Steinway\", \"Brooklyn/Starrett City\", \"Staten Island/Stapleton\", \"Bronx/Spuyten Duyvil/Kingsbridge\", \"Queens/Springfield Gardens South\", \"Queens/South Ozone Park\", \"Brooklyn/South Williamsburg\", \"Bronx/Soundview/Bruckner\", \"Queens/South Jamaica\", \"Staten Island/South Beach/Dongan Hills\", \"Bronx/Soundview/Castle Hill\", \"Brooklyn/Stuyvesant Heights\", \"Queens/Springfield Gardens North\", \"Queens/Sunnyside\", \"Bronx/Van Nest/Morris Park\", \"Brooklyn/Sunset Park West\", \"Manhattan/Washington Heights North\", \"Manhattan/SoHo\", \"Bronx/Van Cortlandt Village\", \"Bronx/Van Cortlandt Park\", \"Manhattan/Upper West Side South\", \"Manhattan/Upper West Side North\", \"Manhattan/Upper East Side South\", \"Manhattan/Upper East Side North\", \"Bronx/University Heights/Morris Heights\", \"Manhattan/Union Sq\", \"Manhattan/UN/Turtle Bay South\", \"Manhattan/Two Bridges/Seward Park\", \"Manhattan/TriBeCa/Civic Center\", \"Manhattan/Times Sq/Theatre District\", \"Manhattan/Sutton Place/Turtle Bay North\", \"Brooklyn/Sunset Park East\", \"Brooklyn/Sheepshead Bay\", \"Queens/Rosedale\", \"Bronx/Schuylerville/Edgewater Park\", \"Staten Island/Oakwood\", \"Brooklyn/Ocean Hill\", \"Brooklyn/Ocean Parkway South\", \"Queens/Old Astoria\", \"Queens/Ozone Park\", \"Manhattan/Seaport\", \"Bronx/Parkchester\", \"Bronx/Pelham Bay\", \"Bronx/Pelham Bay Park\", \"Bronx/Pelham Parkway\", \"Manhattan/Penn Station/Madison Sq West\", \"Staten Island/Port Richmond\", \"Brooklyn/Prospect Heights\", \"Brooklyn/Prospect Park\", \"Brooklyn/Prospect-Lefferts Gardens\", \"Brooklyn/Park Slope\", \"Queens/Queensboro Hill\", \"Queens/Queens Village\", \"Queens/Saint Michaels Cemetery/Woodside\", \"Staten Island/Saint George/New Brighton\", \"Staten Island/Rossville/Woodrow\", \"Manhattan/Roosevelt Island\", \"Queens/Rockaway Park\", \"Bronx/Riverdale/North Riverdale/Fieldston\", \"Queens/Saint Albans\", \"Queens/Ridgewood\", \"Queens/Richmond Hill\", \"Queens/Rego Park\", \"Brooklyn/Red Hook\", \"Manhattan/Randalls Island\", \"Queens/Queensbridge/Ravenswood\", \"Bronx/Rikers Island\", \"Bronx/Williamsbridge/Olinville\", \"Manhattan/World Trade Center\", \"Queens/Woodside\", \"Bronx/Woodlawn/Wakefield\", \"Queens/Woodhaven\", \"Brooklyn/Windsor Terrace\", \"Brooklyn/Williamsburg (South Side)\", \"Brooklyn/Williamsburg (North Side)\", \"Queens/Willets Point\", \"Staten Island/West Brighton\", \"Staten Island/Westerleigh\", \"Bronx/Westchester Village/Unionport\", \"Manhattan/West Village\", \"Bronx/West Farms/Bronx River\", \"Bronx/West Concourse\", \"Manhattan/West Chelsea/Hudson Yards\", \"Manhattan/Washington Heights South\", \"Manhattan/Yorkville East\", \"Queens/Whitestone\", \"Manhattan/Yorkville West\", \"Bronx\", \"Brooklyn\", \"EWR\", \"Manhattan\", \"Queens\", \"Staten Island\"], \"labels\": [\"Allerton/Pelham Gardens\", \"Breezy Point/Fort Tilden/Riis Beach\", \"Briarwood/Jamaica Hills\", \"Brighton Beach\", \"Broad Channel\", \"Bronx Park\", \"Bronxdale\", \"Brooklyn Heights\", \"Brooklyn Navy Yard\", \"Borough Park\", \"Brownsville\", \"Bushwick South\", \"Cambria Heights\", \"Carroll Gardens\", \"Central Harlem\", \"Central Harlem North\", \"Central Park\", \"Charleston/Tottenville\", \"Chinatown\", \"Bushwick North\", \"Boerum Hill\", \"Canarsie\", \"Bloomfield/Emerson Hill\", \"Bloomingdale\", \"Alphabet City\", \"Arden Heights\", \"Arrochar/Fort Wadsworth\", \"Astoria Park\", \"Auburndale\", \"Baisley Park\", \"Bath Beach\", \"Battery Park\", \"Astoria\", \"Bay Ridge\", \"Bay Terrace/Fort Totten\", \"Bayside\", \"Bedford\", \"Bedford Park\", \"Bellerose\", \"Belmont\", \"Bensonhurst East\", \"Battery Park City\", \"Bensonhurst West\", \"Flatlands\", \"Flatiron\", \"Flatbush/Ditmas Park\", \"Financial District South\", \"Financial District North\", \"Far Rockaway\", \"Elmhurst\", \"Eltingville/Annadale/Prince's Bay\", \"Elmhurst/Maspeth\", \"Eastchester\", \"Flushing\", \"East Williamsburg\", \"Erasmus\", \"Flushing Meadows-Corona Park\", \"Governor's Island/Ellis Island/Liberty Island\", \"Forest Hills\", \"Forest Park/Highland Park\", \"Fort Greene\", \"Fresh Meadows\", \"Freshkills Park\", \"Garment District\", \"Glen Oaks\", \"Glendale\", \"Gowanus\", \"Gramercy\", \"Gravesend\", \"Great Kills\", \"East Village\", \"Fordham South\", \"East Tremont\", \"East Flatbush/Remsen Village\", \"East New York\", \"East New York/Pennsylvania Avenue\", \"City Island\", \"Claremont/Bathgate\", \"Clinton East\", \"Clinton Hill\", \"Clinton West\", \"Co-Op City\", \"Cobble Hill\", \"Columbia Street\", \"Coney Island\", \"Corona\", \"Country Club\", \"Crotona Park\", \"Crotona Park East\", \"College Point\", \"Crown Heights South\", \"Cypress Hills\", \"DUMBO/Vinegar Hill\", \"Douglaston\", \"Downtown Brooklyn/MetroTech\", \"Dyker Heights\", \"East Harlem South\", \"East Chelsea\", \"East Concourse/Concourse Village\", \"East Elmhurst\", \"East Flatbush/Farragut\", \"Crown Heights North\", \"East Flushing\", \"East Harlem North\", \"Great Kills Park\", \"Melrose South\", \"Longwood\", \"Lower East Side\", \"Madison\", \"Manhattan Beach\", \"Manhattan Valley\", \"Manhattanville\", \"Marble Hill\", \"Marine Park/Floyd Bennett Field\", \"Marine Park/Mill Basin\", \"Mariners Harbor\", \"Maspeth\", \"Meatpacking/West Village West\", \"Long Island City/Queens Plaza\", \"Middle Village\", \"Oakland Gardens\", \"Midtown East\", \"Long Island City/Hunters Point\", \"Norwood\", \"North Corona\", \"Newark Airport\", \"New Dorp/Midland Beach\", \"Murray Hill-Queens\", \"Midtown Center\", \"Murray Hill\", \"Mott Haven/Port Morris\", \"Morrisania/Melrose\", \"Morningside Heights\", \"Midwood\", \"Midtown South\", \"Midtown North\", \"Mount Hope\", \"Little Italy/NoLiTa\", \"Kew Gardens\", \"Lincoln Square East\", \"Howard Beach\", \"Homecrest\", \"Hollis\", \"Hillcrest/Pomonok\", \"Highbridge\", \"Heartland Village/Todt Hill\", \"Hudson Sq\", \"Hammels/Arverne\", \"Grymes Hill/Clifton\", \"Greenwich Village South\", \"Greenwich Village North\", \"Greenpoint\", \"Green-Wood Cemetery\", \"Lincoln Square West\", \"Hamilton Heights\", \"Hunts Point\", \"Highbridge Park\", \"Inwood Hill Park\", \"Lenox Hill West\", \"Inwood\", \"Laurelton\", \"LaGuardia Airport\", \"Kips Bay\", \"Kingsbridge Heights\", \"Kew Gardens Hills\", \"Lenox Hill East\", \"Kensington\", \"Jamaica Estates\", \"Jamaica Bay\", \"Jamaica\", \"Jackson Heights\", \"JFK Airport\", \"Stuy Town/Peter Cooper Village\", \"Steinway\", \"Starrett City\", \"Stapleton\", \"Spuyten Duyvil/Kingsbridge\", \"Springfield Gardens South\", \"South Ozone Park\", \"South Williamsburg\", \"Soundview/Bruckner\", \"South Jamaica\", \"South Beach/Dongan Hills\", \"Soundview/Castle Hill\", \"Stuyvesant Heights\", \"Springfield Gardens North\", \"Sunnyside\", \"Van Nest/Morris Park\", \"Sunset Park West\", \"Washington Heights North\", \"SoHo\", \"Van Cortlandt Village\", \"Van Cortlandt Park\", \"Upper West Side South\", \"Upper West Side North\", \"Upper East Side South\", \"Upper East Side North\", \"University Heights/Morris Heights\", \"Union Sq\", \"UN/Turtle Bay South\", \"Two Bridges/Seward Park\", \"TriBeCa/Civic Center\", \"Times Sq/Theatre District\", \"Sutton Place/Turtle Bay North\", \"Sunset Park East\", \"Sheepshead Bay\", \"Rosedale\", \"Schuylerville/Edgewater Park\", \"Oakwood\", \"Ocean Hill\", \"Ocean Parkway South\", \"Old Astoria\", \"Ozone Park\", \"Seaport\", \"Parkchester\", \"Pelham Bay\", \"Pelham Bay Park\", \"Pelham Parkway\", \"Penn Station/Madison Sq West\", \"Port Richmond\", \"Prospect Heights\", \"Prospect Park\", \"Prospect-Lefferts Gardens\", \"Park Slope\", \"Queensboro Hill\", \"Queens Village\", \"Saint Michaels Cemetery/Woodside\", \"Saint George/New Brighton\", \"Rossville/Woodrow\", \"Roosevelt Island\", \"Rockaway Park\", \"Riverdale/North Riverdale/Fieldston\", \"Saint Albans\", \"Ridgewood\", \"Richmond Hill\", \"Rego Park\", \"Red Hook\", \"Randalls Island\", \"Queensbridge/Ravenswood\", \"Rikers Island\", \"Williamsbridge/Olinville\", \"World Trade Center\", \"Woodside\", \"Woodlawn/Wakefield\", \"Woodhaven\", \"Windsor Terrace\", \"Williamsburg (South Side)\", \"Williamsburg (North Side)\", \"Willets Point\", \"West Brighton\", \"Westerleigh\", \"Westchester Village/Unionport\", \"West Village\", \"West Farms/Bronx River\", \"West Concourse\", \"West Chelsea/Hudson Yards\", \"Washington Heights South\", \"Yorkville East\", \"Whitestone\", \"Yorkville West\", \"Bronx\", \"Brooklyn\", \"EWR\", \"Manhattan\", \"Queens\", \"Staten Island\"], \"marker\": {\"colors\": [\"#F7DBF0\", \"#949db9\", \"#949db9\", \"#F3F0D7\", \"#949db9\", \"#F7DBF0\", \"#F7DBF0\", \"#F3F0D7\", \"#F3F0D7\", \"#F3F0D7\", \"#F3F0D7\", \"#F3F0D7\", \"#949db9\", \"#F3F0D7\", \"#CDF0EA\", \"#CDF0EA\", \"#CDF0EA\", \"#FFA15A\", \"#CDF0EA\", \"#F3F0D7\", \"#F3F0D7\", \"#F3F0D7\", \"#FFA15A\", \"#CDF0EA\", \"#CDF0EA\", \"#FFA15A\", \"#FFA15A\", \"#949db9\", \"#949db9\", \"#949db9\", \"#F3F0D7\", \"#CDF0EA\", \"#949db9\", \"#F3F0D7\", \"#949db9\", \"#949db9\", \"#F3F0D7\", \"#F7DBF0\", \"#949db9\", \"#F7DBF0\", \"#F3F0D7\", \"#CDF0EA\", \"#F3F0D7\", \"#F3F0D7\", \"#CDF0EA\", \"#F3F0D7\", \"#CDF0EA\", \"#CDF0EA\", \"#949db9\", \"#949db9\", \"#FFA15A\", \"#949db9\", \"#F7DBF0\", \"#949db9\", \"#F3F0D7\", \"#F3F0D7\", \"#949db9\", \"#CDF0EA\", \"#949db9\", \"#949db9\", \"#F3F0D7\", \"#949db9\", \"#FFA15A\", \"#CDF0EA\", \"#949db9\", \"#949db9\", \"#F3F0D7\", \"#CDF0EA\", \"#F3F0D7\", \"#FFA15A\", \"#CDF0EA\", \"#F7DBF0\", \"#F7DBF0\", \"#F3F0D7\", \"#F3F0D7\", \"#F3F0D7\", \"#F7DBF0\", \"#F7DBF0\", \"#CDF0EA\", \"#F3F0D7\", \"#CDF0EA\", \"#F7DBF0\", \"#F3F0D7\", \"#F3F0D7\", \"#F3F0D7\", \"#949db9\", \"#F7DBF0\", \"#F7DBF0\", \"#F7DBF0\", \"#949db9\", \"#F3F0D7\", \"#F3F0D7\", \"#F3F0D7\", \"#949db9\", \"#F3F0D7\", \"#F3F0D7\", \"#CDF0EA\", \"#CDF0EA\", \"#F7DBF0\", \"#949db9\", \"#F3F0D7\", \"#F3F0D7\", \"#949db9\", \"#CDF0EA\", \"#FFA15A\", \"#F7DBF0\", \"#F7DBF0\", \"#CDF0EA\", \"#F3F0D7\", \"#F3F0D7\", \"#CDF0EA\", \"#CDF0EA\", \"#CDF0EA\", \"#F3F0D7\", \"#F3F0D7\", \"#FFA15A\", \"#949db9\", \"#CDF0EA\", \"#949db9\", \"#949db9\", \"#949db9\", \"#CDF0EA\", \"#949db9\", \"#F7DBF0\", \"#949db9\", \"#19d3f3\", \"#FFA15A\", \"#949db9\", \"#CDF0EA\", \"#CDF0EA\", \"#F7DBF0\", \"#F7DBF0\", \"#CDF0EA\", \"#F3F0D7\", \"#CDF0EA\", \"#CDF0EA\", \"#F7DBF0\", \"#CDF0EA\", \"#949db9\", \"#CDF0EA\", \"#949db9\", \"#F3F0D7\", \"#949db9\", \"#949db9\", \"#F7DBF0\", \"#FFA15A\", \"#CDF0EA\", \"#949db9\", \"#FFA15A\", \"#CDF0EA\", \"#CDF0EA\", \"#F3F0D7\", \"#F3F0D7\", \"#CDF0EA\", \"#CDF0EA\", \"#F7DBF0\", \"#CDF0EA\", \"#CDF0EA\", \"#CDF0EA\", \"#CDF0EA\", \"#949db9\", \"#949db9\", \"#CDF0EA\", \"#F7DBF0\", \"#949db9\", \"#CDF0EA\", \"#F3F0D7\", \"#949db9\", \"#949db9\", \"#949db9\", \"#949db9\", \"#949db9\", \"#CDF0EA\", \"#949db9\", \"#F3F0D7\", \"#FFA15A\", \"#F7DBF0\", \"#949db9\", \"#949db9\", \"#F3F0D7\", \"#F7DBF0\", \"#949db9\", \"#FFA15A\", \"#F7DBF0\", \"#F3F0D7\", \"#949db9\", \"#949db9\", \"#F7DBF0\", \"#F3F0D7\", \"#CDF0EA\", \"#CDF0EA\", \"#F7DBF0\", \"#F7DBF0\", \"#CDF0EA\", \"#CDF0EA\", \"#CDF0EA\", \"#CDF0EA\", \"#F7DBF0\", \"#CDF0EA\", \"#CDF0EA\", \"#CDF0EA\", \"#CDF0EA\", \"#CDF0EA\", \"#CDF0EA\", \"#F3F0D7\", \"#F3F0D7\", \"#949db9\", \"#F7DBF0\", \"#FFA15A\", \"#F3F0D7\", \"#F3F0D7\", \"#949db9\", \"#949db9\", \"#CDF0EA\", \"#F7DBF0\", \"#F7DBF0\", \"#F7DBF0\", \"#F7DBF0\", \"#CDF0EA\", \"#FFA15A\", \"#F3F0D7\", \"#F3F0D7\", \"#F3F0D7\", \"#F3F0D7\", \"#949db9\", \"#949db9\", \"#949db9\", \"#FFA15A\", \"#FFA15A\", \"#CDF0EA\", \"#949db9\", \"#F7DBF0\", \"#949db9\", \"#949db9\", \"#949db9\", \"#949db9\", \"#F3F0D7\", \"#CDF0EA\", \"#949db9\", \"#F7DBF0\", \"#F7DBF0\", \"#CDF0EA\", \"#949db9\", \"#F7DBF0\", \"#949db9\", \"#F3F0D7\", \"#F3F0D7\", \"#F3F0D7\", \"#949db9\", \"#FFA15A\", \"#FFA15A\", \"#F7DBF0\", \"#CDF0EA\", \"#F7DBF0\", \"#F7DBF0\", \"#CDF0EA\", \"#CDF0EA\", \"#CDF0EA\", \"#949db9\", \"#CDF0EA\", \"#F7DBF0\", \"#F3F0D7\", \"#19d3f3\", \"#CDF0EA\", \"#949db9\", \"#FFA15A\"]}, \"name\": \"\", \"parents\": [\"Bronx\", \"Queens\", \"Queens\", \"Brooklyn\", \"Queens\", \"Bronx\", \"Bronx\", \"Brooklyn\", \"Brooklyn\", \"Brooklyn\", \"Brooklyn\", \"Brooklyn\", \"Queens\", \"Brooklyn\", \"Manhattan\", \"Manhattan\", \"Manhattan\", \"Staten Island\", \"Manhattan\", \"Brooklyn\", \"Brooklyn\", \"Brooklyn\", \"Staten Island\", \"Manhattan\", \"Manhattan\", \"Staten Island\", \"Staten Island\", \"Queens\", \"Queens\", \"Queens\", \"Brooklyn\", \"Manhattan\", \"Queens\", \"Brooklyn\", \"Queens\", \"Queens\", \"Brooklyn\", \"Bronx\", \"Queens\", \"Bronx\", \"Brooklyn\", \"Manhattan\", \"Brooklyn\", \"Brooklyn\", \"Manhattan\", \"Brooklyn\", \"Manhattan\", \"Manhattan\", \"Queens\", \"Queens\", \"Staten Island\", \"Queens\", \"Bronx\", \"Queens\", \"Brooklyn\", \"Brooklyn\", \"Queens\", \"Manhattan\", \"Queens\", \"Queens\", \"Brooklyn\", \"Queens\", \"Staten Island\", \"Manhattan\", \"Queens\", \"Queens\", \"Brooklyn\", \"Manhattan\", \"Brooklyn\", \"Staten Island\", \"Manhattan\", \"Bronx\", \"Bronx\", \"Brooklyn\", \"Brooklyn\", \"Brooklyn\", \"Bronx\", \"Bronx\", \"Manhattan\", \"Brooklyn\", \"Manhattan\", \"Bronx\", \"Brooklyn\", \"Brooklyn\", \"Brooklyn\", \"Queens\", \"Bronx\", \"Bronx\", \"Bronx\", \"Queens\", \"Brooklyn\", \"Brooklyn\", \"Brooklyn\", \"Queens\", \"Brooklyn\", \"Brooklyn\", \"Manhattan\", \"Manhattan\", \"Bronx\", \"Queens\", \"Brooklyn\", \"Brooklyn\", \"Queens\", \"Manhattan\", \"Staten Island\", \"Bronx\", \"Bronx\", \"Manhattan\", \"Brooklyn\", \"Brooklyn\", \"Manhattan\", \"Manhattan\", \"Manhattan\", \"Brooklyn\", \"Brooklyn\", \"Staten Island\", \"Queens\", \"Manhattan\", \"Queens\", \"Queens\", \"Queens\", \"Manhattan\", \"Queens\", \"Bronx\", \"Queens\", \"EWR\", \"Staten Island\", \"Queens\", \"Manhattan\", \"Manhattan\", \"Bronx\", \"Bronx\", \"Manhattan\", \"Brooklyn\", \"Manhattan\", \"Manhattan\", \"Bronx\", \"Manhattan\", \"Queens\", \"Manhattan\", \"Queens\", \"Brooklyn\", \"Queens\", \"Queens\", \"Bronx\", \"Staten Island\", \"Manhattan\", \"Queens\", \"Staten Island\", \"Manhattan\", \"Manhattan\", \"Brooklyn\", \"Brooklyn\", \"Manhattan\", \"Manhattan\", \"Bronx\", \"Manhattan\", \"Manhattan\", \"Manhattan\", \"Manhattan\", \"Queens\", \"Queens\", \"Manhattan\", \"Bronx\", \"Queens\", \"Manhattan\", \"Brooklyn\", \"Queens\", \"Queens\", \"Queens\", \"Queens\", \"Queens\", \"Manhattan\", \"Queens\", \"Brooklyn\", \"Staten Island\", \"Bronx\", \"Queens\", \"Queens\", \"Brooklyn\", \"Bronx\", \"Queens\", \"Staten Island\", \"Bronx\", \"Brooklyn\", \"Queens\", \"Queens\", \"Bronx\", \"Brooklyn\", \"Manhattan\", \"Manhattan\", \"Bronx\", \"Bronx\", \"Manhattan\", \"Manhattan\", \"Manhattan\", \"Manhattan\", \"Bronx\", \"Manhattan\", \"Manhattan\", \"Manhattan\", \"Manhattan\", \"Manhattan\", \"Manhattan\", \"Brooklyn\", \"Brooklyn\", \"Queens\", \"Bronx\", \"Staten Island\", \"Brooklyn\", \"Brooklyn\", \"Queens\", \"Queens\", \"Manhattan\", \"Bronx\", \"Bronx\", \"Bronx\", \"Bronx\", \"Manhattan\", \"Staten Island\", \"Brooklyn\", \"Brooklyn\", \"Brooklyn\", \"Brooklyn\", \"Queens\", \"Queens\", \"Queens\", \"Staten Island\", \"Staten Island\", \"Manhattan\", \"Queens\", \"Bronx\", \"Queens\", \"Queens\", \"Queens\", \"Queens\", \"Brooklyn\", \"Manhattan\", \"Queens\", \"Bronx\", \"Bronx\", \"Manhattan\", \"Queens\", \"Bronx\", \"Queens\", \"Brooklyn\", \"Brooklyn\", \"Brooklyn\", \"Queens\", \"Staten Island\", \"Staten Island\", \"Bronx\", \"Manhattan\", \"Bronx\", \"Bronx\", \"Manhattan\", \"Manhattan\", \"Manhattan\", \"Queens\", \"Manhattan\", \"\", \"\", \"\", \"\", \"\", \"\"], \"type\": \"sunburst\", \"values\": [15332, 860, 109745, 24686, 325, 7190, 20452, 306079, 28341, 43682, 69914, 178964, 10854, 199515, 825188, 915492, 153724, 306, 37216, 112128, 284503, 54077, 1000, 127418, 31280, 320, 476, 4093, 12709, 56756, 11075, 1681, 797293, 81258, 8887, 17776, 315581, 41112, 10390, 25441, 21706, 34030, 28423, 52706, 43531, 139231, 29289, 48976, 7846, 493161, 182, 185962, 18064, 97651, 178407, 40601, 26232, 6, 390082, 7275, 413933, 15309, 33, 39974, 6375, 51180, 106058, 68453, 19676, 277, 99551, 20223, 35784, 54197, 92023, 28229, 2599, 38356, 114944, 367793, 48213, 32345, 121851, 61096, 50498, 222966, 2080, 1953, 20222, 39403, 92840, 23700, 149621, 4643, 206727, 17571, 644667, 72002, 111607, 118919, 51971, 405927, 18554, 955946, 1, 96571, 25750, 82533, 19920, 24717, 258318, 261557, 11001, 2365, 28786, 1614, 143054, 27415, 136694, 92143, 11069, 108166, 208807, 35778, 190672, 1472, 323, 31405, 108693, 88348, 154637, 50790, 531468, 33229, 58293, 76365, 52016, 53058, 113790, 162320, 10721, 29657, 15411, 80081, 60662, 724, 21042, 10847, 1483, 37850, 42428, 315852, 2763, 75605, 377082, 29840, 7163, 8831, 142990, 83538, 12023, 303826, 62361, 36865, 99382, 135803, 42326, 35425, 65, 110504, 727796, 104227, 15907, 466737, 16501, 1161, 44328, 16785, 100551, 47708, 27619, 67448, 526, 54851, 225702, 28254, 357695, 49484, 121878, 171326, 29158, 33249, 5781, 241885, 382352, 177174, 396456, 60848, 68856, 66568, 44602, 103080, 82108, 73006, 45935, 60380, 9648, 28507, 161, 68208, 9641, 288273, 11293, 25143, 37236, 9276, 1920, 27474, 71449, 495, 173733, 37216, 157452, 583947, 30594, 30465, 6797, 1310, 142, 16641, 3595, 20581, 52317, 88321, 111895, 137628, 121072, 10920, 131616, 6, 33575, 26890, 347591, 15764, 55847, 69212, 219401, 235373, 1930, 457, 616, 25917, 45582, 22064, 115960, 55551, 380733, 123272, 23117, 269571, 1550109, 7127562, 1472, 9992039, 7521585, 11607]}],                        {\"font\": {\"color\": \"white\", \"family\": \"Roboto\", \"size\": 10}, \"hovermode\": \"x\", \"legend\": {\"tracegroupgap\": 0}, \"margin\": {\"t\": 60}, \"paper_bgcolor\": \"black\", \"plot_bgcolor\": \"black\", \"template\": {\"data\": {\"bar\": [{\"error_x\": {\"color\": \"#2a3f5f\"}, \"error_y\": {\"color\": \"#2a3f5f\"}, \"marker\": {\"line\": {\"color\": \"#E5ECF6\", \"width\": 0.5}}, \"type\": \"bar\"}], \"barpolar\": [{\"marker\": {\"line\": {\"color\": \"#E5ECF6\", \"width\": 0.5}}, \"type\": \"barpolar\"}], \"carpet\": [{\"aaxis\": {\"endlinecolor\": \"#2a3f5f\", \"gridcolor\": \"white\", \"linecolor\": \"white\", \"minorgridcolor\": \"white\", \"startlinecolor\": \"#2a3f5f\"}, \"baxis\": {\"endlinecolor\": \"#2a3f5f\", \"gridcolor\": \"white\", \"linecolor\": \"white\", \"minorgridcolor\": \"white\", \"startlinecolor\": \"#2a3f5f\"}, \"type\": \"carpet\"}], \"choropleth\": [{\"colorbar\": {\"outlinewidth\": 0, \"ticks\": \"\"}, \"type\": \"choropleth\"}], \"contour\": [{\"colorbar\": {\"outlinewidth\": 0, \"ticks\": \"\"}, \"colorscale\": [[0.0, \"#0d0887\"], [0.1111111111111111, \"#46039f\"], [0.2222222222222222, \"#7201a8\"], [0.3333333333333333, \"#9c179e\"], [0.4444444444444444, \"#bd3786\"], [0.5555555555555556, \"#d8576b\"], [0.6666666666666666, \"#ed7953\"], [0.7777777777777778, \"#fb9f3a\"], [0.8888888888888888, \"#fdca26\"], [1.0, \"#f0f921\"]], \"type\": \"contour\"}], \"contourcarpet\": [{\"colorbar\": {\"outlinewidth\": 0, \"ticks\": \"\"}, \"type\": \"contourcarpet\"}], \"heatmap\": [{\"colorbar\": {\"outlinewidth\": 0, \"ticks\": \"\"}, \"colorscale\": [[0.0, \"#0d0887\"], [0.1111111111111111, \"#46039f\"], [0.2222222222222222, \"#7201a8\"], [0.3333333333333333, \"#9c179e\"], [0.4444444444444444, \"#bd3786\"], [0.5555555555555556, \"#d8576b\"], [0.6666666666666666, \"#ed7953\"], [0.7777777777777778, \"#fb9f3a\"], [0.8888888888888888, \"#fdca26\"], [1.0, \"#f0f921\"]], \"type\": \"heatmap\"}], \"heatmapgl\": [{\"colorbar\": {\"outlinewidth\": 0, \"ticks\": \"\"}, \"colorscale\": [[0.0, \"#0d0887\"], [0.1111111111111111, \"#46039f\"], [0.2222222222222222, \"#7201a8\"], [0.3333333333333333, \"#9c179e\"], [0.4444444444444444, \"#bd3786\"], [0.5555555555555556, \"#d8576b\"], [0.6666666666666666, \"#ed7953\"], [0.7777777777777778, \"#fb9f3a\"], [0.8888888888888888, \"#fdca26\"], [1.0, \"#f0f921\"]], \"type\": \"heatmapgl\"}], \"histogram\": [{\"marker\": {\"colorbar\": {\"outlinewidth\": 0, \"ticks\": \"\"}}, \"type\": \"histogram\"}], \"histogram2d\": [{\"colorbar\": {\"outlinewidth\": 0, \"ticks\": \"\"}, \"colorscale\": [[0.0, \"#0d0887\"], [0.1111111111111111, \"#46039f\"], [0.2222222222222222, \"#7201a8\"], [0.3333333333333333, \"#9c179e\"], [0.4444444444444444, \"#bd3786\"], [0.5555555555555556, \"#d8576b\"], [0.6666666666666666, \"#ed7953\"], [0.7777777777777778, \"#fb9f3a\"], [0.8888888888888888, \"#fdca26\"], [1.0, \"#f0f921\"]], \"type\": \"histogram2d\"}], \"histogram2dcontour\": [{\"colorbar\": {\"outlinewidth\": 0, \"ticks\": \"\"}, \"colorscale\": [[0.0, \"#0d0887\"], [0.1111111111111111, \"#46039f\"], [0.2222222222222222, \"#7201a8\"], [0.3333333333333333, \"#9c179e\"], [0.4444444444444444, \"#bd3786\"], [0.5555555555555556, \"#d8576b\"], [0.6666666666666666, \"#ed7953\"], [0.7777777777777778, \"#fb9f3a\"], [0.8888888888888888, \"#fdca26\"], [1.0, \"#f0f921\"]], \"type\": \"histogram2dcontour\"}], \"mesh3d\": [{\"colorbar\": {\"outlinewidth\": 0, \"ticks\": \"\"}, \"type\": \"mesh3d\"}], \"parcoords\": [{\"line\": {\"colorbar\": {\"outlinewidth\": 0, \"ticks\": \"\"}}, \"type\": \"parcoords\"}], \"pie\": [{\"automargin\": true, \"type\": \"pie\"}], \"scatter\": [{\"marker\": {\"colorbar\": {\"outlinewidth\": 0, \"ticks\": \"\"}}, \"type\": \"scatter\"}], \"scatter3d\": [{\"line\": {\"colorbar\": {\"outlinewidth\": 0, \"ticks\": \"\"}}, \"marker\": {\"colorbar\": {\"outlinewidth\": 0, \"ticks\": \"\"}}, \"type\": \"scatter3d\"}], \"scattercarpet\": [{\"marker\": {\"colorbar\": {\"outlinewidth\": 0, \"ticks\": \"\"}}, \"type\": \"scattercarpet\"}], \"scattergeo\": [{\"marker\": {\"colorbar\": {\"outlinewidth\": 0, \"ticks\": \"\"}}, \"type\": \"scattergeo\"}], \"scattergl\": [{\"marker\": {\"colorbar\": {\"outlinewidth\": 0, \"ticks\": \"\"}}, \"type\": \"scattergl\"}], \"scattermapbox\": [{\"marker\": {\"colorbar\": {\"outlinewidth\": 0, \"ticks\": \"\"}}, \"type\": \"scattermapbox\"}], \"scatterpolar\": [{\"marker\": {\"colorbar\": {\"outlinewidth\": 0, \"ticks\": \"\"}}, \"type\": \"scatterpolar\"}], \"scatterpolargl\": [{\"marker\": {\"colorbar\": {\"outlinewidth\": 0, \"ticks\": \"\"}}, \"type\": \"scatterpolargl\"}], \"scatterternary\": [{\"marker\": {\"colorbar\": {\"outlinewidth\": 0, \"ticks\": \"\"}}, \"type\": \"scatterternary\"}], \"surface\": [{\"colorbar\": {\"outlinewidth\": 0, \"ticks\": \"\"}, \"colorscale\": [[0.0, \"#0d0887\"], [0.1111111111111111, \"#46039f\"], [0.2222222222222222, \"#7201a8\"], [0.3333333333333333, \"#9c179e\"], [0.4444444444444444, \"#bd3786\"], [0.5555555555555556, \"#d8576b\"], [0.6666666666666666, \"#ed7953\"], [0.7777777777777778, \"#fb9f3a\"], [0.8888888888888888, \"#fdca26\"], [1.0, \"#f0f921\"]], \"type\": \"surface\"}], \"table\": [{\"cells\": {\"fill\": {\"color\": \"#EBF0F8\"}, \"line\": {\"color\": \"white\"}}, \"header\": {\"fill\": {\"color\": \"#C8D4E3\"}, \"line\": {\"color\": \"white\"}}, \"type\": \"table\"}]}, \"layout\": {\"annotationdefaults\": {\"arrowcolor\": \"#2a3f5f\", \"arrowhead\": 0, \"arrowwidth\": 1}, \"coloraxis\": {\"colorbar\": {\"outlinewidth\": 0, \"ticks\": \"\"}}, \"colorscale\": {\"diverging\": [[0, \"#8e0152\"], [0.1, \"#c51b7d\"], [0.2, \"#de77ae\"], [0.3, \"#f1b6da\"], [0.4, \"#fde0ef\"], [0.5, \"#f7f7f7\"], [0.6, \"#e6f5d0\"], [0.7, \"#b8e186\"], [0.8, \"#7fbc41\"], [0.9, \"#4d9221\"], [1, \"#276419\"]], \"sequential\": [[0.0, \"#0d0887\"], [0.1111111111111111, \"#46039f\"], [0.2222222222222222, \"#7201a8\"], [0.3333333333333333, \"#9c179e\"], [0.4444444444444444, \"#bd3786\"], [0.5555555555555556, \"#d8576b\"], [0.6666666666666666, \"#ed7953\"], [0.7777777777777778, \"#fb9f3a\"], [0.8888888888888888, \"#fdca26\"], [1.0, \"#f0f921\"]], \"sequentialminus\": [[0.0, \"#0d0887\"], [0.1111111111111111, \"#46039f\"], [0.2222222222222222, \"#7201a8\"], [0.3333333333333333, \"#9c179e\"], [0.4444444444444444, \"#bd3786\"], [0.5555555555555556, \"#d8576b\"], [0.6666666666666666, \"#ed7953\"], [0.7777777777777778, \"#fb9f3a\"], [0.8888888888888888, \"#fdca26\"], [1.0, \"#f0f921\"]]}, \"colorway\": [\"#636efa\", \"#EF553B\", \"#00cc96\", \"#ab63fa\", \"#FFA15A\", \"#19d3f3\", \"#FF6692\", \"#B6E880\", \"#FF97FF\", \"#FECB52\"], \"font\": {\"color\": \"#2a3f5f\"}, \"geo\": {\"bgcolor\": \"white\", \"lakecolor\": \"white\", \"landcolor\": \"#E5ECF6\", \"showlakes\": true, \"showland\": true, \"subunitcolor\": \"white\"}, \"hoverlabel\": {\"align\": \"left\"}, \"hovermode\": \"closest\", \"mapbox\": {\"style\": \"light\"}, \"paper_bgcolor\": \"white\", \"plot_bgcolor\": \"#E5ECF6\", \"polar\": {\"angularaxis\": {\"gridcolor\": \"white\", \"linecolor\": \"white\", \"ticks\": \"\"}, \"bgcolor\": \"#E5ECF6\", \"radialaxis\": {\"gridcolor\": \"white\", \"linecolor\": \"white\", \"ticks\": \"\"}}, \"scene\": {\"xaxis\": {\"backgroundcolor\": \"#E5ECF6\", \"gridcolor\": \"white\", \"gridwidth\": 2, \"linecolor\": \"white\", \"showbackground\": true, \"ticks\": \"\", \"zerolinecolor\": \"white\"}, \"yaxis\": {\"backgroundcolor\": \"#E5ECF6\", \"gridcolor\": \"white\", \"gridwidth\": 2, \"linecolor\": \"white\", \"showbackground\": true, \"ticks\": \"\", \"zerolinecolor\": \"white\"}, \"zaxis\": {\"backgroundcolor\": \"#E5ECF6\", \"gridcolor\": \"white\", \"gridwidth\": 2, \"linecolor\": \"white\", \"showbackground\": true, \"ticks\": \"\", \"zerolinecolor\": \"white\"}}, \"shapedefaults\": {\"line\": {\"color\": \"#2a3f5f\"}}, \"ternary\": {\"aaxis\": {\"gridcolor\": \"white\", \"linecolor\": \"white\", \"ticks\": \"\"}, \"baxis\": {\"gridcolor\": \"white\", \"linecolor\": \"white\", \"ticks\": \"\"}, \"bgcolor\": \"#E5ECF6\", \"caxis\": {\"gridcolor\": \"white\", \"linecolor\": \"white\", \"ticks\": \"\"}}, \"title\": {\"x\": 0.05}, \"xaxis\": {\"automargin\": true, \"gridcolor\": \"white\", \"linecolor\": \"white\", \"ticks\": \"\", \"title\": {\"standoff\": 15}, \"zerolinecolor\": \"white\", \"zerolinewidth\": 2}, \"yaxis\": {\"automargin\": true, \"gridcolor\": \"white\", \"linecolor\": \"white\", \"ticks\": \"\", \"title\": {\"standoff\": 15}, \"zerolinecolor\": \"white\", \"zerolinewidth\": 2}}}, \"title\": {\"font\": {\"family\": \"Roboto\"}, \"text\": \"drop off by zone\"}},                        {\"responsive\": true}                    ).then(function(){\n",
       "                            \n",
       "var gd = document.getElementById('0d137280-4d94-4ed0-b1d8-eeeb0241b19c');\n",
       "var x = new MutationObserver(function (mutations, observer) {{\n",
       "        var display = window.getComputedStyle(gd).display;\n",
       "        if (!display || display === 'none') {{\n",
       "            console.log([gd, 'removed!']);\n",
       "            Plotly.purge(gd);\n",
       "            observer.disconnect();\n",
       "        }}\n",
       "}});\n",
       "\n",
       "// Listen for the removal of the full notebook cells\n",
       "var notebookContainer = gd.closest('#notebook-container');\n",
       "if (notebookContainer) {{\n",
       "    x.observe(notebookContainer, {childList: true});\n",
       "}}\n",
       "\n",
       "// Listen for the clearing of the current output cell\n",
       "var outputEl = gd.closest('.output');\n",
       "if (outputEl) {{\n",
       "    x.observe(outputEl, {childList: true});\n",
       "}}\n",
       "\n",
       "                        })                };                });            </script>        </div>"
      ]
     },
     "metadata": {},
     "output_type": "display_data"
    }
   ],
   "source": [
    "df = trips.groupby(['doborough','dozone']).agg({'pickup_time':'count'}).reset_index()\n",
    "fig = px.sunburst(df.reset_index(), path=['doborough', 'dozone'], values='pickup_time',color='doborough',\n",
    "                  color_discrete_map={'Brooklyn':'#F3F0D7', 'Queens':'#949db9', 'Bronx':'#F7DBF0','Manhattan':'#CDF0EA'})\n",
    "\n",
    "fig.update_layout(hovermode = 'x', \n",
    "                  title=\"drop off by zone\", font=dict(size = 10, color = 'white'), \n",
    "                  plot_bgcolor='black', paper_bgcolor='black',font_family=\"Roboto\", title_font_family=\"Roboto\" )\n",
    "fig.show()"
   ]
  },
  {
   "cell_type": "markdown",
   "id": "14f0023c",
   "metadata": {},
   "source": [
    "## Pick-up locations"
   ]
  },
  {
   "cell_type": "code",
   "execution_count": 39,
   "id": "16c6a48f",
   "metadata": {
    "scrolled": true
   },
   "outputs": [
    {
     "data": {
      "application/vnd.plotly.v1+json": {
       "config": {
        "plotlyServerURL": "https://plot.ly"
       },
       "data": [
        {
         "branchvalues": "total",
         "customdata": [
          [
           "Bronx"
          ],
          [
           "EWR"
          ],
          [
           "Queens"
          ],
          [
           "Bronx"
          ],
          [
           "Queens"
          ],
          [
           "Staten Island"
          ],
          [
           "Brooklyn"
          ],
          [
           "Brooklyn"
          ],
          [
           "Queens"
          ],
          [
           "Queens"
          ],
          [
           "Brooklyn"
          ],
          [
           "Bronx"
          ],
          [
           "Bronx"
          ],
          [
           "Bronx"
          ],
          [
           "Bronx"
          ],
          [
           "Manhattan"
          ],
          [
           "Staten Island"
          ],
          [
           "Brooklyn"
          ],
          [
           "Brooklyn"
          ],
          [
           "Brooklyn"
          ],
          [
           "Queens"
          ],
          [
           "Queens"
          ],
          [
           "Queens"
          ],
          [
           "Manhattan"
          ],
          [
           "Brooklyn"
          ],
          [
           "Queens"
          ],
          [
           "Queens"
          ],
          [
           "Queens"
          ],
          [
           "Bronx"
          ],
          [
           "Bronx"
          ],
          [
           "Staten Island"
          ],
          [
           "Queens"
          ],
          [
           "Queens"
          ],
          [
           "Bronx"
          ],
          [
           "Manhattan"
          ],
          [
           "Manhattan"
          ],
          [
           "Manhattan"
          ],
          [
           "Manhattan"
          ],
          [
           "Manhattan"
          ],
          [
           "Queens"
          ],
          [
           "Queens"
          ],
          [
           "Bronx"
          ],
          [
           "Manhattan"
          ],
          [
           "Brooklyn"
          ],
          [
           "Brooklyn"
          ],
          [
           "Manhattan"
          ],
          [
           "Manhattan"
          ],
          [
           "Manhattan"
          ],
          [
           "Brooklyn"
          ],
          [
           "Brooklyn"
          ],
          [
           "Staten Island"
          ],
          [
           "Queens"
          ],
          [
           "Manhattan"
          ],
          [
           "Bronx"
          ],
          [
           "Queens"
          ],
          [
           "Manhattan"
          ],
          [
           "Manhattan"
          ],
          [
           "Manhattan"
          ],
          [
           "Manhattan"
          ],
          [
           "Brooklyn"
          ],
          [
           "Manhattan"
          ],
          [
           "Bronx"
          ],
          [
           "Bronx"
          ],
          [
           "Manhattan"
          ],
          [
           "Manhattan"
          ],
          [
           "Queens"
          ],
          [
           "Staten Island"
          ],
          [
           "Manhattan"
          ],
          [
           "Bronx"
          ],
          [
           "Bronx"
          ],
          [
           "Bronx"
          ],
          [
           "Manhattan"
          ],
          [
           "Manhattan"
          ],
          [
           "Staten Island"
          ],
          [
           "Manhattan"
          ],
          [
           "Bronx"
          ],
          [
           "Bronx"
          ],
          [
           "Manhattan"
          ],
          [
           "Bronx"
          ],
          [
           "Staten Island"
          ],
          [
           "Queens"
          ],
          [
           "Queens"
          ],
          [
           "Bronx"
          ],
          [
           "Brooklyn"
          ],
          [
           "Brooklyn"
          ],
          [
           "Brooklyn"
          ],
          [
           "Queens"
          ],
          [
           "Bronx"
          ],
          [
           "Queens"
          ],
          [
           "Manhattan"
          ],
          [
           "Manhattan"
          ],
          [
           "Manhattan"
          ],
          [
           "Bronx"
          ],
          [
           "Brooklyn"
          ],
          [
           "EWR"
          ],
          [
           "Manhattan"
          ],
          [
           "Manhattan"
          ],
          [
           "Manhattan"
          ],
          [
           "Manhattan"
          ],
          [
           "Bronx"
          ],
          [
           "Queens"
          ],
          [
           "Staten Island"
          ],
          [
           "Queens"
          ],
          [
           "Bronx"
          ],
          [
           "Manhattan"
          ],
          [
           "Brooklyn"
          ],
          [
           "Manhattan"
          ],
          [
           "Bronx"
          ],
          [
           "Bronx"
          ],
          [
           "Staten Island"
          ],
          [
           "Queens"
          ],
          [
           "Queens"
          ],
          [
           "Brooklyn"
          ],
          [
           "Queens"
          ],
          [
           "Queens"
          ],
          [
           "Queens"
          ],
          [
           "Staten Island"
          ],
          [
           "Brooklyn"
          ],
          [
           "Queens"
          ],
          [
           "Manhattan"
          ],
          [
           "Brooklyn"
          ],
          [
           "Queens"
          ],
          [
           "Brooklyn"
          ],
          [
           "Brooklyn"
          ],
          [
           "Manhattan"
          ],
          [
           "Manhattan"
          ],
          [
           "Manhattan"
          ],
          [
           "Manhattan"
          ],
          [
           "Manhattan"
          ],
          [
           "Manhattan"
          ],
          [
           "Bronx"
          ],
          [
           "Queens"
          ],
          [
           "Queens"
          ],
          [
           "Bronx"
          ],
          [
           "Brooklyn"
          ],
          [
           "Queens"
          ],
          [
           "Brooklyn"
          ],
          [
           "Brooklyn"
          ],
          [
           "Manhattan"
          ],
          [
           "Manhattan"
          ],
          [
           "Manhattan"
          ],
          [
           "Staten Island"
          ],
          [
           "Manhattan"
          ],
          [
           "Bronx"
          ],
          [
           "Bronx"
          ],
          [
           "Manhattan"
          ],
          [
           "Brooklyn"
          ],
          [
           "Manhattan"
          ],
          [
           "Bronx"
          ],
          [
           "Brooklyn"
          ],
          [
           "Queens"
          ],
          [
           "Brooklyn"
          ],
          [
           "Brooklyn"
          ],
          [
           "Queens"
          ],
          [
           "Bronx"
          ],
          [
           "Bronx"
          ],
          [
           "Bronx"
          ],
          [
           "Brooklyn"
          ],
          [
           "Brooklyn"
          ],
          [
           "Brooklyn"
          ],
          [
           "Brooklyn"
          ],
          [
           "Queens"
          ],
          [
           "Brooklyn"
          ],
          [
           "Brooklyn"
          ],
          [
           "Brooklyn"
          ],
          [
           "Brooklyn"
          ],
          [
           "Brooklyn"
          ],
          [
           "Manhattan"
          ],
          [
           "Staten Island"
          ],
          [
           "Staten Island"
          ],
          [
           "Queens"
          ],
          [
           "Queens"
          ],
          [
           "Queens"
          ],
          [
           "Queens"
          ],
          [
           "Brooklyn"
          ],
          [
           "Manhattan"
          ],
          [
           "Manhattan"
          ],
          [
           "Brooklyn"
          ],
          [
           "Queens"
          ],
          [
           "Queens"
          ],
          [
           "Brooklyn"
          ],
          [
           "Bronx"
          ],
          [
           "Queens"
          ],
          [
           "Bronx"
          ],
          [
           "Brooklyn"
          ],
          [
           "Brooklyn"
          ],
          [
           "Staten Island"
          ],
          [
           "Manhattan"
          ],
          [
           "Brooklyn"
          ],
          [
           "Brooklyn"
          ],
          [
           "Queens"
          ],
          [
           "Queens"
          ],
          [
           "Brooklyn"
          ],
          [
           "Queens"
          ],
          [
           "Bronx"
          ],
          [
           "Bronx"
          ],
          [
           "Brooklyn"
          ],
          [
           "Manhattan"
          ],
          [
           "Bronx"
          ],
          [
           "Queens"
          ],
          [
           "Manhattan"
          ],
          [
           "Brooklyn"
          ],
          [
           "Staten Island"
          ],
          [
           "Brooklyn"
          ],
          [
           "Brooklyn"
          ],
          [
           "Manhattan"
          ],
          [
           "Manhattan"
          ],
          [
           "Staten Island"
          ],
          [
           "Manhattan"
          ],
          [
           "Queens"
          ],
          [
           "Staten Island"
          ],
          [
           "Bronx"
          ],
          [
           "Manhattan"
          ],
          [
           "Queens"
          ],
          [
           "Queens"
          ],
          [
           "Brooklyn"
          ],
          [
           "Queens"
          ],
          [
           "Manhattan"
          ],
          [
           "Bronx"
          ],
          [
           "Manhattan"
          ],
          [
           "Manhattan"
          ],
          [
           "Queens"
          ],
          [
           "Queens"
          ],
          [
           "Queens"
          ],
          [
           "Queens"
          ],
          [
           "Queens"
          ],
          [
           "Brooklyn"
          ],
          [
           "Queens"
          ],
          [
           "Queens"
          ],
          [
           "Brooklyn"
          ],
          [
           "Manhattan"
          ],
          [
           "Queens"
          ],
          [
           "Queens"
          ],
          [
           "Brooklyn"
          ],
          [
           "Brooklyn"
          ],
          [
           "Queens"
          ],
          [
           "Manhattan"
          ],
          [
           "Manhattan"
          ],
          [
           "Brooklyn"
          ],
          [
           "Brooklyn"
          ],
          [
           "Bronx"
          ],
          [
           "Manhattan"
          ],
          [
           "Brooklyn"
          ],
          [
           "Bronx"
          ],
          [
           "Queens"
          ],
          [
           "Queens"
          ],
          [
           "Staten Island"
          ],
          [
           "Manhattan"
          ],
          [
           "Brooklyn"
          ],
          [
           "Manhattan"
          ],
          [
           "Manhattan"
          ],
          [
           "Brooklyn"
          ],
          [
           "Manhattan"
          ],
          [
           "Brooklyn"
          ],
          [
           "Queens"
          ],
          [
           "Queens"
          ],
          [
           "Bronx"
          ],
          [
           "Queens"
          ],
          [
           "Queens"
          ],
          [
           "Brooklyn"
          ],
          [
           "Queens"
          ],
          [
           "Staten Island"
          ],
          [
           "Manhattan"
          ],
          [
           "Queens"
          ],
          [
           "Staten Island"
          ]
         ],
         "domain": {
          "x": [
           0,
           1
          ],
          "y": [
           0,
           1
          ]
         },
         "hovertemplate": "labels=%{label}<br>pickup_time=%{value}<br>parent=%{parent}<br>id=%{id}<br>puborough=%{customdata[0]}<extra></extra>",
         "ids": [
          "Bronx/Allerton/Pelham Gardens",
          "EWR/Newark Airport",
          "Queens/North Corona",
          "Bronx/Norwood",
          "Queens/Oakland Gardens",
          "Staten Island/Oakwood",
          "Brooklyn/Ocean Hill",
          "Brooklyn/Ocean Parkway South",
          "Queens/Old Astoria",
          "Queens/Ozone Park",
          "Brooklyn/Park Slope",
          "Bronx/Parkchester",
          "Bronx/Pelham Bay",
          "Bronx/Pelham Bay Park",
          "Bronx/Pelham Parkway",
          "Manhattan/Penn Station/Madison Sq West",
          "Staten Island/Port Richmond",
          "Brooklyn/Prospect Heights",
          "Brooklyn/Prospect Park",
          "Brooklyn/Prospect-Lefferts Gardens",
          "Queens/Queens Village",
          "Queens/Queensboro Hill",
          "Queens/Queensbridge/Ravenswood",
          "Manhattan/Randalls Island",
          "Brooklyn/Red Hook",
          "Queens/Rego Park",
          "Queens/Richmond Hill",
          "Queens/Ridgewood",
          "Bronx/Rikers Island",
          "Bronx/Riverdale/North Riverdale/Fieldston",
          "Staten Island/New Dorp/Midland Beach",
          "Queens/Rockaway Park",
          "Queens/Murray Hill-Queens",
          "Bronx/Mount Hope",
          "Manhattan/Lenox Hill East",
          "Manhattan/Lenox Hill West",
          "Manhattan/Lincoln Square East",
          "Manhattan/Lincoln Square West",
          "Manhattan/Little Italy/NoLiTa",
          "Queens/Long Island City/Hunters Point",
          "Queens/Long Island City/Queens Plaza",
          "Bronx/Longwood",
          "Manhattan/Lower East Side",
          "Brooklyn/Madison",
          "Brooklyn/Manhattan Beach",
          "Manhattan/Manhattan Valley",
          "Manhattan/Manhattanville",
          "Manhattan/Marble Hill",
          "Brooklyn/Marine Park/Floyd Bennett Field",
          "Brooklyn/Marine Park/Mill Basin",
          "Staten Island/Mariners Harbor",
          "Queens/Maspeth",
          "Manhattan/Meatpacking/West Village West",
          "Bronx/Melrose South",
          "Queens/Middle Village",
          "Manhattan/Midtown Center",
          "Manhattan/Midtown East",
          "Manhattan/Midtown North",
          "Manhattan/Midtown South",
          "Brooklyn/Midwood",
          "Manhattan/Morningside Heights",
          "Bronx/Morrisania/Melrose",
          "Bronx/Mott Haven/Port Morris",
          "Manhattan/Murray Hill",
          "Manhattan/Roosevelt Island",
          "Queens/Rosedale",
          "Staten Island/Rossville/Woodrow",
          "Manhattan/Upper West Side South",
          "Bronx/Van Cortlandt Park",
          "Bronx/Van Cortlandt Village",
          "Bronx/Van Nest/Morris Park",
          "Manhattan/Washington Heights North",
          "Manhattan/Washington Heights South",
          "Staten Island/West Brighton",
          "Manhattan/West Chelsea/Hudson Yards",
          "Bronx/West Concourse",
          "Bronx/West Farms/Bronx River",
          "Manhattan/West Village",
          "Bronx/Westchester Village/Unionport",
          "Staten Island/Westerleigh",
          "Queens/Whitestone",
          "Queens/Willets Point",
          "Bronx/Williamsbridge/Olinville",
          "Brooklyn/Williamsburg (North Side)",
          "Brooklyn/Williamsburg (South Side)",
          "Brooklyn/Windsor Terrace",
          "Queens/Woodhaven",
          "Bronx/Woodlawn/Wakefield",
          "Queens/Woodside",
          "Manhattan/World Trade Center",
          "Manhattan/Yorkville East",
          "Manhattan/Yorkville West",
          "Bronx",
          "Brooklyn",
          "EWR",
          "Manhattan",
          "Manhattan/Upper West Side North",
          "Manhattan/Upper East Side South",
          "Manhattan/Upper East Side North",
          "Bronx/University Heights/Morris Heights",
          "Queens/Saint Albans",
          "Staten Island/Saint George/New Brighton",
          "Queens/Saint Michaels Cemetery/Woodside",
          "Bronx/Schuylerville/Edgewater Park",
          "Manhattan/Seaport",
          "Brooklyn/Sheepshead Bay",
          "Manhattan/SoHo",
          "Bronx/Soundview/Bruckner",
          "Bronx/Soundview/Castle Hill",
          "Staten Island/South Beach/Dongan Hills",
          "Queens/South Jamaica",
          "Queens/South Ozone Park",
          "Brooklyn/South Williamsburg",
          "Queens/Springfield Gardens North",
          "Queens/Laurelton",
          "Queens/Springfield Gardens South",
          "Staten Island/Stapleton",
          "Brooklyn/Starrett City",
          "Queens/Steinway",
          "Manhattan/Stuy Town/Peter Cooper Village",
          "Brooklyn/Stuyvesant Heights",
          "Queens/Sunnyside",
          "Brooklyn/Sunset Park East",
          "Brooklyn/Sunset Park West",
          "Manhattan/Sutton Place/Turtle Bay North",
          "Manhattan/Times Sq/Theatre District",
          "Manhattan/TriBeCa/Civic Center",
          "Manhattan/Two Bridges/Seward Park",
          "Manhattan/UN/Turtle Bay South",
          "Manhattan/Union Sq",
          "Bronx/Spuyten Duyvil/Kingsbridge",
          "Queens",
          "Queens/LaGuardia Airport",
          "Bronx/Kingsbridge Heights",
          "Brooklyn/Bushwick South",
          "Queens/Cambria Heights",
          "Brooklyn/Canarsie",
          "Brooklyn/Carroll Gardens",
          "Manhattan/Central Harlem",
          "Manhattan/Central Harlem North",
          "Manhattan/Central Park",
          "Staten Island/Charleston/Tottenville",
          "Manhattan/Chinatown",
          "Bronx/City Island",
          "Bronx/Claremont/Bathgate",
          "Manhattan/Clinton East",
          "Brooklyn/Clinton Hill",
          "Manhattan/Clinton West",
          "Bronx/Co-Op City",
          "Brooklyn/Cobble Hill",
          "Queens/College Point",
          "Brooklyn/Columbia Street",
          "Brooklyn/Coney Island",
          "Queens/Corona",
          "Bronx/Country Club",
          "Bronx/Crotona Park",
          "Bronx/Crotona Park East",
          "Brooklyn/Crown Heights North",
          "Brooklyn/Crown Heights South",
          "Brooklyn/Cypress Hills",
          "Brooklyn/DUMBO/Vinegar Hill",
          "Queens/Douglaston",
          "Brooklyn/Downtown Brooklyn/MetroTech",
          "Brooklyn/Bushwick North",
          "Brooklyn/Dyker Heights",
          "Brooklyn/Brownsville",
          "Brooklyn/Brooklyn Heights",
          "Manhattan/Alphabet City",
          "Staten Island/Arden Heights",
          "Staten Island/Arrochar/Fort Wadsworth",
          "Queens/Astoria",
          "Queens/Astoria Park",
          "Queens/Auburndale",
          "Queens/Baisley Park",
          "Brooklyn/Bath Beach",
          "Manhattan/Battery Park",
          "Manhattan/Battery Park City",
          "Brooklyn/Bay Ridge",
          "Queens/Bay Terrace/Fort Totten",
          "Queens/Bayside",
          "Brooklyn/Bedford",
          "Bronx/Bedford Park",
          "Queens/Bellerose",
          "Bronx/Belmont",
          "Brooklyn/Bensonhurst East",
          "Brooklyn/Bensonhurst West",
          "Staten Island/Bloomfield/Emerson Hill",
          "Manhattan/Bloomingdale",
          "Brooklyn/Boerum Hill",
          "Brooklyn/Borough Park",
          "Queens/Breezy Point/Fort Tilden/Riis Beach",
          "Queens/Briarwood/Jamaica Hills",
          "Brooklyn/Brighton Beach",
          "Queens/Broad Channel",
          "Bronx/Bronx Park",
          "Bronx/Bronxdale",
          "Brooklyn/Brooklyn Navy Yard",
          "Manhattan/East Chelsea",
          "Bronx/East Concourse/Concourse Village",
          "Queens/East Elmhurst",
          "Manhattan/Gramercy",
          "Brooklyn/Gravesend",
          "Staten Island/Great Kills",
          "Brooklyn/Green-Wood Cemetery",
          "Brooklyn/Greenpoint",
          "Manhattan/Greenwich Village North",
          "Manhattan/Greenwich Village South",
          "Staten Island/Grymes Hill/Clifton",
          "Manhattan/Hamilton Heights",
          "Queens/Hammels/Arverne",
          "Staten Island/Heartland Village/Todt Hill",
          "Bronx/Highbridge",
          "Manhattan/Highbridge Park",
          "Queens/Hillcrest/Pomonok",
          "Queens/Hollis",
          "Brooklyn/Homecrest",
          "Queens/Howard Beach",
          "Manhattan/Hudson Sq",
          "Bronx/Hunts Point",
          "Manhattan/Inwood",
          "Manhattan/Inwood Hill Park",
          "Queens/JFK Airport",
          "Queens/Jackson Heights",
          "Queens/Jamaica",
          "Queens/Jamaica Bay",
          "Queens/Jamaica Estates",
          "Brooklyn/Kensington",
          "Queens/Kew Gardens",
          "Queens/Kew Gardens Hills",
          "Brooklyn/Gowanus",
          "Manhattan/Governor's Island/Ellis Island/Liberty Island",
          "Queens/Glendale",
          "Queens/Glen Oaks",
          "Brooklyn/East Flatbush/Farragut",
          "Brooklyn/East Flatbush/Remsen Village",
          "Queens/East Flushing",
          "Manhattan/East Harlem North",
          "Manhattan/East Harlem South",
          "Brooklyn/East New York",
          "Brooklyn/East New York/Pennsylvania Avenue",
          "Bronx/East Tremont",
          "Manhattan/East Village",
          "Brooklyn/East Williamsburg",
          "Bronx/Eastchester",
          "Queens/Elmhurst",
          "Queens/Elmhurst/Maspeth",
          "Staten Island/Eltingville/Annadale/Prince's Bay",
          "Manhattan/Kips Bay",
          "Brooklyn/Erasmus",
          "Manhattan/Financial District North",
          "Manhattan/Financial District South",
          "Brooklyn/Flatbush/Ditmas Park",
          "Manhattan/Flatiron",
          "Brooklyn/Flatlands",
          "Queens/Flushing",
          "Queens/Flushing Meadows-Corona Park",
          "Bronx/Fordham South",
          "Queens/Forest Hills",
          "Queens/Forest Park/Highland Park",
          "Brooklyn/Fort Greene",
          "Queens/Fresh Meadows",
          "Staten Island/Freshkills Park",
          "Manhattan/Garment District",
          "Queens/Far Rockaway",
          "Staten Island"
         ],
         "labels": [
          "Allerton/Pelham Gardens",
          "Newark Airport",
          "North Corona",
          "Norwood",
          "Oakland Gardens",
          "Oakwood",
          "Ocean Hill",
          "Ocean Parkway South",
          "Old Astoria",
          "Ozone Park",
          "Park Slope",
          "Parkchester",
          "Pelham Bay",
          "Pelham Bay Park",
          "Pelham Parkway",
          "Penn Station/Madison Sq West",
          "Port Richmond",
          "Prospect Heights",
          "Prospect Park",
          "Prospect-Lefferts Gardens",
          "Queens Village",
          "Queensboro Hill",
          "Queensbridge/Ravenswood",
          "Randalls Island",
          "Red Hook",
          "Rego Park",
          "Richmond Hill",
          "Ridgewood",
          "Rikers Island",
          "Riverdale/North Riverdale/Fieldston",
          "New Dorp/Midland Beach",
          "Rockaway Park",
          "Murray Hill-Queens",
          "Mount Hope",
          "Lenox Hill East",
          "Lenox Hill West",
          "Lincoln Square East",
          "Lincoln Square West",
          "Little Italy/NoLiTa",
          "Long Island City/Hunters Point",
          "Long Island City/Queens Plaza",
          "Longwood",
          "Lower East Side",
          "Madison",
          "Manhattan Beach",
          "Manhattan Valley",
          "Manhattanville",
          "Marble Hill",
          "Marine Park/Floyd Bennett Field",
          "Marine Park/Mill Basin",
          "Mariners Harbor",
          "Maspeth",
          "Meatpacking/West Village West",
          "Melrose South",
          "Middle Village",
          "Midtown Center",
          "Midtown East",
          "Midtown North",
          "Midtown South",
          "Midwood",
          "Morningside Heights",
          "Morrisania/Melrose",
          "Mott Haven/Port Morris",
          "Murray Hill",
          "Roosevelt Island",
          "Rosedale",
          "Rossville/Woodrow",
          "Upper West Side South",
          "Van Cortlandt Park",
          "Van Cortlandt Village",
          "Van Nest/Morris Park",
          "Washington Heights North",
          "Washington Heights South",
          "West Brighton",
          "West Chelsea/Hudson Yards",
          "West Concourse",
          "West Farms/Bronx River",
          "West Village",
          "Westchester Village/Unionport",
          "Westerleigh",
          "Whitestone",
          "Willets Point",
          "Williamsbridge/Olinville",
          "Williamsburg (North Side)",
          "Williamsburg (South Side)",
          "Windsor Terrace",
          "Woodhaven",
          "Woodlawn/Wakefield",
          "Woodside",
          "World Trade Center",
          "Yorkville East",
          "Yorkville West",
          "Bronx",
          "Brooklyn",
          "EWR",
          "Manhattan",
          "Upper West Side North",
          "Upper East Side South",
          "Upper East Side North",
          "University Heights/Morris Heights",
          "Saint Albans",
          "Saint George/New Brighton",
          "Saint Michaels Cemetery/Woodside",
          "Schuylerville/Edgewater Park",
          "Seaport",
          "Sheepshead Bay",
          "SoHo",
          "Soundview/Bruckner",
          "Soundview/Castle Hill",
          "South Beach/Dongan Hills",
          "South Jamaica",
          "South Ozone Park",
          "South Williamsburg",
          "Springfield Gardens North",
          "Laurelton",
          "Springfield Gardens South",
          "Stapleton",
          "Starrett City",
          "Steinway",
          "Stuy Town/Peter Cooper Village",
          "Stuyvesant Heights",
          "Sunnyside",
          "Sunset Park East",
          "Sunset Park West",
          "Sutton Place/Turtle Bay North",
          "Times Sq/Theatre District",
          "TriBeCa/Civic Center",
          "Two Bridges/Seward Park",
          "UN/Turtle Bay South",
          "Union Sq",
          "Spuyten Duyvil/Kingsbridge",
          "Queens",
          "LaGuardia Airport",
          "Kingsbridge Heights",
          "Bushwick South",
          "Cambria Heights",
          "Canarsie",
          "Carroll Gardens",
          "Central Harlem",
          "Central Harlem North",
          "Central Park",
          "Charleston/Tottenville",
          "Chinatown",
          "City Island",
          "Claremont/Bathgate",
          "Clinton East",
          "Clinton Hill",
          "Clinton West",
          "Co-Op City",
          "Cobble Hill",
          "College Point",
          "Columbia Street",
          "Coney Island",
          "Corona",
          "Country Club",
          "Crotona Park",
          "Crotona Park East",
          "Crown Heights North",
          "Crown Heights South",
          "Cypress Hills",
          "DUMBO/Vinegar Hill",
          "Douglaston",
          "Downtown Brooklyn/MetroTech",
          "Bushwick North",
          "Dyker Heights",
          "Brownsville",
          "Brooklyn Heights",
          "Alphabet City",
          "Arden Heights",
          "Arrochar/Fort Wadsworth",
          "Astoria",
          "Astoria Park",
          "Auburndale",
          "Baisley Park",
          "Bath Beach",
          "Battery Park",
          "Battery Park City",
          "Bay Ridge",
          "Bay Terrace/Fort Totten",
          "Bayside",
          "Bedford",
          "Bedford Park",
          "Bellerose",
          "Belmont",
          "Bensonhurst East",
          "Bensonhurst West",
          "Bloomfield/Emerson Hill",
          "Bloomingdale",
          "Boerum Hill",
          "Borough Park",
          "Breezy Point/Fort Tilden/Riis Beach",
          "Briarwood/Jamaica Hills",
          "Brighton Beach",
          "Broad Channel",
          "Bronx Park",
          "Bronxdale",
          "Brooklyn Navy Yard",
          "East Chelsea",
          "East Concourse/Concourse Village",
          "East Elmhurst",
          "Gramercy",
          "Gravesend",
          "Great Kills",
          "Green-Wood Cemetery",
          "Greenpoint",
          "Greenwich Village North",
          "Greenwich Village South",
          "Grymes Hill/Clifton",
          "Hamilton Heights",
          "Hammels/Arverne",
          "Heartland Village/Todt Hill",
          "Highbridge",
          "Highbridge Park",
          "Hillcrest/Pomonok",
          "Hollis",
          "Homecrest",
          "Howard Beach",
          "Hudson Sq",
          "Hunts Point",
          "Inwood",
          "Inwood Hill Park",
          "JFK Airport",
          "Jackson Heights",
          "Jamaica",
          "Jamaica Bay",
          "Jamaica Estates",
          "Kensington",
          "Kew Gardens",
          "Kew Gardens Hills",
          "Gowanus",
          "Governor's Island/Ellis Island/Liberty Island",
          "Glendale",
          "Glen Oaks",
          "East Flatbush/Farragut",
          "East Flatbush/Remsen Village",
          "East Flushing",
          "East Harlem North",
          "East Harlem South",
          "East New York",
          "East New York/Pennsylvania Avenue",
          "East Tremont",
          "East Village",
          "East Williamsburg",
          "Eastchester",
          "Elmhurst",
          "Elmhurst/Maspeth",
          "Eltingville/Annadale/Prince's Bay",
          "Kips Bay",
          "Erasmus",
          "Financial District North",
          "Financial District South",
          "Flatbush/Ditmas Park",
          "Flatiron",
          "Flatlands",
          "Flushing",
          "Flushing Meadows-Corona Park",
          "Fordham South",
          "Forest Hills",
          "Forest Park/Highland Park",
          "Fort Greene",
          "Fresh Meadows",
          "Freshkills Park",
          "Garment District",
          "Far Rockaway",
          "Staten Island"
         ],
         "marker": {
          "colors": [
           "CDF0EA",
           "#FFA15A",
           "#D3E4CD",
           "CDF0EA",
           "#D3E4CD",
           "#19d3f3",
           "#FEF5ED",
           "#FEF5ED",
           "#D3E4CD",
           "#D3E4CD",
           "#FEF5ED",
           "CDF0EA",
           "CDF0EA",
           "CDF0EA",
           "CDF0EA",
           "#C9CCD5",
           "#19d3f3",
           "#FEF5ED",
           "#FEF5ED",
           "#FEF5ED",
           "#D3E4CD",
           "#D3E4CD",
           "#D3E4CD",
           "#C9CCD5",
           "#FEF5ED",
           "#D3E4CD",
           "#D3E4CD",
           "#D3E4CD",
           "CDF0EA",
           "CDF0EA",
           "#19d3f3",
           "#D3E4CD",
           "#D3E4CD",
           "CDF0EA",
           "#C9CCD5",
           "#C9CCD5",
           "#C9CCD5",
           "#C9CCD5",
           "#C9CCD5",
           "#D3E4CD",
           "#D3E4CD",
           "CDF0EA",
           "#C9CCD5",
           "#FEF5ED",
           "#FEF5ED",
           "#C9CCD5",
           "#C9CCD5",
           "#C9CCD5",
           "#FEF5ED",
           "#FEF5ED",
           "#19d3f3",
           "#D3E4CD",
           "#C9CCD5",
           "CDF0EA",
           "#D3E4CD",
           "#C9CCD5",
           "#C9CCD5",
           "#C9CCD5",
           "#C9CCD5",
           "#FEF5ED",
           "#C9CCD5",
           "CDF0EA",
           "CDF0EA",
           "#C9CCD5",
           "#C9CCD5",
           "#D3E4CD",
           "#19d3f3",
           "#C9CCD5",
           "CDF0EA",
           "CDF0EA",
           "CDF0EA",
           "#C9CCD5",
           "#C9CCD5",
           "#19d3f3",
           "#C9CCD5",
           "CDF0EA",
           "CDF0EA",
           "#C9CCD5",
           "CDF0EA",
           "#19d3f3",
           "#D3E4CD",
           "#D3E4CD",
           "CDF0EA",
           "#FEF5ED",
           "#FEF5ED",
           "#FEF5ED",
           "#D3E4CD",
           "CDF0EA",
           "#D3E4CD",
           "#C9CCD5",
           "#C9CCD5",
           "#C9CCD5",
           "CDF0EA",
           "#FEF5ED",
           "#FFA15A",
           "#C9CCD5",
           "#C9CCD5",
           "#C9CCD5",
           "#C9CCD5",
           "CDF0EA",
           "#D3E4CD",
           "#19d3f3",
           "#D3E4CD",
           "CDF0EA",
           "#C9CCD5",
           "#FEF5ED",
           "#C9CCD5",
           "CDF0EA",
           "CDF0EA",
           "#19d3f3",
           "#D3E4CD",
           "#D3E4CD",
           "#FEF5ED",
           "#D3E4CD",
           "#D3E4CD",
           "#D3E4CD",
           "#19d3f3",
           "#FEF5ED",
           "#D3E4CD",
           "#C9CCD5",
           "#FEF5ED",
           "#D3E4CD",
           "#FEF5ED",
           "#FEF5ED",
           "#C9CCD5",
           "#C9CCD5",
           "#C9CCD5",
           "#C9CCD5",
           "#C9CCD5",
           "#C9CCD5",
           "CDF0EA",
           "#D3E4CD",
           "#D3E4CD",
           "CDF0EA",
           "#FEF5ED",
           "#D3E4CD",
           "#FEF5ED",
           "#FEF5ED",
           "#C9CCD5",
           "#C9CCD5",
           "#C9CCD5",
           "#19d3f3",
           "#C9CCD5",
           "CDF0EA",
           "CDF0EA",
           "#C9CCD5",
           "#FEF5ED",
           "#C9CCD5",
           "CDF0EA",
           "#FEF5ED",
           "#D3E4CD",
           "#FEF5ED",
           "#FEF5ED",
           "#D3E4CD",
           "CDF0EA",
           "CDF0EA",
           "CDF0EA",
           "#FEF5ED",
           "#FEF5ED",
           "#FEF5ED",
           "#FEF5ED",
           "#D3E4CD",
           "#FEF5ED",
           "#FEF5ED",
           "#FEF5ED",
           "#FEF5ED",
           "#FEF5ED",
           "#C9CCD5",
           "#19d3f3",
           "#19d3f3",
           "#D3E4CD",
           "#D3E4CD",
           "#D3E4CD",
           "#D3E4CD",
           "#FEF5ED",
           "#C9CCD5",
           "#C9CCD5",
           "#FEF5ED",
           "#D3E4CD",
           "#D3E4CD",
           "#FEF5ED",
           "CDF0EA",
           "#D3E4CD",
           "CDF0EA",
           "#FEF5ED",
           "#FEF5ED",
           "#19d3f3",
           "#C9CCD5",
           "#FEF5ED",
           "#FEF5ED",
           "#D3E4CD",
           "#D3E4CD",
           "#FEF5ED",
           "#D3E4CD",
           "CDF0EA",
           "CDF0EA",
           "#FEF5ED",
           "#C9CCD5",
           "CDF0EA",
           "#D3E4CD",
           "#C9CCD5",
           "#FEF5ED",
           "#19d3f3",
           "#FEF5ED",
           "#FEF5ED",
           "#C9CCD5",
           "#C9CCD5",
           "#19d3f3",
           "#C9CCD5",
           "#D3E4CD",
           "#19d3f3",
           "CDF0EA",
           "#C9CCD5",
           "#D3E4CD",
           "#D3E4CD",
           "#FEF5ED",
           "#D3E4CD",
           "#C9CCD5",
           "CDF0EA",
           "#C9CCD5",
           "#C9CCD5",
           "#D3E4CD",
           "#D3E4CD",
           "#D3E4CD",
           "#D3E4CD",
           "#D3E4CD",
           "#FEF5ED",
           "#D3E4CD",
           "#D3E4CD",
           "#FEF5ED",
           "#C9CCD5",
           "#D3E4CD",
           "#D3E4CD",
           "#FEF5ED",
           "#FEF5ED",
           "#D3E4CD",
           "#C9CCD5",
           "#C9CCD5",
           "#FEF5ED",
           "#FEF5ED",
           "CDF0EA",
           "#C9CCD5",
           "#FEF5ED",
           "CDF0EA",
           "#D3E4CD",
           "#D3E4CD",
           "#19d3f3",
           "#C9CCD5",
           "#FEF5ED",
           "#C9CCD5",
           "#C9CCD5",
           "#FEF5ED",
           "#C9CCD5",
           "#FEF5ED",
           "#D3E4CD",
           "#D3E4CD",
           "CDF0EA",
           "#D3E4CD",
           "#D3E4CD",
           "#FEF5ED",
           "#D3E4CD",
           "#19d3f3",
           "#C9CCD5",
           "#D3E4CD",
           "#19d3f3"
          ]
         },
         "name": "",
         "parents": [
          "Bronx",
          "EWR",
          "Queens",
          "Bronx",
          "Queens",
          "Staten Island",
          "Brooklyn",
          "Brooklyn",
          "Queens",
          "Queens",
          "Brooklyn",
          "Bronx",
          "Bronx",
          "Bronx",
          "Bronx",
          "Manhattan",
          "Staten Island",
          "Brooklyn",
          "Brooklyn",
          "Brooklyn",
          "Queens",
          "Queens",
          "Queens",
          "Manhattan",
          "Brooklyn",
          "Queens",
          "Queens",
          "Queens",
          "Bronx",
          "Bronx",
          "Staten Island",
          "Queens",
          "Queens",
          "Bronx",
          "Manhattan",
          "Manhattan",
          "Manhattan",
          "Manhattan",
          "Manhattan",
          "Queens",
          "Queens",
          "Bronx",
          "Manhattan",
          "Brooklyn",
          "Brooklyn",
          "Manhattan",
          "Manhattan",
          "Manhattan",
          "Brooklyn",
          "Brooklyn",
          "Staten Island",
          "Queens",
          "Manhattan",
          "Bronx",
          "Queens",
          "Manhattan",
          "Manhattan",
          "Manhattan",
          "Manhattan",
          "Brooklyn",
          "Manhattan",
          "Bronx",
          "Bronx",
          "Manhattan",
          "Manhattan",
          "Queens",
          "Staten Island",
          "Manhattan",
          "Bronx",
          "Bronx",
          "Bronx",
          "Manhattan",
          "Manhattan",
          "Staten Island",
          "Manhattan",
          "Bronx",
          "Bronx",
          "Manhattan",
          "Bronx",
          "Staten Island",
          "Queens",
          "Queens",
          "Bronx",
          "Brooklyn",
          "Brooklyn",
          "Brooklyn",
          "Queens",
          "Bronx",
          "Queens",
          "Manhattan",
          "Manhattan",
          "Manhattan",
          "",
          "",
          "",
          "",
          "Manhattan",
          "Manhattan",
          "Manhattan",
          "Bronx",
          "Queens",
          "Staten Island",
          "Queens",
          "Bronx",
          "Manhattan",
          "Brooklyn",
          "Manhattan",
          "Bronx",
          "Bronx",
          "Staten Island",
          "Queens",
          "Queens",
          "Brooklyn",
          "Queens",
          "Queens",
          "Queens",
          "Staten Island",
          "Brooklyn",
          "Queens",
          "Manhattan",
          "Brooklyn",
          "Queens",
          "Brooklyn",
          "Brooklyn",
          "Manhattan",
          "Manhattan",
          "Manhattan",
          "Manhattan",
          "Manhattan",
          "Manhattan",
          "Bronx",
          "",
          "Queens",
          "Bronx",
          "Brooklyn",
          "Queens",
          "Brooklyn",
          "Brooklyn",
          "Manhattan",
          "Manhattan",
          "Manhattan",
          "Staten Island",
          "Manhattan",
          "Bronx",
          "Bronx",
          "Manhattan",
          "Brooklyn",
          "Manhattan",
          "Bronx",
          "Brooklyn",
          "Queens",
          "Brooklyn",
          "Brooklyn",
          "Queens",
          "Bronx",
          "Bronx",
          "Bronx",
          "Brooklyn",
          "Brooklyn",
          "Brooklyn",
          "Brooklyn",
          "Queens",
          "Brooklyn",
          "Brooklyn",
          "Brooklyn",
          "Brooklyn",
          "Brooklyn",
          "Manhattan",
          "Staten Island",
          "Staten Island",
          "Queens",
          "Queens",
          "Queens",
          "Queens",
          "Brooklyn",
          "Manhattan",
          "Manhattan",
          "Brooklyn",
          "Queens",
          "Queens",
          "Brooklyn",
          "Bronx",
          "Queens",
          "Bronx",
          "Brooklyn",
          "Brooklyn",
          "Staten Island",
          "Manhattan",
          "Brooklyn",
          "Brooklyn",
          "Queens",
          "Queens",
          "Brooklyn",
          "Queens",
          "Bronx",
          "Bronx",
          "Brooklyn",
          "Manhattan",
          "Bronx",
          "Queens",
          "Manhattan",
          "Brooklyn",
          "Staten Island",
          "Brooklyn",
          "Brooklyn",
          "Manhattan",
          "Manhattan",
          "Staten Island",
          "Manhattan",
          "Queens",
          "Staten Island",
          "Bronx",
          "Manhattan",
          "Queens",
          "Queens",
          "Brooklyn",
          "Queens",
          "Manhattan",
          "Bronx",
          "Manhattan",
          "Manhattan",
          "Queens",
          "Queens",
          "Queens",
          "Queens",
          "Queens",
          "Brooklyn",
          "Queens",
          "Queens",
          "Brooklyn",
          "Manhattan",
          "Queens",
          "Queens",
          "Brooklyn",
          "Brooklyn",
          "Queens",
          "Manhattan",
          "Manhattan",
          "Brooklyn",
          "Brooklyn",
          "Bronx",
          "Manhattan",
          "Brooklyn",
          "Bronx",
          "Queens",
          "Queens",
          "Staten Island",
          "Manhattan",
          "Brooklyn",
          "Manhattan",
          "Manhattan",
          "Brooklyn",
          "Manhattan",
          "Brooklyn",
          "Queens",
          "Queens",
          "Bronx",
          "Queens",
          "Queens",
          "Brooklyn",
          "Queens",
          "Staten Island",
          "Manhattan",
          "Queens",
          ""
         ],
         "type": "sunburst",
         "values": [
          10858,
          67,
          73500,
          46196,
          3263,
          32,
          41214,
          7272,
          167830,
          4826,
          740749,
          40763,
          8261,
          2845,
          22053,
          794,
          311,
          96047,
          27135,
          104125,
          13825,
          12456,
          74613,
          1640,
          31302,
          237823,
          34083,
          14020,
          7,
          7978,
          86,
          1008,
          6732,
          32071,
          458,
          380,
          583,
          175,
          173,
          338491,
          131248,
          14730,
          195,
          19884,
          9754,
          305,
          207006,
          10529,
          1001,
          23188,
          1317,
          13926,
          142,
          81546,
          8829,
          759,
          780,
          642,
          628,
          26324,
          1062390,
          30606,
          74120,
          666,
          2395,
          4697,
          20,
          619,
          2051,
          20889,
          60249,
          136404,
          639079,
          172,
          233,
          118058,
          12719,
          359,
          22308,
          196,
          3079,
          2835,
          25821,
          744039,
          284596,
          17511,
          10982,
          9864,
          583612,
          190,
          868,
          17499,
          1148344,
          8435163,
          67,
          8886311,
          408,
          553,
          64701,
          31513,
          18779,
          768,
          3345,
          13205,
          90,
          99955,
          181,
          41852,
          34095,
          150,
          15886,
          19085,
          22120,
          10684,
          5520,
          4822,
          468,
          15057,
          474192,
          56,
          105280,
          263088,
          14333,
          48028,
          439,
          978,
          456,
          183,
          267,
          514,
          29501,
          7728536,
          2366,
          27001,
          78613,
          4600,
          42422,
          176417,
          1535265,
          929391,
          272686,
          103,
          129,
          1540,
          24253,
          1005,
          322777,
          192,
          27262,
          254670,
          5093,
          11395,
          62840,
          49318,
          1011,
          793,
          12269,
          274500,
          52730,
          10128,
          524992,
          1799,
          606720,
          85916,
          7963,
          51256,
          681144,
          65,
          138,
          216,
          1277025,
          578,
          5050,
          13460,
          7299,
          22,
          223,
          43435,
          2676,
          7420,
          230321,
          31162,
          5074,
          20697,
          15488,
          19509,
          507,
          90844,
          625442,
          32842,
          264,
          20033,
          19805,
          123,
          10816,
          15440,
          13682,
          459,
          75015,
          25720,
          367,
          13675,
          30,
          1252,
          283676,
          298,
          281,
          1176,
          393632,
          5078,
          225,
          29127,
          2324,
          22655,
          8273,
          22831,
          4917,
          129,
          17466,
          79643,
          3967,
          1564,
          723701,
          392097,
          39,
          11353,
          15801,
          215208,
          15200,
          74914,
          1,
          8749,
          3100,
          34937,
          37030,
          3256,
          1833599,
          1584533,
          71969,
          19588,
          31452,
          461,
          179825,
          14364,
          1172017,
          155115,
          26,
          467,
          30012,
          247,
          165,
          77549,
          355,
          38139,
          198838,
          58974,
          14517,
          741637,
          1173,
          802745,
          3878,
          12,
          844,
          4036,
          5953
         ]
        }
       ],
       "layout": {
        "font": {
         "color": "white",
         "family": "Roboto",
         "size": 10
        },
        "hovermode": "x",
        "legend": {
         "tracegroupgap": 0
        },
        "margin": {
         "t": 60
        },
        "paper_bgcolor": "black",
        "plot_bgcolor": "black",
        "template": {
         "data": {
          "bar": [
           {
            "error_x": {
             "color": "#2a3f5f"
            },
            "error_y": {
             "color": "#2a3f5f"
            },
            "marker": {
             "line": {
              "color": "#E5ECF6",
              "width": 0.5
             }
            },
            "type": "bar"
           }
          ],
          "barpolar": [
           {
            "marker": {
             "line": {
              "color": "#E5ECF6",
              "width": 0.5
             }
            },
            "type": "barpolar"
           }
          ],
          "carpet": [
           {
            "aaxis": {
             "endlinecolor": "#2a3f5f",
             "gridcolor": "white",
             "linecolor": "white",
             "minorgridcolor": "white",
             "startlinecolor": "#2a3f5f"
            },
            "baxis": {
             "endlinecolor": "#2a3f5f",
             "gridcolor": "white",
             "linecolor": "white",
             "minorgridcolor": "white",
             "startlinecolor": "#2a3f5f"
            },
            "type": "carpet"
           }
          ],
          "choropleth": [
           {
            "colorbar": {
             "outlinewidth": 0,
             "ticks": ""
            },
            "type": "choropleth"
           }
          ],
          "contour": [
           {
            "colorbar": {
             "outlinewidth": 0,
             "ticks": ""
            },
            "colorscale": [
             [
              0,
              "#0d0887"
             ],
             [
              0.1111111111111111,
              "#46039f"
             ],
             [
              0.2222222222222222,
              "#7201a8"
             ],
             [
              0.3333333333333333,
              "#9c179e"
             ],
             [
              0.4444444444444444,
              "#bd3786"
             ],
             [
              0.5555555555555556,
              "#d8576b"
             ],
             [
              0.6666666666666666,
              "#ed7953"
             ],
             [
              0.7777777777777778,
              "#fb9f3a"
             ],
             [
              0.8888888888888888,
              "#fdca26"
             ],
             [
              1,
              "#f0f921"
             ]
            ],
            "type": "contour"
           }
          ],
          "contourcarpet": [
           {
            "colorbar": {
             "outlinewidth": 0,
             "ticks": ""
            },
            "type": "contourcarpet"
           }
          ],
          "heatmap": [
           {
            "colorbar": {
             "outlinewidth": 0,
             "ticks": ""
            },
            "colorscale": [
             [
              0,
              "#0d0887"
             ],
             [
              0.1111111111111111,
              "#46039f"
             ],
             [
              0.2222222222222222,
              "#7201a8"
             ],
             [
              0.3333333333333333,
              "#9c179e"
             ],
             [
              0.4444444444444444,
              "#bd3786"
             ],
             [
              0.5555555555555556,
              "#d8576b"
             ],
             [
              0.6666666666666666,
              "#ed7953"
             ],
             [
              0.7777777777777778,
              "#fb9f3a"
             ],
             [
              0.8888888888888888,
              "#fdca26"
             ],
             [
              1,
              "#f0f921"
             ]
            ],
            "type": "heatmap"
           }
          ],
          "heatmapgl": [
           {
            "colorbar": {
             "outlinewidth": 0,
             "ticks": ""
            },
            "colorscale": [
             [
              0,
              "#0d0887"
             ],
             [
              0.1111111111111111,
              "#46039f"
             ],
             [
              0.2222222222222222,
              "#7201a8"
             ],
             [
              0.3333333333333333,
              "#9c179e"
             ],
             [
              0.4444444444444444,
              "#bd3786"
             ],
             [
              0.5555555555555556,
              "#d8576b"
             ],
             [
              0.6666666666666666,
              "#ed7953"
             ],
             [
              0.7777777777777778,
              "#fb9f3a"
             ],
             [
              0.8888888888888888,
              "#fdca26"
             ],
             [
              1,
              "#f0f921"
             ]
            ],
            "type": "heatmapgl"
           }
          ],
          "histogram": [
           {
            "marker": {
             "colorbar": {
              "outlinewidth": 0,
              "ticks": ""
             }
            },
            "type": "histogram"
           }
          ],
          "histogram2d": [
           {
            "colorbar": {
             "outlinewidth": 0,
             "ticks": ""
            },
            "colorscale": [
             [
              0,
              "#0d0887"
             ],
             [
              0.1111111111111111,
              "#46039f"
             ],
             [
              0.2222222222222222,
              "#7201a8"
             ],
             [
              0.3333333333333333,
              "#9c179e"
             ],
             [
              0.4444444444444444,
              "#bd3786"
             ],
             [
              0.5555555555555556,
              "#d8576b"
             ],
             [
              0.6666666666666666,
              "#ed7953"
             ],
             [
              0.7777777777777778,
              "#fb9f3a"
             ],
             [
              0.8888888888888888,
              "#fdca26"
             ],
             [
              1,
              "#f0f921"
             ]
            ],
            "type": "histogram2d"
           }
          ],
          "histogram2dcontour": [
           {
            "colorbar": {
             "outlinewidth": 0,
             "ticks": ""
            },
            "colorscale": [
             [
              0,
              "#0d0887"
             ],
             [
              0.1111111111111111,
              "#46039f"
             ],
             [
              0.2222222222222222,
              "#7201a8"
             ],
             [
              0.3333333333333333,
              "#9c179e"
             ],
             [
              0.4444444444444444,
              "#bd3786"
             ],
             [
              0.5555555555555556,
              "#d8576b"
             ],
             [
              0.6666666666666666,
              "#ed7953"
             ],
             [
              0.7777777777777778,
              "#fb9f3a"
             ],
             [
              0.8888888888888888,
              "#fdca26"
             ],
             [
              1,
              "#f0f921"
             ]
            ],
            "type": "histogram2dcontour"
           }
          ],
          "mesh3d": [
           {
            "colorbar": {
             "outlinewidth": 0,
             "ticks": ""
            },
            "type": "mesh3d"
           }
          ],
          "parcoords": [
           {
            "line": {
             "colorbar": {
              "outlinewidth": 0,
              "ticks": ""
             }
            },
            "type": "parcoords"
           }
          ],
          "pie": [
           {
            "automargin": true,
            "type": "pie"
           }
          ],
          "scatter": [
           {
            "marker": {
             "colorbar": {
              "outlinewidth": 0,
              "ticks": ""
             }
            },
            "type": "scatter"
           }
          ],
          "scatter3d": [
           {
            "line": {
             "colorbar": {
              "outlinewidth": 0,
              "ticks": ""
             }
            },
            "marker": {
             "colorbar": {
              "outlinewidth": 0,
              "ticks": ""
             }
            },
            "type": "scatter3d"
           }
          ],
          "scattercarpet": [
           {
            "marker": {
             "colorbar": {
              "outlinewidth": 0,
              "ticks": ""
             }
            },
            "type": "scattercarpet"
           }
          ],
          "scattergeo": [
           {
            "marker": {
             "colorbar": {
              "outlinewidth": 0,
              "ticks": ""
             }
            },
            "type": "scattergeo"
           }
          ],
          "scattergl": [
           {
            "marker": {
             "colorbar": {
              "outlinewidth": 0,
              "ticks": ""
             }
            },
            "type": "scattergl"
           }
          ],
          "scattermapbox": [
           {
            "marker": {
             "colorbar": {
              "outlinewidth": 0,
              "ticks": ""
             }
            },
            "type": "scattermapbox"
           }
          ],
          "scatterpolar": [
           {
            "marker": {
             "colorbar": {
              "outlinewidth": 0,
              "ticks": ""
             }
            },
            "type": "scatterpolar"
           }
          ],
          "scatterpolargl": [
           {
            "marker": {
             "colorbar": {
              "outlinewidth": 0,
              "ticks": ""
             }
            },
            "type": "scatterpolargl"
           }
          ],
          "scatterternary": [
           {
            "marker": {
             "colorbar": {
              "outlinewidth": 0,
              "ticks": ""
             }
            },
            "type": "scatterternary"
           }
          ],
          "surface": [
           {
            "colorbar": {
             "outlinewidth": 0,
             "ticks": ""
            },
            "colorscale": [
             [
              0,
              "#0d0887"
             ],
             [
              0.1111111111111111,
              "#46039f"
             ],
             [
              0.2222222222222222,
              "#7201a8"
             ],
             [
              0.3333333333333333,
              "#9c179e"
             ],
             [
              0.4444444444444444,
              "#bd3786"
             ],
             [
              0.5555555555555556,
              "#d8576b"
             ],
             [
              0.6666666666666666,
              "#ed7953"
             ],
             [
              0.7777777777777778,
              "#fb9f3a"
             ],
             [
              0.8888888888888888,
              "#fdca26"
             ],
             [
              1,
              "#f0f921"
             ]
            ],
            "type": "surface"
           }
          ],
          "table": [
           {
            "cells": {
             "fill": {
              "color": "#EBF0F8"
             },
             "line": {
              "color": "white"
             }
            },
            "header": {
             "fill": {
              "color": "#C8D4E3"
             },
             "line": {
              "color": "white"
             }
            },
            "type": "table"
           }
          ]
         },
         "layout": {
          "annotationdefaults": {
           "arrowcolor": "#2a3f5f",
           "arrowhead": 0,
           "arrowwidth": 1
          },
          "coloraxis": {
           "colorbar": {
            "outlinewidth": 0,
            "ticks": ""
           }
          },
          "colorscale": {
           "diverging": [
            [
             0,
             "#8e0152"
            ],
            [
             0.1,
             "#c51b7d"
            ],
            [
             0.2,
             "#de77ae"
            ],
            [
             0.3,
             "#f1b6da"
            ],
            [
             0.4,
             "#fde0ef"
            ],
            [
             0.5,
             "#f7f7f7"
            ],
            [
             0.6,
             "#e6f5d0"
            ],
            [
             0.7,
             "#b8e186"
            ],
            [
             0.8,
             "#7fbc41"
            ],
            [
             0.9,
             "#4d9221"
            ],
            [
             1,
             "#276419"
            ]
           ],
           "sequential": [
            [
             0,
             "#0d0887"
            ],
            [
             0.1111111111111111,
             "#46039f"
            ],
            [
             0.2222222222222222,
             "#7201a8"
            ],
            [
             0.3333333333333333,
             "#9c179e"
            ],
            [
             0.4444444444444444,
             "#bd3786"
            ],
            [
             0.5555555555555556,
             "#d8576b"
            ],
            [
             0.6666666666666666,
             "#ed7953"
            ],
            [
             0.7777777777777778,
             "#fb9f3a"
            ],
            [
             0.8888888888888888,
             "#fdca26"
            ],
            [
             1,
             "#f0f921"
            ]
           ],
           "sequentialminus": [
            [
             0,
             "#0d0887"
            ],
            [
             0.1111111111111111,
             "#46039f"
            ],
            [
             0.2222222222222222,
             "#7201a8"
            ],
            [
             0.3333333333333333,
             "#9c179e"
            ],
            [
             0.4444444444444444,
             "#bd3786"
            ],
            [
             0.5555555555555556,
             "#d8576b"
            ],
            [
             0.6666666666666666,
             "#ed7953"
            ],
            [
             0.7777777777777778,
             "#fb9f3a"
            ],
            [
             0.8888888888888888,
             "#fdca26"
            ],
            [
             1,
             "#f0f921"
            ]
           ]
          },
          "colorway": [
           "#636efa",
           "#EF553B",
           "#00cc96",
           "#ab63fa",
           "#FFA15A",
           "#19d3f3",
           "#FF6692",
           "#B6E880",
           "#FF97FF",
           "#FECB52"
          ],
          "font": {
           "color": "#2a3f5f"
          },
          "geo": {
           "bgcolor": "white",
           "lakecolor": "white",
           "landcolor": "#E5ECF6",
           "showlakes": true,
           "showland": true,
           "subunitcolor": "white"
          },
          "hoverlabel": {
           "align": "left"
          },
          "hovermode": "closest",
          "mapbox": {
           "style": "light"
          },
          "paper_bgcolor": "white",
          "plot_bgcolor": "#E5ECF6",
          "polar": {
           "angularaxis": {
            "gridcolor": "white",
            "linecolor": "white",
            "ticks": ""
           },
           "bgcolor": "#E5ECF6",
           "radialaxis": {
            "gridcolor": "white",
            "linecolor": "white",
            "ticks": ""
           }
          },
          "scene": {
           "xaxis": {
            "backgroundcolor": "#E5ECF6",
            "gridcolor": "white",
            "gridwidth": 2,
            "linecolor": "white",
            "showbackground": true,
            "ticks": "",
            "zerolinecolor": "white"
           },
           "yaxis": {
            "backgroundcolor": "#E5ECF6",
            "gridcolor": "white",
            "gridwidth": 2,
            "linecolor": "white",
            "showbackground": true,
            "ticks": "",
            "zerolinecolor": "white"
           },
           "zaxis": {
            "backgroundcolor": "#E5ECF6",
            "gridcolor": "white",
            "gridwidth": 2,
            "linecolor": "white",
            "showbackground": true,
            "ticks": "",
            "zerolinecolor": "white"
           }
          },
          "shapedefaults": {
           "line": {
            "color": "#2a3f5f"
           }
          },
          "ternary": {
           "aaxis": {
            "gridcolor": "white",
            "linecolor": "white",
            "ticks": ""
           },
           "baxis": {
            "gridcolor": "white",
            "linecolor": "white",
            "ticks": ""
           },
           "bgcolor": "#E5ECF6",
           "caxis": {
            "gridcolor": "white",
            "linecolor": "white",
            "ticks": ""
           }
          },
          "title": {
           "x": 0.05
          },
          "xaxis": {
           "automargin": true,
           "gridcolor": "white",
           "linecolor": "white",
           "ticks": "",
           "title": {
            "standoff": 15
           },
           "zerolinecolor": "white",
           "zerolinewidth": 2
          },
          "yaxis": {
           "automargin": true,
           "gridcolor": "white",
           "linecolor": "white",
           "ticks": "",
           "title": {
            "standoff": 15
           },
           "zerolinecolor": "white",
           "zerolinewidth": 2
          }
         }
        },
        "title": {
         "font": {
          "family": "Roboto"
         },
         "text": "pick up by zone"
        }
       }
      },
      "text/html": [
       "<div>                            <div id=\"1cbffaec-27d5-428f-aa9c-05353ae4f28f\" class=\"plotly-graph-div\" style=\"height:525px; width:100%;\"></div>            <script type=\"text/javascript\">                require([\"plotly\"], function(Plotly) {                    window.PLOTLYENV=window.PLOTLYENV || {};                                    if (document.getElementById(\"1cbffaec-27d5-428f-aa9c-05353ae4f28f\")) {                    Plotly.newPlot(                        \"1cbffaec-27d5-428f-aa9c-05353ae4f28f\",                        [{\"branchvalues\": \"total\", \"customdata\": [[\"Bronx\"], [\"EWR\"], [\"Queens\"], [\"Bronx\"], [\"Queens\"], [\"Staten Island\"], [\"Brooklyn\"], [\"Brooklyn\"], [\"Queens\"], [\"Queens\"], [\"Brooklyn\"], [\"Bronx\"], [\"Bronx\"], [\"Bronx\"], [\"Bronx\"], [\"Manhattan\"], [\"Staten Island\"], [\"Brooklyn\"], [\"Brooklyn\"], [\"Brooklyn\"], [\"Queens\"], [\"Queens\"], [\"Queens\"], [\"Manhattan\"], [\"Brooklyn\"], [\"Queens\"], [\"Queens\"], [\"Queens\"], [\"Bronx\"], [\"Bronx\"], [\"Staten Island\"], [\"Queens\"], [\"Queens\"], [\"Bronx\"], [\"Manhattan\"], [\"Manhattan\"], [\"Manhattan\"], [\"Manhattan\"], [\"Manhattan\"], [\"Queens\"], [\"Queens\"], [\"Bronx\"], [\"Manhattan\"], [\"Brooklyn\"], [\"Brooklyn\"], [\"Manhattan\"], [\"Manhattan\"], [\"Manhattan\"], [\"Brooklyn\"], [\"Brooklyn\"], [\"Staten Island\"], [\"Queens\"], [\"Manhattan\"], [\"Bronx\"], [\"Queens\"], [\"Manhattan\"], [\"Manhattan\"], [\"Manhattan\"], [\"Manhattan\"], [\"Brooklyn\"], [\"Manhattan\"], [\"Bronx\"], [\"Bronx\"], [\"Manhattan\"], [\"Manhattan\"], [\"Queens\"], [\"Staten Island\"], [\"Manhattan\"], [\"Bronx\"], [\"Bronx\"], [\"Bronx\"], [\"Manhattan\"], [\"Manhattan\"], [\"Staten Island\"], [\"Manhattan\"], [\"Bronx\"], [\"Bronx\"], [\"Manhattan\"], [\"Bronx\"], [\"Staten Island\"], [\"Queens\"], [\"Queens\"], [\"Bronx\"], [\"Brooklyn\"], [\"Brooklyn\"], [\"Brooklyn\"], [\"Queens\"], [\"Bronx\"], [\"Queens\"], [\"Manhattan\"], [\"Manhattan\"], [\"Manhattan\"], [\"Bronx\"], [\"Brooklyn\"], [\"EWR\"], [\"Manhattan\"], [\"Manhattan\"], [\"Manhattan\"], [\"Manhattan\"], [\"Bronx\"], [\"Queens\"], [\"Staten Island\"], [\"Queens\"], [\"Bronx\"], [\"Manhattan\"], [\"Brooklyn\"], [\"Manhattan\"], [\"Bronx\"], [\"Bronx\"], [\"Staten Island\"], [\"Queens\"], [\"Queens\"], [\"Brooklyn\"], [\"Queens\"], [\"Queens\"], [\"Queens\"], [\"Staten Island\"], [\"Brooklyn\"], [\"Queens\"], [\"Manhattan\"], [\"Brooklyn\"], [\"Queens\"], [\"Brooklyn\"], [\"Brooklyn\"], [\"Manhattan\"], [\"Manhattan\"], [\"Manhattan\"], [\"Manhattan\"], [\"Manhattan\"], [\"Manhattan\"], [\"Bronx\"], [\"Queens\"], [\"Queens\"], [\"Bronx\"], [\"Brooklyn\"], [\"Queens\"], [\"Brooklyn\"], [\"Brooklyn\"], [\"Manhattan\"], [\"Manhattan\"], [\"Manhattan\"], [\"Staten Island\"], [\"Manhattan\"], [\"Bronx\"], [\"Bronx\"], [\"Manhattan\"], [\"Brooklyn\"], [\"Manhattan\"], [\"Bronx\"], [\"Brooklyn\"], [\"Queens\"], [\"Brooklyn\"], [\"Brooklyn\"], [\"Queens\"], [\"Bronx\"], [\"Bronx\"], [\"Bronx\"], [\"Brooklyn\"], [\"Brooklyn\"], [\"Brooklyn\"], [\"Brooklyn\"], [\"Queens\"], [\"Brooklyn\"], [\"Brooklyn\"], [\"Brooklyn\"], [\"Brooklyn\"], [\"Brooklyn\"], [\"Manhattan\"], [\"Staten Island\"], [\"Staten Island\"], [\"Queens\"], [\"Queens\"], [\"Queens\"], [\"Queens\"], [\"Brooklyn\"], [\"Manhattan\"], [\"Manhattan\"], [\"Brooklyn\"], [\"Queens\"], [\"Queens\"], [\"Brooklyn\"], [\"Bronx\"], [\"Queens\"], [\"Bronx\"], [\"Brooklyn\"], [\"Brooklyn\"], [\"Staten Island\"], [\"Manhattan\"], [\"Brooklyn\"], [\"Brooklyn\"], [\"Queens\"], [\"Queens\"], [\"Brooklyn\"], [\"Queens\"], [\"Bronx\"], [\"Bronx\"], [\"Brooklyn\"], [\"Manhattan\"], [\"Bronx\"], [\"Queens\"], [\"Manhattan\"], [\"Brooklyn\"], [\"Staten Island\"], [\"Brooklyn\"], [\"Brooklyn\"], [\"Manhattan\"], [\"Manhattan\"], [\"Staten Island\"], [\"Manhattan\"], [\"Queens\"], [\"Staten Island\"], [\"Bronx\"], [\"Manhattan\"], [\"Queens\"], [\"Queens\"], [\"Brooklyn\"], [\"Queens\"], [\"Manhattan\"], [\"Bronx\"], [\"Manhattan\"], [\"Manhattan\"], [\"Queens\"], [\"Queens\"], [\"Queens\"], [\"Queens\"], [\"Queens\"], [\"Brooklyn\"], [\"Queens\"], [\"Queens\"], [\"Brooklyn\"], [\"Manhattan\"], [\"Queens\"], [\"Queens\"], [\"Brooklyn\"], [\"Brooklyn\"], [\"Queens\"], [\"Manhattan\"], [\"Manhattan\"], [\"Brooklyn\"], [\"Brooklyn\"], [\"Bronx\"], [\"Manhattan\"], [\"Brooklyn\"], [\"Bronx\"], [\"Queens\"], [\"Queens\"], [\"Staten Island\"], [\"Manhattan\"], [\"Brooklyn\"], [\"Manhattan\"], [\"Manhattan\"], [\"Brooklyn\"], [\"Manhattan\"], [\"Brooklyn\"], [\"Queens\"], [\"Queens\"], [\"Bronx\"], [\"Queens\"], [\"Queens\"], [\"Brooklyn\"], [\"Queens\"], [\"Staten Island\"], [\"Manhattan\"], [\"Queens\"], [\"Staten Island\"]], \"domain\": {\"x\": [0.0, 1.0], \"y\": [0.0, 1.0]}, \"hovertemplate\": \"labels=%{label}<br>pickup_time=%{value}<br>parent=%{parent}<br>id=%{id}<br>puborough=%{customdata[0]}<extra></extra>\", \"ids\": [\"Bronx/Allerton/Pelham Gardens\", \"EWR/Newark Airport\", \"Queens/North Corona\", \"Bronx/Norwood\", \"Queens/Oakland Gardens\", \"Staten Island/Oakwood\", \"Brooklyn/Ocean Hill\", \"Brooklyn/Ocean Parkway South\", \"Queens/Old Astoria\", \"Queens/Ozone Park\", \"Brooklyn/Park Slope\", \"Bronx/Parkchester\", \"Bronx/Pelham Bay\", \"Bronx/Pelham Bay Park\", \"Bronx/Pelham Parkway\", \"Manhattan/Penn Station/Madison Sq West\", \"Staten Island/Port Richmond\", \"Brooklyn/Prospect Heights\", \"Brooklyn/Prospect Park\", \"Brooklyn/Prospect-Lefferts Gardens\", \"Queens/Queens Village\", \"Queens/Queensboro Hill\", \"Queens/Queensbridge/Ravenswood\", \"Manhattan/Randalls Island\", \"Brooklyn/Red Hook\", \"Queens/Rego Park\", \"Queens/Richmond Hill\", \"Queens/Ridgewood\", \"Bronx/Rikers Island\", \"Bronx/Riverdale/North Riverdale/Fieldston\", \"Staten Island/New Dorp/Midland Beach\", \"Queens/Rockaway Park\", \"Queens/Murray Hill-Queens\", \"Bronx/Mount Hope\", \"Manhattan/Lenox Hill East\", \"Manhattan/Lenox Hill West\", \"Manhattan/Lincoln Square East\", \"Manhattan/Lincoln Square West\", \"Manhattan/Little Italy/NoLiTa\", \"Queens/Long Island City/Hunters Point\", \"Queens/Long Island City/Queens Plaza\", \"Bronx/Longwood\", \"Manhattan/Lower East Side\", \"Brooklyn/Madison\", \"Brooklyn/Manhattan Beach\", \"Manhattan/Manhattan Valley\", \"Manhattan/Manhattanville\", \"Manhattan/Marble Hill\", \"Brooklyn/Marine Park/Floyd Bennett Field\", \"Brooklyn/Marine Park/Mill Basin\", \"Staten Island/Mariners Harbor\", \"Queens/Maspeth\", \"Manhattan/Meatpacking/West Village West\", \"Bronx/Melrose South\", \"Queens/Middle Village\", \"Manhattan/Midtown Center\", \"Manhattan/Midtown East\", \"Manhattan/Midtown North\", \"Manhattan/Midtown South\", \"Brooklyn/Midwood\", \"Manhattan/Morningside Heights\", \"Bronx/Morrisania/Melrose\", \"Bronx/Mott Haven/Port Morris\", \"Manhattan/Murray Hill\", \"Manhattan/Roosevelt Island\", \"Queens/Rosedale\", \"Staten Island/Rossville/Woodrow\", \"Manhattan/Upper West Side South\", \"Bronx/Van Cortlandt Park\", \"Bronx/Van Cortlandt Village\", \"Bronx/Van Nest/Morris Park\", \"Manhattan/Washington Heights North\", \"Manhattan/Washington Heights South\", \"Staten Island/West Brighton\", \"Manhattan/West Chelsea/Hudson Yards\", \"Bronx/West Concourse\", \"Bronx/West Farms/Bronx River\", \"Manhattan/West Village\", \"Bronx/Westchester Village/Unionport\", \"Staten Island/Westerleigh\", \"Queens/Whitestone\", \"Queens/Willets Point\", \"Bronx/Williamsbridge/Olinville\", \"Brooklyn/Williamsburg (North Side)\", \"Brooklyn/Williamsburg (South Side)\", \"Brooklyn/Windsor Terrace\", \"Queens/Woodhaven\", \"Bronx/Woodlawn/Wakefield\", \"Queens/Woodside\", \"Manhattan/World Trade Center\", \"Manhattan/Yorkville East\", \"Manhattan/Yorkville West\", \"Bronx\", \"Brooklyn\", \"EWR\", \"Manhattan\", \"Manhattan/Upper West Side North\", \"Manhattan/Upper East Side South\", \"Manhattan/Upper East Side North\", \"Bronx/University Heights/Morris Heights\", \"Queens/Saint Albans\", \"Staten Island/Saint George/New Brighton\", \"Queens/Saint Michaels Cemetery/Woodside\", \"Bronx/Schuylerville/Edgewater Park\", \"Manhattan/Seaport\", \"Brooklyn/Sheepshead Bay\", \"Manhattan/SoHo\", \"Bronx/Soundview/Bruckner\", \"Bronx/Soundview/Castle Hill\", \"Staten Island/South Beach/Dongan Hills\", \"Queens/South Jamaica\", \"Queens/South Ozone Park\", \"Brooklyn/South Williamsburg\", \"Queens/Springfield Gardens North\", \"Queens/Laurelton\", \"Queens/Springfield Gardens South\", \"Staten Island/Stapleton\", \"Brooklyn/Starrett City\", \"Queens/Steinway\", \"Manhattan/Stuy Town/Peter Cooper Village\", \"Brooklyn/Stuyvesant Heights\", \"Queens/Sunnyside\", \"Brooklyn/Sunset Park East\", \"Brooklyn/Sunset Park West\", \"Manhattan/Sutton Place/Turtle Bay North\", \"Manhattan/Times Sq/Theatre District\", \"Manhattan/TriBeCa/Civic Center\", \"Manhattan/Two Bridges/Seward Park\", \"Manhattan/UN/Turtle Bay South\", \"Manhattan/Union Sq\", \"Bronx/Spuyten Duyvil/Kingsbridge\", \"Queens\", \"Queens/LaGuardia Airport\", \"Bronx/Kingsbridge Heights\", \"Brooklyn/Bushwick South\", \"Queens/Cambria Heights\", \"Brooklyn/Canarsie\", \"Brooklyn/Carroll Gardens\", \"Manhattan/Central Harlem\", \"Manhattan/Central Harlem North\", \"Manhattan/Central Park\", \"Staten Island/Charleston/Tottenville\", \"Manhattan/Chinatown\", \"Bronx/City Island\", \"Bronx/Claremont/Bathgate\", \"Manhattan/Clinton East\", \"Brooklyn/Clinton Hill\", \"Manhattan/Clinton West\", \"Bronx/Co-Op City\", \"Brooklyn/Cobble Hill\", \"Queens/College Point\", \"Brooklyn/Columbia Street\", \"Brooklyn/Coney Island\", \"Queens/Corona\", \"Bronx/Country Club\", \"Bronx/Crotona Park\", \"Bronx/Crotona Park East\", \"Brooklyn/Crown Heights North\", \"Brooklyn/Crown Heights South\", \"Brooklyn/Cypress Hills\", \"Brooklyn/DUMBO/Vinegar Hill\", \"Queens/Douglaston\", \"Brooklyn/Downtown Brooklyn/MetroTech\", \"Brooklyn/Bushwick North\", \"Brooklyn/Dyker Heights\", \"Brooklyn/Brownsville\", \"Brooklyn/Brooklyn Heights\", \"Manhattan/Alphabet City\", \"Staten Island/Arden Heights\", \"Staten Island/Arrochar/Fort Wadsworth\", \"Queens/Astoria\", \"Queens/Astoria Park\", \"Queens/Auburndale\", \"Queens/Baisley Park\", \"Brooklyn/Bath Beach\", \"Manhattan/Battery Park\", \"Manhattan/Battery Park City\", \"Brooklyn/Bay Ridge\", \"Queens/Bay Terrace/Fort Totten\", \"Queens/Bayside\", \"Brooklyn/Bedford\", \"Bronx/Bedford Park\", \"Queens/Bellerose\", \"Bronx/Belmont\", \"Brooklyn/Bensonhurst East\", \"Brooklyn/Bensonhurst West\", \"Staten Island/Bloomfield/Emerson Hill\", \"Manhattan/Bloomingdale\", \"Brooklyn/Boerum Hill\", \"Brooklyn/Borough Park\", \"Queens/Breezy Point/Fort Tilden/Riis Beach\", \"Queens/Briarwood/Jamaica Hills\", \"Brooklyn/Brighton Beach\", \"Queens/Broad Channel\", \"Bronx/Bronx Park\", \"Bronx/Bronxdale\", \"Brooklyn/Brooklyn Navy Yard\", \"Manhattan/East Chelsea\", \"Bronx/East Concourse/Concourse Village\", \"Queens/East Elmhurst\", \"Manhattan/Gramercy\", \"Brooklyn/Gravesend\", \"Staten Island/Great Kills\", \"Brooklyn/Green-Wood Cemetery\", \"Brooklyn/Greenpoint\", \"Manhattan/Greenwich Village North\", \"Manhattan/Greenwich Village South\", \"Staten Island/Grymes Hill/Clifton\", \"Manhattan/Hamilton Heights\", \"Queens/Hammels/Arverne\", \"Staten Island/Heartland Village/Todt Hill\", \"Bronx/Highbridge\", \"Manhattan/Highbridge Park\", \"Queens/Hillcrest/Pomonok\", \"Queens/Hollis\", \"Brooklyn/Homecrest\", \"Queens/Howard Beach\", \"Manhattan/Hudson Sq\", \"Bronx/Hunts Point\", \"Manhattan/Inwood\", \"Manhattan/Inwood Hill Park\", \"Queens/JFK Airport\", \"Queens/Jackson Heights\", \"Queens/Jamaica\", \"Queens/Jamaica Bay\", \"Queens/Jamaica Estates\", \"Brooklyn/Kensington\", \"Queens/Kew Gardens\", \"Queens/Kew Gardens Hills\", \"Brooklyn/Gowanus\", \"Manhattan/Governor's Island/Ellis Island/Liberty Island\", \"Queens/Glendale\", \"Queens/Glen Oaks\", \"Brooklyn/East Flatbush/Farragut\", \"Brooklyn/East Flatbush/Remsen Village\", \"Queens/East Flushing\", \"Manhattan/East Harlem North\", \"Manhattan/East Harlem South\", \"Brooklyn/East New York\", \"Brooklyn/East New York/Pennsylvania Avenue\", \"Bronx/East Tremont\", \"Manhattan/East Village\", \"Brooklyn/East Williamsburg\", \"Bronx/Eastchester\", \"Queens/Elmhurst\", \"Queens/Elmhurst/Maspeth\", \"Staten Island/Eltingville/Annadale/Prince's Bay\", \"Manhattan/Kips Bay\", \"Brooklyn/Erasmus\", \"Manhattan/Financial District North\", \"Manhattan/Financial District South\", \"Brooklyn/Flatbush/Ditmas Park\", \"Manhattan/Flatiron\", \"Brooklyn/Flatlands\", \"Queens/Flushing\", \"Queens/Flushing Meadows-Corona Park\", \"Bronx/Fordham South\", \"Queens/Forest Hills\", \"Queens/Forest Park/Highland Park\", \"Brooklyn/Fort Greene\", \"Queens/Fresh Meadows\", \"Staten Island/Freshkills Park\", \"Manhattan/Garment District\", \"Queens/Far Rockaway\", \"Staten Island\"], \"labels\": [\"Allerton/Pelham Gardens\", \"Newark Airport\", \"North Corona\", \"Norwood\", \"Oakland Gardens\", \"Oakwood\", \"Ocean Hill\", \"Ocean Parkway South\", \"Old Astoria\", \"Ozone Park\", \"Park Slope\", \"Parkchester\", \"Pelham Bay\", \"Pelham Bay Park\", \"Pelham Parkway\", \"Penn Station/Madison Sq West\", \"Port Richmond\", \"Prospect Heights\", \"Prospect Park\", \"Prospect-Lefferts Gardens\", \"Queens Village\", \"Queensboro Hill\", \"Queensbridge/Ravenswood\", \"Randalls Island\", \"Red Hook\", \"Rego Park\", \"Richmond Hill\", \"Ridgewood\", \"Rikers Island\", \"Riverdale/North Riverdale/Fieldston\", \"New Dorp/Midland Beach\", \"Rockaway Park\", \"Murray Hill-Queens\", \"Mount Hope\", \"Lenox Hill East\", \"Lenox Hill West\", \"Lincoln Square East\", \"Lincoln Square West\", \"Little Italy/NoLiTa\", \"Long Island City/Hunters Point\", \"Long Island City/Queens Plaza\", \"Longwood\", \"Lower East Side\", \"Madison\", \"Manhattan Beach\", \"Manhattan Valley\", \"Manhattanville\", \"Marble Hill\", \"Marine Park/Floyd Bennett Field\", \"Marine Park/Mill Basin\", \"Mariners Harbor\", \"Maspeth\", \"Meatpacking/West Village West\", \"Melrose South\", \"Middle Village\", \"Midtown Center\", \"Midtown East\", \"Midtown North\", \"Midtown South\", \"Midwood\", \"Morningside Heights\", \"Morrisania/Melrose\", \"Mott Haven/Port Morris\", \"Murray Hill\", \"Roosevelt Island\", \"Rosedale\", \"Rossville/Woodrow\", \"Upper West Side South\", \"Van Cortlandt Park\", \"Van Cortlandt Village\", \"Van Nest/Morris Park\", \"Washington Heights North\", \"Washington Heights South\", \"West Brighton\", \"West Chelsea/Hudson Yards\", \"West Concourse\", \"West Farms/Bronx River\", \"West Village\", \"Westchester Village/Unionport\", \"Westerleigh\", \"Whitestone\", \"Willets Point\", \"Williamsbridge/Olinville\", \"Williamsburg (North Side)\", \"Williamsburg (South Side)\", \"Windsor Terrace\", \"Woodhaven\", \"Woodlawn/Wakefield\", \"Woodside\", \"World Trade Center\", \"Yorkville East\", \"Yorkville West\", \"Bronx\", \"Brooklyn\", \"EWR\", \"Manhattan\", \"Upper West Side North\", \"Upper East Side South\", \"Upper East Side North\", \"University Heights/Morris Heights\", \"Saint Albans\", \"Saint George/New Brighton\", \"Saint Michaels Cemetery/Woodside\", \"Schuylerville/Edgewater Park\", \"Seaport\", \"Sheepshead Bay\", \"SoHo\", \"Soundview/Bruckner\", \"Soundview/Castle Hill\", \"South Beach/Dongan Hills\", \"South Jamaica\", \"South Ozone Park\", \"South Williamsburg\", \"Springfield Gardens North\", \"Laurelton\", \"Springfield Gardens South\", \"Stapleton\", \"Starrett City\", \"Steinway\", \"Stuy Town/Peter Cooper Village\", \"Stuyvesant Heights\", \"Sunnyside\", \"Sunset Park East\", \"Sunset Park West\", \"Sutton Place/Turtle Bay North\", \"Times Sq/Theatre District\", \"TriBeCa/Civic Center\", \"Two Bridges/Seward Park\", \"UN/Turtle Bay South\", \"Union Sq\", \"Spuyten Duyvil/Kingsbridge\", \"Queens\", \"LaGuardia Airport\", \"Kingsbridge Heights\", \"Bushwick South\", \"Cambria Heights\", \"Canarsie\", \"Carroll Gardens\", \"Central Harlem\", \"Central Harlem North\", \"Central Park\", \"Charleston/Tottenville\", \"Chinatown\", \"City Island\", \"Claremont/Bathgate\", \"Clinton East\", \"Clinton Hill\", \"Clinton West\", \"Co-Op City\", \"Cobble Hill\", \"College Point\", \"Columbia Street\", \"Coney Island\", \"Corona\", \"Country Club\", \"Crotona Park\", \"Crotona Park East\", \"Crown Heights North\", \"Crown Heights South\", \"Cypress Hills\", \"DUMBO/Vinegar Hill\", \"Douglaston\", \"Downtown Brooklyn/MetroTech\", \"Bushwick North\", \"Dyker Heights\", \"Brownsville\", \"Brooklyn Heights\", \"Alphabet City\", \"Arden Heights\", \"Arrochar/Fort Wadsworth\", \"Astoria\", \"Astoria Park\", \"Auburndale\", \"Baisley Park\", \"Bath Beach\", \"Battery Park\", \"Battery Park City\", \"Bay Ridge\", \"Bay Terrace/Fort Totten\", \"Bayside\", \"Bedford\", \"Bedford Park\", \"Bellerose\", \"Belmont\", \"Bensonhurst East\", \"Bensonhurst West\", \"Bloomfield/Emerson Hill\", \"Bloomingdale\", \"Boerum Hill\", \"Borough Park\", \"Breezy Point/Fort Tilden/Riis Beach\", \"Briarwood/Jamaica Hills\", \"Brighton Beach\", \"Broad Channel\", \"Bronx Park\", \"Bronxdale\", \"Brooklyn Navy Yard\", \"East Chelsea\", \"East Concourse/Concourse Village\", \"East Elmhurst\", \"Gramercy\", \"Gravesend\", \"Great Kills\", \"Green-Wood Cemetery\", \"Greenpoint\", \"Greenwich Village North\", \"Greenwich Village South\", \"Grymes Hill/Clifton\", \"Hamilton Heights\", \"Hammels/Arverne\", \"Heartland Village/Todt Hill\", \"Highbridge\", \"Highbridge Park\", \"Hillcrest/Pomonok\", \"Hollis\", \"Homecrest\", \"Howard Beach\", \"Hudson Sq\", \"Hunts Point\", \"Inwood\", \"Inwood Hill Park\", \"JFK Airport\", \"Jackson Heights\", \"Jamaica\", \"Jamaica Bay\", \"Jamaica Estates\", \"Kensington\", \"Kew Gardens\", \"Kew Gardens Hills\", \"Gowanus\", \"Governor's Island/Ellis Island/Liberty Island\", \"Glendale\", \"Glen Oaks\", \"East Flatbush/Farragut\", \"East Flatbush/Remsen Village\", \"East Flushing\", \"East Harlem North\", \"East Harlem South\", \"East New York\", \"East New York/Pennsylvania Avenue\", \"East Tremont\", \"East Village\", \"East Williamsburg\", \"Eastchester\", \"Elmhurst\", \"Elmhurst/Maspeth\", \"Eltingville/Annadale/Prince's Bay\", \"Kips Bay\", \"Erasmus\", \"Financial District North\", \"Financial District South\", \"Flatbush/Ditmas Park\", \"Flatiron\", \"Flatlands\", \"Flushing\", \"Flushing Meadows-Corona Park\", \"Fordham South\", \"Forest Hills\", \"Forest Park/Highland Park\", \"Fort Greene\", \"Fresh Meadows\", \"Freshkills Park\", \"Garment District\", \"Far Rockaway\", \"Staten Island\"], \"marker\": {\"colors\": [\"CDF0EA\", \"#FFA15A\", \"#D3E4CD\", \"CDF0EA\", \"#D3E4CD\", \"#19d3f3\", \"#FEF5ED\", \"#FEF5ED\", \"#D3E4CD\", \"#D3E4CD\", \"#FEF5ED\", \"CDF0EA\", \"CDF0EA\", \"CDF0EA\", \"CDF0EA\", \"#C9CCD5\", \"#19d3f3\", \"#FEF5ED\", \"#FEF5ED\", \"#FEF5ED\", \"#D3E4CD\", \"#D3E4CD\", \"#D3E4CD\", \"#C9CCD5\", \"#FEF5ED\", \"#D3E4CD\", \"#D3E4CD\", \"#D3E4CD\", \"CDF0EA\", \"CDF0EA\", \"#19d3f3\", \"#D3E4CD\", \"#D3E4CD\", \"CDF0EA\", \"#C9CCD5\", \"#C9CCD5\", \"#C9CCD5\", \"#C9CCD5\", \"#C9CCD5\", \"#D3E4CD\", \"#D3E4CD\", \"CDF0EA\", \"#C9CCD5\", \"#FEF5ED\", \"#FEF5ED\", \"#C9CCD5\", \"#C9CCD5\", \"#C9CCD5\", \"#FEF5ED\", \"#FEF5ED\", \"#19d3f3\", \"#D3E4CD\", \"#C9CCD5\", \"CDF0EA\", \"#D3E4CD\", \"#C9CCD5\", \"#C9CCD5\", \"#C9CCD5\", \"#C9CCD5\", \"#FEF5ED\", \"#C9CCD5\", \"CDF0EA\", \"CDF0EA\", \"#C9CCD5\", \"#C9CCD5\", \"#D3E4CD\", \"#19d3f3\", \"#C9CCD5\", \"CDF0EA\", \"CDF0EA\", \"CDF0EA\", \"#C9CCD5\", \"#C9CCD5\", \"#19d3f3\", \"#C9CCD5\", \"CDF0EA\", \"CDF0EA\", \"#C9CCD5\", \"CDF0EA\", \"#19d3f3\", \"#D3E4CD\", \"#D3E4CD\", \"CDF0EA\", \"#FEF5ED\", \"#FEF5ED\", \"#FEF5ED\", \"#D3E4CD\", \"CDF0EA\", \"#D3E4CD\", \"#C9CCD5\", \"#C9CCD5\", \"#C9CCD5\", \"CDF0EA\", \"#FEF5ED\", \"#FFA15A\", \"#C9CCD5\", \"#C9CCD5\", \"#C9CCD5\", \"#C9CCD5\", \"CDF0EA\", \"#D3E4CD\", \"#19d3f3\", \"#D3E4CD\", \"CDF0EA\", \"#C9CCD5\", \"#FEF5ED\", \"#C9CCD5\", \"CDF0EA\", \"CDF0EA\", \"#19d3f3\", \"#D3E4CD\", \"#D3E4CD\", \"#FEF5ED\", \"#D3E4CD\", \"#D3E4CD\", \"#D3E4CD\", \"#19d3f3\", \"#FEF5ED\", \"#D3E4CD\", \"#C9CCD5\", \"#FEF5ED\", \"#D3E4CD\", \"#FEF5ED\", \"#FEF5ED\", \"#C9CCD5\", \"#C9CCD5\", \"#C9CCD5\", \"#C9CCD5\", \"#C9CCD5\", \"#C9CCD5\", \"CDF0EA\", \"#D3E4CD\", \"#D3E4CD\", \"CDF0EA\", \"#FEF5ED\", \"#D3E4CD\", \"#FEF5ED\", \"#FEF5ED\", \"#C9CCD5\", \"#C9CCD5\", \"#C9CCD5\", \"#19d3f3\", \"#C9CCD5\", \"CDF0EA\", \"CDF0EA\", \"#C9CCD5\", \"#FEF5ED\", \"#C9CCD5\", \"CDF0EA\", \"#FEF5ED\", \"#D3E4CD\", \"#FEF5ED\", \"#FEF5ED\", \"#D3E4CD\", \"CDF0EA\", \"CDF0EA\", \"CDF0EA\", \"#FEF5ED\", \"#FEF5ED\", \"#FEF5ED\", \"#FEF5ED\", \"#D3E4CD\", \"#FEF5ED\", \"#FEF5ED\", \"#FEF5ED\", \"#FEF5ED\", \"#FEF5ED\", \"#C9CCD5\", \"#19d3f3\", \"#19d3f3\", \"#D3E4CD\", \"#D3E4CD\", \"#D3E4CD\", \"#D3E4CD\", \"#FEF5ED\", \"#C9CCD5\", \"#C9CCD5\", \"#FEF5ED\", \"#D3E4CD\", \"#D3E4CD\", \"#FEF5ED\", \"CDF0EA\", \"#D3E4CD\", \"CDF0EA\", \"#FEF5ED\", \"#FEF5ED\", \"#19d3f3\", \"#C9CCD5\", \"#FEF5ED\", \"#FEF5ED\", \"#D3E4CD\", \"#D3E4CD\", \"#FEF5ED\", \"#D3E4CD\", \"CDF0EA\", \"CDF0EA\", \"#FEF5ED\", \"#C9CCD5\", \"CDF0EA\", \"#D3E4CD\", \"#C9CCD5\", \"#FEF5ED\", \"#19d3f3\", \"#FEF5ED\", \"#FEF5ED\", \"#C9CCD5\", \"#C9CCD5\", \"#19d3f3\", \"#C9CCD5\", \"#D3E4CD\", \"#19d3f3\", \"CDF0EA\", \"#C9CCD5\", \"#D3E4CD\", \"#D3E4CD\", \"#FEF5ED\", \"#D3E4CD\", \"#C9CCD5\", \"CDF0EA\", \"#C9CCD5\", \"#C9CCD5\", \"#D3E4CD\", \"#D3E4CD\", \"#D3E4CD\", \"#D3E4CD\", \"#D3E4CD\", \"#FEF5ED\", \"#D3E4CD\", \"#D3E4CD\", \"#FEF5ED\", \"#C9CCD5\", \"#D3E4CD\", \"#D3E4CD\", \"#FEF5ED\", \"#FEF5ED\", \"#D3E4CD\", \"#C9CCD5\", \"#C9CCD5\", \"#FEF5ED\", \"#FEF5ED\", \"CDF0EA\", \"#C9CCD5\", \"#FEF5ED\", \"CDF0EA\", \"#D3E4CD\", \"#D3E4CD\", \"#19d3f3\", \"#C9CCD5\", \"#FEF5ED\", \"#C9CCD5\", \"#C9CCD5\", \"#FEF5ED\", \"#C9CCD5\", \"#FEF5ED\", \"#D3E4CD\", \"#D3E4CD\", \"CDF0EA\", \"#D3E4CD\", \"#D3E4CD\", \"#FEF5ED\", \"#D3E4CD\", \"#19d3f3\", \"#C9CCD5\", \"#D3E4CD\", \"#19d3f3\"]}, \"name\": \"\", \"parents\": [\"Bronx\", \"EWR\", \"Queens\", \"Bronx\", \"Queens\", \"Staten Island\", \"Brooklyn\", \"Brooklyn\", \"Queens\", \"Queens\", \"Brooklyn\", \"Bronx\", \"Bronx\", \"Bronx\", \"Bronx\", \"Manhattan\", \"Staten Island\", \"Brooklyn\", \"Brooklyn\", \"Brooklyn\", \"Queens\", \"Queens\", \"Queens\", \"Manhattan\", \"Brooklyn\", \"Queens\", \"Queens\", \"Queens\", \"Bronx\", \"Bronx\", \"Staten Island\", \"Queens\", \"Queens\", \"Bronx\", \"Manhattan\", \"Manhattan\", \"Manhattan\", \"Manhattan\", \"Manhattan\", \"Queens\", \"Queens\", \"Bronx\", \"Manhattan\", \"Brooklyn\", \"Brooklyn\", \"Manhattan\", \"Manhattan\", \"Manhattan\", \"Brooklyn\", \"Brooklyn\", \"Staten Island\", \"Queens\", \"Manhattan\", \"Bronx\", \"Queens\", \"Manhattan\", \"Manhattan\", \"Manhattan\", \"Manhattan\", \"Brooklyn\", \"Manhattan\", \"Bronx\", \"Bronx\", \"Manhattan\", \"Manhattan\", \"Queens\", \"Staten Island\", \"Manhattan\", \"Bronx\", \"Bronx\", \"Bronx\", \"Manhattan\", \"Manhattan\", \"Staten Island\", \"Manhattan\", \"Bronx\", \"Bronx\", \"Manhattan\", \"Bronx\", \"Staten Island\", \"Queens\", \"Queens\", \"Bronx\", \"Brooklyn\", \"Brooklyn\", \"Brooklyn\", \"Queens\", \"Bronx\", \"Queens\", \"Manhattan\", \"Manhattan\", \"Manhattan\", \"\", \"\", \"\", \"\", \"Manhattan\", \"Manhattan\", \"Manhattan\", \"Bronx\", \"Queens\", \"Staten Island\", \"Queens\", \"Bronx\", \"Manhattan\", \"Brooklyn\", \"Manhattan\", \"Bronx\", \"Bronx\", \"Staten Island\", \"Queens\", \"Queens\", \"Brooklyn\", \"Queens\", \"Queens\", \"Queens\", \"Staten Island\", \"Brooklyn\", \"Queens\", \"Manhattan\", \"Brooklyn\", \"Queens\", \"Brooklyn\", \"Brooklyn\", \"Manhattan\", \"Manhattan\", \"Manhattan\", \"Manhattan\", \"Manhattan\", \"Manhattan\", \"Bronx\", \"\", \"Queens\", \"Bronx\", \"Brooklyn\", \"Queens\", \"Brooklyn\", \"Brooklyn\", \"Manhattan\", \"Manhattan\", \"Manhattan\", \"Staten Island\", \"Manhattan\", \"Bronx\", \"Bronx\", \"Manhattan\", \"Brooklyn\", \"Manhattan\", \"Bronx\", \"Brooklyn\", \"Queens\", \"Brooklyn\", \"Brooklyn\", \"Queens\", \"Bronx\", \"Bronx\", \"Bronx\", \"Brooklyn\", \"Brooklyn\", \"Brooklyn\", \"Brooklyn\", \"Queens\", \"Brooklyn\", \"Brooklyn\", \"Brooklyn\", \"Brooklyn\", \"Brooklyn\", \"Manhattan\", \"Staten Island\", \"Staten Island\", \"Queens\", \"Queens\", \"Queens\", \"Queens\", \"Brooklyn\", \"Manhattan\", \"Manhattan\", \"Brooklyn\", \"Queens\", \"Queens\", \"Brooklyn\", \"Bronx\", \"Queens\", \"Bronx\", \"Brooklyn\", \"Brooklyn\", \"Staten Island\", \"Manhattan\", \"Brooklyn\", \"Brooklyn\", \"Queens\", \"Queens\", \"Brooklyn\", \"Queens\", \"Bronx\", \"Bronx\", \"Brooklyn\", \"Manhattan\", \"Bronx\", \"Queens\", \"Manhattan\", \"Brooklyn\", \"Staten Island\", \"Brooklyn\", \"Brooklyn\", \"Manhattan\", \"Manhattan\", \"Staten Island\", \"Manhattan\", \"Queens\", \"Staten Island\", \"Bronx\", \"Manhattan\", \"Queens\", \"Queens\", \"Brooklyn\", \"Queens\", \"Manhattan\", \"Bronx\", \"Manhattan\", \"Manhattan\", \"Queens\", \"Queens\", \"Queens\", \"Queens\", \"Queens\", \"Brooklyn\", \"Queens\", \"Queens\", \"Brooklyn\", \"Manhattan\", \"Queens\", \"Queens\", \"Brooklyn\", \"Brooklyn\", \"Queens\", \"Manhattan\", \"Manhattan\", \"Brooklyn\", \"Brooklyn\", \"Bronx\", \"Manhattan\", \"Brooklyn\", \"Bronx\", \"Queens\", \"Queens\", \"Staten Island\", \"Manhattan\", \"Brooklyn\", \"Manhattan\", \"Manhattan\", \"Brooklyn\", \"Manhattan\", \"Brooklyn\", \"Queens\", \"Queens\", \"Bronx\", \"Queens\", \"Queens\", \"Brooklyn\", \"Queens\", \"Staten Island\", \"Manhattan\", \"Queens\", \"\"], \"type\": \"sunburst\", \"values\": [10858, 67, 73500, 46196, 3263, 32, 41214, 7272, 167830, 4826, 740749, 40763, 8261, 2845, 22053, 794, 311, 96047, 27135, 104125, 13825, 12456, 74613, 1640, 31302, 237823, 34083, 14020, 7, 7978, 86, 1008, 6732, 32071, 458, 380, 583, 175, 173, 338491, 131248, 14730, 195, 19884, 9754, 305, 207006, 10529, 1001, 23188, 1317, 13926, 142, 81546, 8829, 759, 780, 642, 628, 26324, 1062390, 30606, 74120, 666, 2395, 4697, 20, 619, 2051, 20889, 60249, 136404, 639079, 172, 233, 118058, 12719, 359, 22308, 196, 3079, 2835, 25821, 744039, 284596, 17511, 10982, 9864, 583612, 190, 868, 17499, 1148344, 8435163, 67, 8886311, 408, 553, 64701, 31513, 18779, 768, 3345, 13205, 90, 99955, 181, 41852, 34095, 150, 15886, 19085, 22120, 10684, 5520, 4822, 468, 15057, 474192, 56, 105280, 263088, 14333, 48028, 439, 978, 456, 183, 267, 514, 29501, 7728536, 2366, 27001, 78613, 4600, 42422, 176417, 1535265, 929391, 272686, 103, 129, 1540, 24253, 1005, 322777, 192, 27262, 254670, 5093, 11395, 62840, 49318, 1011, 793, 12269, 274500, 52730, 10128, 524992, 1799, 606720, 85916, 7963, 51256, 681144, 65, 138, 216, 1277025, 578, 5050, 13460, 7299, 22, 223, 43435, 2676, 7420, 230321, 31162, 5074, 20697, 15488, 19509, 507, 90844, 625442, 32842, 264, 20033, 19805, 123, 10816, 15440, 13682, 459, 75015, 25720, 367, 13675, 30, 1252, 283676, 298, 281, 1176, 393632, 5078, 225, 29127, 2324, 22655, 8273, 22831, 4917, 129, 17466, 79643, 3967, 1564, 723701, 392097, 39, 11353, 15801, 215208, 15200, 74914, 1, 8749, 3100, 34937, 37030, 3256, 1833599, 1584533, 71969, 19588, 31452, 461, 179825, 14364, 1172017, 155115, 26, 467, 30012, 247, 165, 77549, 355, 38139, 198838, 58974, 14517, 741637, 1173, 802745, 3878, 12, 844, 4036, 5953]}],                        {\"font\": {\"color\": \"white\", \"family\": \"Roboto\", \"size\": 10}, \"hovermode\": \"x\", \"legend\": {\"tracegroupgap\": 0}, \"margin\": {\"t\": 60}, \"paper_bgcolor\": \"black\", \"plot_bgcolor\": \"black\", \"template\": {\"data\": {\"bar\": [{\"error_x\": {\"color\": \"#2a3f5f\"}, \"error_y\": {\"color\": \"#2a3f5f\"}, \"marker\": {\"line\": {\"color\": \"#E5ECF6\", \"width\": 0.5}}, \"type\": \"bar\"}], \"barpolar\": [{\"marker\": {\"line\": {\"color\": \"#E5ECF6\", \"width\": 0.5}}, \"type\": \"barpolar\"}], \"carpet\": [{\"aaxis\": {\"endlinecolor\": \"#2a3f5f\", \"gridcolor\": \"white\", \"linecolor\": \"white\", \"minorgridcolor\": \"white\", \"startlinecolor\": \"#2a3f5f\"}, \"baxis\": {\"endlinecolor\": \"#2a3f5f\", \"gridcolor\": \"white\", \"linecolor\": \"white\", \"minorgridcolor\": \"white\", \"startlinecolor\": \"#2a3f5f\"}, \"type\": \"carpet\"}], \"choropleth\": [{\"colorbar\": {\"outlinewidth\": 0, \"ticks\": \"\"}, \"type\": \"choropleth\"}], \"contour\": [{\"colorbar\": {\"outlinewidth\": 0, \"ticks\": \"\"}, \"colorscale\": [[0.0, \"#0d0887\"], [0.1111111111111111, \"#46039f\"], [0.2222222222222222, \"#7201a8\"], [0.3333333333333333, \"#9c179e\"], [0.4444444444444444, \"#bd3786\"], [0.5555555555555556, \"#d8576b\"], [0.6666666666666666, \"#ed7953\"], [0.7777777777777778, \"#fb9f3a\"], [0.8888888888888888, \"#fdca26\"], [1.0, \"#f0f921\"]], \"type\": \"contour\"}], \"contourcarpet\": [{\"colorbar\": {\"outlinewidth\": 0, \"ticks\": \"\"}, \"type\": \"contourcarpet\"}], \"heatmap\": [{\"colorbar\": {\"outlinewidth\": 0, \"ticks\": \"\"}, \"colorscale\": [[0.0, \"#0d0887\"], [0.1111111111111111, \"#46039f\"], [0.2222222222222222, \"#7201a8\"], [0.3333333333333333, \"#9c179e\"], [0.4444444444444444, \"#bd3786\"], [0.5555555555555556, \"#d8576b\"], [0.6666666666666666, \"#ed7953\"], [0.7777777777777778, \"#fb9f3a\"], [0.8888888888888888, \"#fdca26\"], [1.0, \"#f0f921\"]], \"type\": \"heatmap\"}], \"heatmapgl\": [{\"colorbar\": {\"outlinewidth\": 0, \"ticks\": \"\"}, \"colorscale\": [[0.0, \"#0d0887\"], [0.1111111111111111, \"#46039f\"], [0.2222222222222222, \"#7201a8\"], [0.3333333333333333, \"#9c179e\"], [0.4444444444444444, \"#bd3786\"], [0.5555555555555556, \"#d8576b\"], [0.6666666666666666, \"#ed7953\"], [0.7777777777777778, \"#fb9f3a\"], [0.8888888888888888, \"#fdca26\"], [1.0, \"#f0f921\"]], \"type\": \"heatmapgl\"}], \"histogram\": [{\"marker\": {\"colorbar\": {\"outlinewidth\": 0, \"ticks\": \"\"}}, \"type\": \"histogram\"}], \"histogram2d\": [{\"colorbar\": {\"outlinewidth\": 0, \"ticks\": \"\"}, \"colorscale\": [[0.0, \"#0d0887\"], [0.1111111111111111, \"#46039f\"], [0.2222222222222222, \"#7201a8\"], [0.3333333333333333, \"#9c179e\"], [0.4444444444444444, \"#bd3786\"], [0.5555555555555556, \"#d8576b\"], [0.6666666666666666, \"#ed7953\"], [0.7777777777777778, \"#fb9f3a\"], [0.8888888888888888, \"#fdca26\"], [1.0, \"#f0f921\"]], \"type\": \"histogram2d\"}], \"histogram2dcontour\": [{\"colorbar\": {\"outlinewidth\": 0, \"ticks\": \"\"}, \"colorscale\": [[0.0, \"#0d0887\"], [0.1111111111111111, \"#46039f\"], [0.2222222222222222, \"#7201a8\"], [0.3333333333333333, \"#9c179e\"], [0.4444444444444444, \"#bd3786\"], [0.5555555555555556, \"#d8576b\"], [0.6666666666666666, \"#ed7953\"], [0.7777777777777778, \"#fb9f3a\"], [0.8888888888888888, \"#fdca26\"], [1.0, \"#f0f921\"]], \"type\": \"histogram2dcontour\"}], \"mesh3d\": [{\"colorbar\": {\"outlinewidth\": 0, \"ticks\": \"\"}, \"type\": \"mesh3d\"}], \"parcoords\": [{\"line\": {\"colorbar\": {\"outlinewidth\": 0, \"ticks\": \"\"}}, \"type\": \"parcoords\"}], \"pie\": [{\"automargin\": true, \"type\": \"pie\"}], \"scatter\": [{\"marker\": {\"colorbar\": {\"outlinewidth\": 0, \"ticks\": \"\"}}, \"type\": \"scatter\"}], \"scatter3d\": [{\"line\": {\"colorbar\": {\"outlinewidth\": 0, \"ticks\": \"\"}}, \"marker\": {\"colorbar\": {\"outlinewidth\": 0, \"ticks\": \"\"}}, \"type\": \"scatter3d\"}], \"scattercarpet\": [{\"marker\": {\"colorbar\": {\"outlinewidth\": 0, \"ticks\": \"\"}}, \"type\": \"scattercarpet\"}], \"scattergeo\": [{\"marker\": {\"colorbar\": {\"outlinewidth\": 0, \"ticks\": \"\"}}, \"type\": \"scattergeo\"}], \"scattergl\": [{\"marker\": {\"colorbar\": {\"outlinewidth\": 0, \"ticks\": \"\"}}, \"type\": \"scattergl\"}], \"scattermapbox\": [{\"marker\": {\"colorbar\": {\"outlinewidth\": 0, \"ticks\": \"\"}}, \"type\": \"scattermapbox\"}], \"scatterpolar\": [{\"marker\": {\"colorbar\": {\"outlinewidth\": 0, \"ticks\": \"\"}}, \"type\": \"scatterpolar\"}], \"scatterpolargl\": [{\"marker\": {\"colorbar\": {\"outlinewidth\": 0, \"ticks\": \"\"}}, \"type\": \"scatterpolargl\"}], \"scatterternary\": [{\"marker\": {\"colorbar\": {\"outlinewidth\": 0, \"ticks\": \"\"}}, \"type\": \"scatterternary\"}], \"surface\": [{\"colorbar\": {\"outlinewidth\": 0, \"ticks\": \"\"}, \"colorscale\": [[0.0, \"#0d0887\"], [0.1111111111111111, \"#46039f\"], [0.2222222222222222, \"#7201a8\"], [0.3333333333333333, \"#9c179e\"], [0.4444444444444444, \"#bd3786\"], [0.5555555555555556, \"#d8576b\"], [0.6666666666666666, \"#ed7953\"], [0.7777777777777778, \"#fb9f3a\"], [0.8888888888888888, \"#fdca26\"], [1.0, \"#f0f921\"]], \"type\": \"surface\"}], \"table\": [{\"cells\": {\"fill\": {\"color\": \"#EBF0F8\"}, \"line\": {\"color\": \"white\"}}, \"header\": {\"fill\": {\"color\": \"#C8D4E3\"}, \"line\": {\"color\": \"white\"}}, \"type\": \"table\"}]}, \"layout\": {\"annotationdefaults\": {\"arrowcolor\": \"#2a3f5f\", \"arrowhead\": 0, \"arrowwidth\": 1}, \"coloraxis\": {\"colorbar\": {\"outlinewidth\": 0, \"ticks\": \"\"}}, \"colorscale\": {\"diverging\": [[0, \"#8e0152\"], [0.1, \"#c51b7d\"], [0.2, \"#de77ae\"], [0.3, \"#f1b6da\"], [0.4, \"#fde0ef\"], [0.5, \"#f7f7f7\"], [0.6, \"#e6f5d0\"], [0.7, \"#b8e186\"], [0.8, \"#7fbc41\"], [0.9, \"#4d9221\"], [1, \"#276419\"]], \"sequential\": [[0.0, \"#0d0887\"], [0.1111111111111111, \"#46039f\"], [0.2222222222222222, \"#7201a8\"], [0.3333333333333333, \"#9c179e\"], [0.4444444444444444, \"#bd3786\"], [0.5555555555555556, \"#d8576b\"], [0.6666666666666666, \"#ed7953\"], [0.7777777777777778, \"#fb9f3a\"], [0.8888888888888888, \"#fdca26\"], [1.0, \"#f0f921\"]], \"sequentialminus\": [[0.0, \"#0d0887\"], [0.1111111111111111, \"#46039f\"], [0.2222222222222222, \"#7201a8\"], [0.3333333333333333, \"#9c179e\"], [0.4444444444444444, \"#bd3786\"], [0.5555555555555556, \"#d8576b\"], [0.6666666666666666, \"#ed7953\"], [0.7777777777777778, \"#fb9f3a\"], [0.8888888888888888, \"#fdca26\"], [1.0, \"#f0f921\"]]}, \"colorway\": [\"#636efa\", \"#EF553B\", \"#00cc96\", \"#ab63fa\", \"#FFA15A\", \"#19d3f3\", \"#FF6692\", \"#B6E880\", \"#FF97FF\", \"#FECB52\"], \"font\": {\"color\": \"#2a3f5f\"}, \"geo\": {\"bgcolor\": \"white\", \"lakecolor\": \"white\", \"landcolor\": \"#E5ECF6\", \"showlakes\": true, \"showland\": true, \"subunitcolor\": \"white\"}, \"hoverlabel\": {\"align\": \"left\"}, \"hovermode\": \"closest\", \"mapbox\": {\"style\": \"light\"}, \"paper_bgcolor\": \"white\", \"plot_bgcolor\": \"#E5ECF6\", \"polar\": {\"angularaxis\": {\"gridcolor\": \"white\", \"linecolor\": \"white\", \"ticks\": \"\"}, \"bgcolor\": \"#E5ECF6\", \"radialaxis\": {\"gridcolor\": \"white\", \"linecolor\": \"white\", \"ticks\": \"\"}}, \"scene\": {\"xaxis\": {\"backgroundcolor\": \"#E5ECF6\", \"gridcolor\": \"white\", \"gridwidth\": 2, \"linecolor\": \"white\", \"showbackground\": true, \"ticks\": \"\", \"zerolinecolor\": \"white\"}, \"yaxis\": {\"backgroundcolor\": \"#E5ECF6\", \"gridcolor\": \"white\", \"gridwidth\": 2, \"linecolor\": \"white\", \"showbackground\": true, \"ticks\": \"\", \"zerolinecolor\": \"white\"}, \"zaxis\": {\"backgroundcolor\": \"#E5ECF6\", \"gridcolor\": \"white\", \"gridwidth\": 2, \"linecolor\": \"white\", \"showbackground\": true, \"ticks\": \"\", \"zerolinecolor\": \"white\"}}, \"shapedefaults\": {\"line\": {\"color\": \"#2a3f5f\"}}, \"ternary\": {\"aaxis\": {\"gridcolor\": \"white\", \"linecolor\": \"white\", \"ticks\": \"\"}, \"baxis\": {\"gridcolor\": \"white\", \"linecolor\": \"white\", \"ticks\": \"\"}, \"bgcolor\": \"#E5ECF6\", \"caxis\": {\"gridcolor\": \"white\", \"linecolor\": \"white\", \"ticks\": \"\"}}, \"title\": {\"x\": 0.05}, \"xaxis\": {\"automargin\": true, \"gridcolor\": \"white\", \"linecolor\": \"white\", \"ticks\": \"\", \"title\": {\"standoff\": 15}, \"zerolinecolor\": \"white\", \"zerolinewidth\": 2}, \"yaxis\": {\"automargin\": true, \"gridcolor\": \"white\", \"linecolor\": \"white\", \"ticks\": \"\", \"title\": {\"standoff\": 15}, \"zerolinecolor\": \"white\", \"zerolinewidth\": 2}}}, \"title\": {\"font\": {\"family\": \"Roboto\"}, \"text\": \"pick up by zone\"}},                        {\"responsive\": true}                    ).then(function(){\n",
       "                            \n",
       "var gd = document.getElementById('1cbffaec-27d5-428f-aa9c-05353ae4f28f');\n",
       "var x = new MutationObserver(function (mutations, observer) {{\n",
       "        var display = window.getComputedStyle(gd).display;\n",
       "        if (!display || display === 'none') {{\n",
       "            console.log([gd, 'removed!']);\n",
       "            Plotly.purge(gd);\n",
       "            observer.disconnect();\n",
       "        }}\n",
       "}});\n",
       "\n",
       "// Listen for the removal of the full notebook cells\n",
       "var notebookContainer = gd.closest('#notebook-container');\n",
       "if (notebookContainer) {{\n",
       "    x.observe(notebookContainer, {childList: true});\n",
       "}}\n",
       "\n",
       "// Listen for the clearing of the current output cell\n",
       "var outputEl = gd.closest('.output');\n",
       "if (outputEl) {{\n",
       "    x.observe(outputEl, {childList: true});\n",
       "}}\n",
       "\n",
       "                        })                };                });            </script>        </div>"
      ]
     },
     "metadata": {},
     "output_type": "display_data"
    }
   ],
   "source": [
    "df = trips.groupby(['puborough','puzone']).agg({'pickup_time':'count'}).reset_index()\n",
    "fig = px.sunburst(df.reset_index(), path=['puborough', 'puzone'], values='pickup_time',color='puborough',\n",
    "                  color_discrete_map={'Manhattan':'#C9CCD5', 'Bronx':'#CDF0EA', 'Queens':'#D3E4CD','Brooklyn':'#FEF5ED'})\n",
    "fig.update_layout( hovermode = 'x', \n",
    "                  title=\"pick up by zone\", font=dict(size = 10, color = 'white'), \n",
    "                  plot_bgcolor='black', paper_bgcolor='black',font_family=\"Roboto\", title_font_family=\"Roboto\" )\n",
    "fig.show()"
   ]
  },
  {
   "cell_type": "markdown",
   "id": "ced559d7",
   "metadata": {},
   "source": [
    "## Busiest day and time "
   ]
  },
  {
   "cell_type": "code",
   "execution_count": 117,
   "id": "50a9a79a",
   "metadata": {},
   "outputs": [
    {
     "data": {
      "application/vnd.plotly.v1+json": {
       "config": {
        "plotlyServerURL": "https://plot.ly"
       },
       "data": [
        {
         "alignmentgroup": "True",
         "hovertemplate": "day_of_week=Monday<br>pickup_time=%{x}<br>hour=%{y}<extra></extra>",
         "legendgroup": "Monday",
         "marker": {
          "color": "#F9CF93"
         },
         "name": "Monday",
         "offsetgroup": "Monday",
         "orientation": "h",
         "showlegend": true,
         "textposition": "auto",
         "type": "bar",
         "x": [
          84094,
          54091,
          35671,
          28031,
          30030,
          29311,
          57916,
          124059,
          186046,
          187815,
          169385,
          158793,
          158422,
          157380,
          175858,
          197935,
          215669,
          236049,
          248304,
          221280,
          178435,
          151164,
          127817,
          102151
         ],
         "xaxis": "x",
         "y": [
          "00",
          "01",
          "02",
          "03",
          "04",
          "05",
          "06",
          "07",
          "08",
          "09",
          "10",
          "11",
          "12",
          "13",
          "14",
          "15",
          "16",
          "17",
          "18",
          "19",
          "20",
          "21",
          "22",
          "23"
         ],
         "yaxis": "y"
        },
        {
         "alignmentgroup": "True",
         "hovertemplate": "day_of_week=Tuesday<br>pickup_time=%{x}<br>hour=%{y}<extra></extra>",
         "legendgroup": "Tuesday",
         "marker": {
          "color": "#ADC2A9"
         },
         "name": "Tuesday",
         "offsetgroup": "Tuesday",
         "orientation": "h",
         "showlegend": true,
         "textposition": "auto",
         "type": "bar",
         "x": [
          70110,
          44132,
          27016,
          19898,
          21314,
          25228,
          57478,
          130037,
          195584,
          197348,
          177870,
          167848,
          166096,
          165301,
          182626,
          206393,
          223060,
          246486,
          264308,
          240939,
          197458,
          173211,
          147830,
          117868
         ],
         "xaxis": "x",
         "y": [
          "00",
          "01",
          "02",
          "03",
          "04",
          "05",
          "06",
          "07",
          "08",
          "09",
          "10",
          "11",
          "12",
          "13",
          "14",
          "15",
          "16",
          "17",
          "18",
          "19",
          "20",
          "21",
          "22",
          "23"
         ],
         "yaxis": "y"
        },
        {
         "alignmentgroup": "True",
         "hovertemplate": "day_of_week=Wednesday<br>pickup_time=%{x}<br>hour=%{y}<extra></extra>",
         "legendgroup": "Wednesday",
         "marker": {
          "color": "#FEF5ED"
         },
         "name": "Wednesday",
         "offsetgroup": "Wednesday",
         "orientation": "h",
         "showlegend": true,
         "textposition": "auto",
         "type": "bar",
         "x": [
          81143,
          49207,
          29854,
          21417,
          21831,
          25231,
          57406,
          129722,
          195867,
          200984,
          180932,
          173863,
          172486,
          170470,
          188781,
          210256,
          230614,
          258015,
          275972,
          252363,
          210030,
          188419,
          163537,
          133970
         ],
         "xaxis": "x",
         "y": [
          "00",
          "01",
          "02",
          "03",
          "04",
          "05",
          "06",
          "07",
          "08",
          "09",
          "10",
          "11",
          "12",
          "13",
          "14",
          "15",
          "16",
          "17",
          "18",
          "19",
          "20",
          "21",
          "22",
          "23"
         ],
         "yaxis": "y"
        },
        {
         "alignmentgroup": "True",
         "hovertemplate": "day_of_week=Thursday<br>pickup_time=%{x}<br>hour=%{y}<extra></extra>",
         "legendgroup": "Thursday",
         "marker": {
          "color": "#C7B198"
         },
         "name": "Thursday",
         "offsetgroup": "Thursday",
         "orientation": "h",
         "showlegend": true,
         "textposition": "auto",
         "type": "bar",
         "x": [
          93284,
          57666,
          35321,
          24421,
          23774,
          25969,
          58584,
          131644,
          197961,
          200965,
          183471,
          175671,
          173770,
          173367,
          194067,
          218769,
          240395,
          265546,
          284950,
          263278,
          222697,
          205351,
          183286,
          155510
         ],
         "xaxis": "x",
         "y": [
          "00",
          "01",
          "02",
          "03",
          "04",
          "05",
          "06",
          "07",
          "08",
          "09",
          "10",
          "11",
          "12",
          "13",
          "14",
          "15",
          "16",
          "17",
          "18",
          "19",
          "20",
          "21",
          "22",
          "23"
         ],
         "yaxis": "y"
        },
        {
         "alignmentgroup": "True",
         "hovertemplate": "day_of_week=Friday<br>pickup_time=%{x}<br>hour=%{y}<extra></extra>",
         "legendgroup": "Friday",
         "marker": {
          "color": "#D3E4CD"
         },
         "name": "Friday",
         "offsetgroup": "Friday",
         "orientation": "h",
         "showlegend": true,
         "textposition": "auto",
         "type": "bar",
         "x": [
          115477,
          77323,
          49229,
          34727,
          30704,
          28224,
          58947,
          131030,
          198558,
          205224,
          187324,
          178052,
          166492,
          160105,
          198112,
          232748,
          260570,
          290451,
          314622,
          298178,
          257576,
          245747,
          237688,
          230533
         ],
         "xaxis": "x",
         "y": [
          "00",
          "01",
          "02",
          "03",
          "04",
          "05",
          "06",
          "07",
          "08",
          "09",
          "10",
          "11",
          "12",
          "13",
          "14",
          "15",
          "16",
          "17",
          "18",
          "19",
          "20",
          "21",
          "22",
          "23"
         ],
         "yaxis": "y"
        },
        {
         "alignmentgroup": "True",
         "hovertemplate": "day_of_week=Saturday<br>pickup_time=%{x}<br>hour=%{y}<extra></extra>",
         "legendgroup": "Saturday",
         "marker": {
          "color": "#898B8A"
         },
         "name": "Saturday",
         "offsetgroup": "Saturday",
         "orientation": "h",
         "showlegend": true,
         "textposition": "auto",
         "type": "bar",
         "x": [
          206708,
          169886,
          132985,
          106200,
          82356,
          43381,
          42142,
          63665,
          98041,
          138115,
          160496,
          180219,
          194340,
          199260,
          216735,
          234342,
          246353,
          255507,
          272029,
          267257,
          243467,
          239290,
          237509,
          239523
         ],
         "xaxis": "x",
         "y": [
          "00",
          "01",
          "02",
          "03",
          "04",
          "05",
          "06",
          "07",
          "08",
          "09",
          "10",
          "11",
          "12",
          "13",
          "14",
          "15",
          "16",
          "17",
          "18",
          "19",
          "20",
          "21",
          "22",
          "23"
         ],
         "yaxis": "y"
        },
        {
         "alignmentgroup": "True",
         "hovertemplate": "day_of_week=Sunday<br>pickup_time=%{x}<br>hour=%{y}<extra></extra>",
         "legendgroup": "Sunday",
         "marker": {
          "color": "#CDF0EA"
         },
         "name": "Sunday",
         "offsetgroup": "Sunday",
         "orientation": "h",
         "showlegend": true,
         "textposition": "auto",
         "type": "bar",
         "x": [
          218720,
          192496,
          149871,
          125992,
          95590,
          48506,
          37575,
          49430,
          71506,
          108990,
          138587,
          157556,
          171402,
          177227,
          192576,
          203696,
          207365,
          209181,
          214264,
          194281,
          172263,
          157487,
          140977,
          118157
         ],
         "xaxis": "x",
         "y": [
          "00",
          "01",
          "02",
          "03",
          "04",
          "05",
          "06",
          "07",
          "08",
          "09",
          "10",
          "11",
          "12",
          "13",
          "14",
          "15",
          "16",
          "17",
          "18",
          "19",
          "20",
          "21",
          "22",
          "23"
         ],
         "yaxis": "y"
        }
       ],
       "layout": {
        "barmode": "relative",
        "font": {
         "color": "white",
         "family": "Roboto",
         "size": 10
        },
        "height": 400,
        "hovermode": "x",
        "legend": {
         "title": {
          "text": "day_of_week"
         },
         "tracegroupgap": 0
        },
        "margin": {
         "t": 60
        },
        "paper_bgcolor": "black",
        "plot_bgcolor": "black",
        "template": {
         "data": {
          "bar": [
           {
            "error_x": {
             "color": "#2a3f5f"
            },
            "error_y": {
             "color": "#2a3f5f"
            },
            "marker": {
             "line": {
              "color": "#E5ECF6",
              "width": 0.5
             }
            },
            "type": "bar"
           }
          ],
          "barpolar": [
           {
            "marker": {
             "line": {
              "color": "#E5ECF6",
              "width": 0.5
             }
            },
            "type": "barpolar"
           }
          ],
          "carpet": [
           {
            "aaxis": {
             "endlinecolor": "#2a3f5f",
             "gridcolor": "white",
             "linecolor": "white",
             "minorgridcolor": "white",
             "startlinecolor": "#2a3f5f"
            },
            "baxis": {
             "endlinecolor": "#2a3f5f",
             "gridcolor": "white",
             "linecolor": "white",
             "minorgridcolor": "white",
             "startlinecolor": "#2a3f5f"
            },
            "type": "carpet"
           }
          ],
          "choropleth": [
           {
            "colorbar": {
             "outlinewidth": 0,
             "ticks": ""
            },
            "type": "choropleth"
           }
          ],
          "contour": [
           {
            "colorbar": {
             "outlinewidth": 0,
             "ticks": ""
            },
            "colorscale": [
             [
              0,
              "#0d0887"
             ],
             [
              0.1111111111111111,
              "#46039f"
             ],
             [
              0.2222222222222222,
              "#7201a8"
             ],
             [
              0.3333333333333333,
              "#9c179e"
             ],
             [
              0.4444444444444444,
              "#bd3786"
             ],
             [
              0.5555555555555556,
              "#d8576b"
             ],
             [
              0.6666666666666666,
              "#ed7953"
             ],
             [
              0.7777777777777778,
              "#fb9f3a"
             ],
             [
              0.8888888888888888,
              "#fdca26"
             ],
             [
              1,
              "#f0f921"
             ]
            ],
            "type": "contour"
           }
          ],
          "contourcarpet": [
           {
            "colorbar": {
             "outlinewidth": 0,
             "ticks": ""
            },
            "type": "contourcarpet"
           }
          ],
          "heatmap": [
           {
            "colorbar": {
             "outlinewidth": 0,
             "ticks": ""
            },
            "colorscale": [
             [
              0,
              "#0d0887"
             ],
             [
              0.1111111111111111,
              "#46039f"
             ],
             [
              0.2222222222222222,
              "#7201a8"
             ],
             [
              0.3333333333333333,
              "#9c179e"
             ],
             [
              0.4444444444444444,
              "#bd3786"
             ],
             [
              0.5555555555555556,
              "#d8576b"
             ],
             [
              0.6666666666666666,
              "#ed7953"
             ],
             [
              0.7777777777777778,
              "#fb9f3a"
             ],
             [
              0.8888888888888888,
              "#fdca26"
             ],
             [
              1,
              "#f0f921"
             ]
            ],
            "type": "heatmap"
           }
          ],
          "heatmapgl": [
           {
            "colorbar": {
             "outlinewidth": 0,
             "ticks": ""
            },
            "colorscale": [
             [
              0,
              "#0d0887"
             ],
             [
              0.1111111111111111,
              "#46039f"
             ],
             [
              0.2222222222222222,
              "#7201a8"
             ],
             [
              0.3333333333333333,
              "#9c179e"
             ],
             [
              0.4444444444444444,
              "#bd3786"
             ],
             [
              0.5555555555555556,
              "#d8576b"
             ],
             [
              0.6666666666666666,
              "#ed7953"
             ],
             [
              0.7777777777777778,
              "#fb9f3a"
             ],
             [
              0.8888888888888888,
              "#fdca26"
             ],
             [
              1,
              "#f0f921"
             ]
            ],
            "type": "heatmapgl"
           }
          ],
          "histogram": [
           {
            "marker": {
             "colorbar": {
              "outlinewidth": 0,
              "ticks": ""
             }
            },
            "type": "histogram"
           }
          ],
          "histogram2d": [
           {
            "colorbar": {
             "outlinewidth": 0,
             "ticks": ""
            },
            "colorscale": [
             [
              0,
              "#0d0887"
             ],
             [
              0.1111111111111111,
              "#46039f"
             ],
             [
              0.2222222222222222,
              "#7201a8"
             ],
             [
              0.3333333333333333,
              "#9c179e"
             ],
             [
              0.4444444444444444,
              "#bd3786"
             ],
             [
              0.5555555555555556,
              "#d8576b"
             ],
             [
              0.6666666666666666,
              "#ed7953"
             ],
             [
              0.7777777777777778,
              "#fb9f3a"
             ],
             [
              0.8888888888888888,
              "#fdca26"
             ],
             [
              1,
              "#f0f921"
             ]
            ],
            "type": "histogram2d"
           }
          ],
          "histogram2dcontour": [
           {
            "colorbar": {
             "outlinewidth": 0,
             "ticks": ""
            },
            "colorscale": [
             [
              0,
              "#0d0887"
             ],
             [
              0.1111111111111111,
              "#46039f"
             ],
             [
              0.2222222222222222,
              "#7201a8"
             ],
             [
              0.3333333333333333,
              "#9c179e"
             ],
             [
              0.4444444444444444,
              "#bd3786"
             ],
             [
              0.5555555555555556,
              "#d8576b"
             ],
             [
              0.6666666666666666,
              "#ed7953"
             ],
             [
              0.7777777777777778,
              "#fb9f3a"
             ],
             [
              0.8888888888888888,
              "#fdca26"
             ],
             [
              1,
              "#f0f921"
             ]
            ],
            "type": "histogram2dcontour"
           }
          ],
          "mesh3d": [
           {
            "colorbar": {
             "outlinewidth": 0,
             "ticks": ""
            },
            "type": "mesh3d"
           }
          ],
          "parcoords": [
           {
            "line": {
             "colorbar": {
              "outlinewidth": 0,
              "ticks": ""
             }
            },
            "type": "parcoords"
           }
          ],
          "pie": [
           {
            "automargin": true,
            "type": "pie"
           }
          ],
          "scatter": [
           {
            "marker": {
             "colorbar": {
              "outlinewidth": 0,
              "ticks": ""
             }
            },
            "type": "scatter"
           }
          ],
          "scatter3d": [
           {
            "line": {
             "colorbar": {
              "outlinewidth": 0,
              "ticks": ""
             }
            },
            "marker": {
             "colorbar": {
              "outlinewidth": 0,
              "ticks": ""
             }
            },
            "type": "scatter3d"
           }
          ],
          "scattercarpet": [
           {
            "marker": {
             "colorbar": {
              "outlinewidth": 0,
              "ticks": ""
             }
            },
            "type": "scattercarpet"
           }
          ],
          "scattergeo": [
           {
            "marker": {
             "colorbar": {
              "outlinewidth": 0,
              "ticks": ""
             }
            },
            "type": "scattergeo"
           }
          ],
          "scattergl": [
           {
            "marker": {
             "colorbar": {
              "outlinewidth": 0,
              "ticks": ""
             }
            },
            "type": "scattergl"
           }
          ],
          "scattermapbox": [
           {
            "marker": {
             "colorbar": {
              "outlinewidth": 0,
              "ticks": ""
             }
            },
            "type": "scattermapbox"
           }
          ],
          "scatterpolar": [
           {
            "marker": {
             "colorbar": {
              "outlinewidth": 0,
              "ticks": ""
             }
            },
            "type": "scatterpolar"
           }
          ],
          "scatterpolargl": [
           {
            "marker": {
             "colorbar": {
              "outlinewidth": 0,
              "ticks": ""
             }
            },
            "type": "scatterpolargl"
           }
          ],
          "scatterternary": [
           {
            "marker": {
             "colorbar": {
              "outlinewidth": 0,
              "ticks": ""
             }
            },
            "type": "scatterternary"
           }
          ],
          "surface": [
           {
            "colorbar": {
             "outlinewidth": 0,
             "ticks": ""
            },
            "colorscale": [
             [
              0,
              "#0d0887"
             ],
             [
              0.1111111111111111,
              "#46039f"
             ],
             [
              0.2222222222222222,
              "#7201a8"
             ],
             [
              0.3333333333333333,
              "#9c179e"
             ],
             [
              0.4444444444444444,
              "#bd3786"
             ],
             [
              0.5555555555555556,
              "#d8576b"
             ],
             [
              0.6666666666666666,
              "#ed7953"
             ],
             [
              0.7777777777777778,
              "#fb9f3a"
             ],
             [
              0.8888888888888888,
              "#fdca26"
             ],
             [
              1,
              "#f0f921"
             ]
            ],
            "type": "surface"
           }
          ],
          "table": [
           {
            "cells": {
             "fill": {
              "color": "#EBF0F8"
             },
             "line": {
              "color": "white"
             }
            },
            "header": {
             "fill": {
              "color": "#C8D4E3"
             },
             "line": {
              "color": "white"
             }
            },
            "type": "table"
           }
          ]
         },
         "layout": {
          "annotationdefaults": {
           "arrowcolor": "#2a3f5f",
           "arrowhead": 0,
           "arrowwidth": 1
          },
          "coloraxis": {
           "colorbar": {
            "outlinewidth": 0,
            "ticks": ""
           }
          },
          "colorscale": {
           "diverging": [
            [
             0,
             "#8e0152"
            ],
            [
             0.1,
             "#c51b7d"
            ],
            [
             0.2,
             "#de77ae"
            ],
            [
             0.3,
             "#f1b6da"
            ],
            [
             0.4,
             "#fde0ef"
            ],
            [
             0.5,
             "#f7f7f7"
            ],
            [
             0.6,
             "#e6f5d0"
            ],
            [
             0.7,
             "#b8e186"
            ],
            [
             0.8,
             "#7fbc41"
            ],
            [
             0.9,
             "#4d9221"
            ],
            [
             1,
             "#276419"
            ]
           ],
           "sequential": [
            [
             0,
             "#0d0887"
            ],
            [
             0.1111111111111111,
             "#46039f"
            ],
            [
             0.2222222222222222,
             "#7201a8"
            ],
            [
             0.3333333333333333,
             "#9c179e"
            ],
            [
             0.4444444444444444,
             "#bd3786"
            ],
            [
             0.5555555555555556,
             "#d8576b"
            ],
            [
             0.6666666666666666,
             "#ed7953"
            ],
            [
             0.7777777777777778,
             "#fb9f3a"
            ],
            [
             0.8888888888888888,
             "#fdca26"
            ],
            [
             1,
             "#f0f921"
            ]
           ],
           "sequentialminus": [
            [
             0,
             "#0d0887"
            ],
            [
             0.1111111111111111,
             "#46039f"
            ],
            [
             0.2222222222222222,
             "#7201a8"
            ],
            [
             0.3333333333333333,
             "#9c179e"
            ],
            [
             0.4444444444444444,
             "#bd3786"
            ],
            [
             0.5555555555555556,
             "#d8576b"
            ],
            [
             0.6666666666666666,
             "#ed7953"
            ],
            [
             0.7777777777777778,
             "#fb9f3a"
            ],
            [
             0.8888888888888888,
             "#fdca26"
            ],
            [
             1,
             "#f0f921"
            ]
           ]
          },
          "colorway": [
           "#636efa",
           "#EF553B",
           "#00cc96",
           "#ab63fa",
           "#FFA15A",
           "#19d3f3",
           "#FF6692",
           "#B6E880",
           "#FF97FF",
           "#FECB52"
          ],
          "font": {
           "color": "#2a3f5f"
          },
          "geo": {
           "bgcolor": "white",
           "lakecolor": "white",
           "landcolor": "#E5ECF6",
           "showlakes": true,
           "showland": true,
           "subunitcolor": "white"
          },
          "hoverlabel": {
           "align": "left"
          },
          "hovermode": "closest",
          "mapbox": {
           "style": "light"
          },
          "paper_bgcolor": "white",
          "plot_bgcolor": "#E5ECF6",
          "polar": {
           "angularaxis": {
            "gridcolor": "white",
            "linecolor": "white",
            "ticks": ""
           },
           "bgcolor": "#E5ECF6",
           "radialaxis": {
            "gridcolor": "white",
            "linecolor": "white",
            "ticks": ""
           }
          },
          "scene": {
           "xaxis": {
            "backgroundcolor": "#E5ECF6",
            "gridcolor": "white",
            "gridwidth": 2,
            "linecolor": "white",
            "showbackground": true,
            "ticks": "",
            "zerolinecolor": "white"
           },
           "yaxis": {
            "backgroundcolor": "#E5ECF6",
            "gridcolor": "white",
            "gridwidth": 2,
            "linecolor": "white",
            "showbackground": true,
            "ticks": "",
            "zerolinecolor": "white"
           },
           "zaxis": {
            "backgroundcolor": "#E5ECF6",
            "gridcolor": "white",
            "gridwidth": 2,
            "linecolor": "white",
            "showbackground": true,
            "ticks": "",
            "zerolinecolor": "white"
           }
          },
          "shapedefaults": {
           "line": {
            "color": "#2a3f5f"
           }
          },
          "ternary": {
           "aaxis": {
            "gridcolor": "white",
            "linecolor": "white",
            "ticks": ""
           },
           "baxis": {
            "gridcolor": "white",
            "linecolor": "white",
            "ticks": ""
           },
           "bgcolor": "#E5ECF6",
           "caxis": {
            "gridcolor": "white",
            "linecolor": "white",
            "ticks": ""
           }
          },
          "title": {
           "x": 0.05
          },
          "xaxis": {
           "automargin": true,
           "gridcolor": "white",
           "linecolor": "white",
           "ticks": "",
           "title": {
            "standoff": 15
           },
           "zerolinecolor": "white",
           "zerolinewidth": 2
          },
          "yaxis": {
           "automargin": true,
           "gridcolor": "white",
           "linecolor": "white",
           "ticks": "",
           "title": {
            "standoff": 15
           },
           "zerolinecolor": "white",
           "zerolinewidth": 2
          }
         }
        },
        "title": {
         "font": {
          "family": "Roboto"
         },
         "text": "time breakdown"
        },
        "width": 900,
        "xaxis": {
         "anchor": "y",
         "domain": [
          0,
          1
         ],
         "showgrid": false,
         "showline": false,
         "title": {
          "text": "pickup_time"
         }
        },
        "yaxis": {
         "anchor": "x",
         "domain": [
          0,
          1
         ],
         "showgrid": false,
         "showline": false,
         "title": {
          "text": "hour"
         }
        }
       }
      },
      "text/html": [
       "<div>                            <div id=\"da9ac745-b2f6-4003-9b39-154e70709dfc\" class=\"plotly-graph-div\" style=\"height:400px; width:900px;\"></div>            <script type=\"text/javascript\">                require([\"plotly\"], function(Plotly) {                    window.PLOTLYENV=window.PLOTLYENV || {};                                    if (document.getElementById(\"da9ac745-b2f6-4003-9b39-154e70709dfc\")) {                    Plotly.newPlot(                        \"da9ac745-b2f6-4003-9b39-154e70709dfc\",                        [{\"alignmentgroup\": \"True\", \"hovertemplate\": \"day_of_week=Monday<br>pickup_time=%{x}<br>hour=%{y}<extra></extra>\", \"legendgroup\": \"Monday\", \"marker\": {\"color\": \"#F9CF93\"}, \"name\": \"Monday\", \"offsetgroup\": \"Monday\", \"orientation\": \"h\", \"showlegend\": true, \"textposition\": \"auto\", \"type\": \"bar\", \"x\": [84094, 54091, 35671, 28031, 30030, 29311, 57916, 124059, 186046, 187815, 169385, 158793, 158422, 157380, 175858, 197935, 215669, 236049, 248304, 221280, 178435, 151164, 127817, 102151], \"xaxis\": \"x\", \"y\": [\"00\", \"01\", \"02\", \"03\", \"04\", \"05\", \"06\", \"07\", \"08\", \"09\", \"10\", \"11\", \"12\", \"13\", \"14\", \"15\", \"16\", \"17\", \"18\", \"19\", \"20\", \"21\", \"22\", \"23\"], \"yaxis\": \"y\"}, {\"alignmentgroup\": \"True\", \"hovertemplate\": \"day_of_week=Tuesday<br>pickup_time=%{x}<br>hour=%{y}<extra></extra>\", \"legendgroup\": \"Tuesday\", \"marker\": {\"color\": \"#ADC2A9\"}, \"name\": \"Tuesday\", \"offsetgroup\": \"Tuesday\", \"orientation\": \"h\", \"showlegend\": true, \"textposition\": \"auto\", \"type\": \"bar\", \"x\": [70110, 44132, 27016, 19898, 21314, 25228, 57478, 130037, 195584, 197348, 177870, 167848, 166096, 165301, 182626, 206393, 223060, 246486, 264308, 240939, 197458, 173211, 147830, 117868], \"xaxis\": \"x\", \"y\": [\"00\", \"01\", \"02\", \"03\", \"04\", \"05\", \"06\", \"07\", \"08\", \"09\", \"10\", \"11\", \"12\", \"13\", \"14\", \"15\", \"16\", \"17\", \"18\", \"19\", \"20\", \"21\", \"22\", \"23\"], \"yaxis\": \"y\"}, {\"alignmentgroup\": \"True\", \"hovertemplate\": \"day_of_week=Wednesday<br>pickup_time=%{x}<br>hour=%{y}<extra></extra>\", \"legendgroup\": \"Wednesday\", \"marker\": {\"color\": \"#FEF5ED\"}, \"name\": \"Wednesday\", \"offsetgroup\": \"Wednesday\", \"orientation\": \"h\", \"showlegend\": true, \"textposition\": \"auto\", \"type\": \"bar\", \"x\": [81143, 49207, 29854, 21417, 21831, 25231, 57406, 129722, 195867, 200984, 180932, 173863, 172486, 170470, 188781, 210256, 230614, 258015, 275972, 252363, 210030, 188419, 163537, 133970], \"xaxis\": \"x\", \"y\": [\"00\", \"01\", \"02\", \"03\", \"04\", \"05\", \"06\", \"07\", \"08\", \"09\", \"10\", \"11\", \"12\", \"13\", \"14\", \"15\", \"16\", \"17\", \"18\", \"19\", \"20\", \"21\", \"22\", \"23\"], \"yaxis\": \"y\"}, {\"alignmentgroup\": \"True\", \"hovertemplate\": \"day_of_week=Thursday<br>pickup_time=%{x}<br>hour=%{y}<extra></extra>\", \"legendgroup\": \"Thursday\", \"marker\": {\"color\": \"#C7B198\"}, \"name\": \"Thursday\", \"offsetgroup\": \"Thursday\", \"orientation\": \"h\", \"showlegend\": true, \"textposition\": \"auto\", \"type\": \"bar\", \"x\": [93284, 57666, 35321, 24421, 23774, 25969, 58584, 131644, 197961, 200965, 183471, 175671, 173770, 173367, 194067, 218769, 240395, 265546, 284950, 263278, 222697, 205351, 183286, 155510], \"xaxis\": \"x\", \"y\": [\"00\", \"01\", \"02\", \"03\", \"04\", \"05\", \"06\", \"07\", \"08\", \"09\", \"10\", \"11\", \"12\", \"13\", \"14\", \"15\", \"16\", \"17\", \"18\", \"19\", \"20\", \"21\", \"22\", \"23\"], \"yaxis\": \"y\"}, {\"alignmentgroup\": \"True\", \"hovertemplate\": \"day_of_week=Friday<br>pickup_time=%{x}<br>hour=%{y}<extra></extra>\", \"legendgroup\": \"Friday\", \"marker\": {\"color\": \"#D3E4CD\"}, \"name\": \"Friday\", \"offsetgroup\": \"Friday\", \"orientation\": \"h\", \"showlegend\": true, \"textposition\": \"auto\", \"type\": \"bar\", \"x\": [115477, 77323, 49229, 34727, 30704, 28224, 58947, 131030, 198558, 205224, 187324, 178052, 166492, 160105, 198112, 232748, 260570, 290451, 314622, 298178, 257576, 245747, 237688, 230533], \"xaxis\": \"x\", \"y\": [\"00\", \"01\", \"02\", \"03\", \"04\", \"05\", \"06\", \"07\", \"08\", \"09\", \"10\", \"11\", \"12\", \"13\", \"14\", \"15\", \"16\", \"17\", \"18\", \"19\", \"20\", \"21\", \"22\", \"23\"], \"yaxis\": \"y\"}, {\"alignmentgroup\": \"True\", \"hovertemplate\": \"day_of_week=Saturday<br>pickup_time=%{x}<br>hour=%{y}<extra></extra>\", \"legendgroup\": \"Saturday\", \"marker\": {\"color\": \"#898B8A\"}, \"name\": \"Saturday\", \"offsetgroup\": \"Saturday\", \"orientation\": \"h\", \"showlegend\": true, \"textposition\": \"auto\", \"type\": \"bar\", \"x\": [206708, 169886, 132985, 106200, 82356, 43381, 42142, 63665, 98041, 138115, 160496, 180219, 194340, 199260, 216735, 234342, 246353, 255507, 272029, 267257, 243467, 239290, 237509, 239523], \"xaxis\": \"x\", \"y\": [\"00\", \"01\", \"02\", \"03\", \"04\", \"05\", \"06\", \"07\", \"08\", \"09\", \"10\", \"11\", \"12\", \"13\", \"14\", \"15\", \"16\", \"17\", \"18\", \"19\", \"20\", \"21\", \"22\", \"23\"], \"yaxis\": \"y\"}, {\"alignmentgroup\": \"True\", \"hovertemplate\": \"day_of_week=Sunday<br>pickup_time=%{x}<br>hour=%{y}<extra></extra>\", \"legendgroup\": \"Sunday\", \"marker\": {\"color\": \"#CDF0EA\"}, \"name\": \"Sunday\", \"offsetgroup\": \"Sunday\", \"orientation\": \"h\", \"showlegend\": true, \"textposition\": \"auto\", \"type\": \"bar\", \"x\": [218720, 192496, 149871, 125992, 95590, 48506, 37575, 49430, 71506, 108990, 138587, 157556, 171402, 177227, 192576, 203696, 207365, 209181, 214264, 194281, 172263, 157487, 140977, 118157], \"xaxis\": \"x\", \"y\": [\"00\", \"01\", \"02\", \"03\", \"04\", \"05\", \"06\", \"07\", \"08\", \"09\", \"10\", \"11\", \"12\", \"13\", \"14\", \"15\", \"16\", \"17\", \"18\", \"19\", \"20\", \"21\", \"22\", \"23\"], \"yaxis\": \"y\"}],                        {\"barmode\": \"relative\", \"font\": {\"color\": \"white\", \"family\": \"Roboto\", \"size\": 10}, \"height\": 400, \"hovermode\": \"x\", \"legend\": {\"title\": {\"text\": \"day_of_week\"}, \"tracegroupgap\": 0}, \"margin\": {\"t\": 60}, \"paper_bgcolor\": \"black\", \"plot_bgcolor\": \"black\", \"template\": {\"data\": {\"bar\": [{\"error_x\": {\"color\": \"#2a3f5f\"}, \"error_y\": {\"color\": \"#2a3f5f\"}, \"marker\": {\"line\": {\"color\": \"#E5ECF6\", \"width\": 0.5}}, \"type\": \"bar\"}], \"barpolar\": [{\"marker\": {\"line\": {\"color\": \"#E5ECF6\", \"width\": 0.5}}, \"type\": \"barpolar\"}], \"carpet\": [{\"aaxis\": {\"endlinecolor\": \"#2a3f5f\", \"gridcolor\": \"white\", \"linecolor\": \"white\", \"minorgridcolor\": \"white\", \"startlinecolor\": \"#2a3f5f\"}, \"baxis\": {\"endlinecolor\": \"#2a3f5f\", \"gridcolor\": \"white\", \"linecolor\": \"white\", \"minorgridcolor\": \"white\", \"startlinecolor\": \"#2a3f5f\"}, \"type\": \"carpet\"}], \"choropleth\": [{\"colorbar\": {\"outlinewidth\": 0, \"ticks\": \"\"}, \"type\": \"choropleth\"}], \"contour\": [{\"colorbar\": {\"outlinewidth\": 0, \"ticks\": \"\"}, \"colorscale\": [[0.0, \"#0d0887\"], [0.1111111111111111, \"#46039f\"], [0.2222222222222222, \"#7201a8\"], [0.3333333333333333, \"#9c179e\"], [0.4444444444444444, \"#bd3786\"], [0.5555555555555556, \"#d8576b\"], [0.6666666666666666, \"#ed7953\"], [0.7777777777777778, \"#fb9f3a\"], [0.8888888888888888, \"#fdca26\"], [1.0, \"#f0f921\"]], \"type\": \"contour\"}], \"contourcarpet\": [{\"colorbar\": {\"outlinewidth\": 0, \"ticks\": \"\"}, \"type\": \"contourcarpet\"}], \"heatmap\": [{\"colorbar\": {\"outlinewidth\": 0, \"ticks\": \"\"}, \"colorscale\": [[0.0, \"#0d0887\"], [0.1111111111111111, \"#46039f\"], [0.2222222222222222, \"#7201a8\"], [0.3333333333333333, \"#9c179e\"], [0.4444444444444444, \"#bd3786\"], [0.5555555555555556, \"#d8576b\"], [0.6666666666666666, \"#ed7953\"], [0.7777777777777778, \"#fb9f3a\"], [0.8888888888888888, \"#fdca26\"], [1.0, \"#f0f921\"]], \"type\": \"heatmap\"}], \"heatmapgl\": [{\"colorbar\": {\"outlinewidth\": 0, \"ticks\": \"\"}, \"colorscale\": [[0.0, \"#0d0887\"], [0.1111111111111111, \"#46039f\"], [0.2222222222222222, \"#7201a8\"], [0.3333333333333333, \"#9c179e\"], [0.4444444444444444, \"#bd3786\"], [0.5555555555555556, \"#d8576b\"], [0.6666666666666666, \"#ed7953\"], [0.7777777777777778, \"#fb9f3a\"], [0.8888888888888888, \"#fdca26\"], [1.0, \"#f0f921\"]], \"type\": \"heatmapgl\"}], \"histogram\": [{\"marker\": {\"colorbar\": {\"outlinewidth\": 0, \"ticks\": \"\"}}, \"type\": \"histogram\"}], \"histogram2d\": [{\"colorbar\": {\"outlinewidth\": 0, \"ticks\": \"\"}, \"colorscale\": [[0.0, \"#0d0887\"], [0.1111111111111111, \"#46039f\"], [0.2222222222222222, \"#7201a8\"], [0.3333333333333333, \"#9c179e\"], [0.4444444444444444, \"#bd3786\"], [0.5555555555555556, \"#d8576b\"], [0.6666666666666666, \"#ed7953\"], [0.7777777777777778, \"#fb9f3a\"], [0.8888888888888888, \"#fdca26\"], [1.0, \"#f0f921\"]], \"type\": \"histogram2d\"}], \"histogram2dcontour\": [{\"colorbar\": {\"outlinewidth\": 0, \"ticks\": \"\"}, \"colorscale\": [[0.0, \"#0d0887\"], [0.1111111111111111, \"#46039f\"], [0.2222222222222222, \"#7201a8\"], [0.3333333333333333, \"#9c179e\"], [0.4444444444444444, \"#bd3786\"], [0.5555555555555556, \"#d8576b\"], [0.6666666666666666, \"#ed7953\"], [0.7777777777777778, \"#fb9f3a\"], [0.8888888888888888, \"#fdca26\"], [1.0, \"#f0f921\"]], \"type\": \"histogram2dcontour\"}], \"mesh3d\": [{\"colorbar\": {\"outlinewidth\": 0, \"ticks\": \"\"}, \"type\": \"mesh3d\"}], \"parcoords\": [{\"line\": {\"colorbar\": {\"outlinewidth\": 0, \"ticks\": \"\"}}, \"type\": \"parcoords\"}], \"pie\": [{\"automargin\": true, \"type\": \"pie\"}], \"scatter\": [{\"marker\": {\"colorbar\": {\"outlinewidth\": 0, \"ticks\": \"\"}}, \"type\": \"scatter\"}], \"scatter3d\": [{\"line\": {\"colorbar\": {\"outlinewidth\": 0, \"ticks\": \"\"}}, \"marker\": {\"colorbar\": {\"outlinewidth\": 0, \"ticks\": \"\"}}, \"type\": \"scatter3d\"}], \"scattercarpet\": [{\"marker\": {\"colorbar\": {\"outlinewidth\": 0, \"ticks\": \"\"}}, \"type\": \"scattercarpet\"}], \"scattergeo\": [{\"marker\": {\"colorbar\": {\"outlinewidth\": 0, \"ticks\": \"\"}}, \"type\": \"scattergeo\"}], \"scattergl\": [{\"marker\": {\"colorbar\": {\"outlinewidth\": 0, \"ticks\": \"\"}}, \"type\": \"scattergl\"}], \"scattermapbox\": [{\"marker\": {\"colorbar\": {\"outlinewidth\": 0, \"ticks\": \"\"}}, \"type\": \"scattermapbox\"}], \"scatterpolar\": [{\"marker\": {\"colorbar\": {\"outlinewidth\": 0, \"ticks\": \"\"}}, \"type\": \"scatterpolar\"}], \"scatterpolargl\": [{\"marker\": {\"colorbar\": {\"outlinewidth\": 0, \"ticks\": \"\"}}, \"type\": \"scatterpolargl\"}], \"scatterternary\": [{\"marker\": {\"colorbar\": {\"outlinewidth\": 0, \"ticks\": \"\"}}, \"type\": \"scatterternary\"}], \"surface\": [{\"colorbar\": {\"outlinewidth\": 0, \"ticks\": \"\"}, \"colorscale\": [[0.0, \"#0d0887\"], [0.1111111111111111, \"#46039f\"], [0.2222222222222222, \"#7201a8\"], [0.3333333333333333, \"#9c179e\"], [0.4444444444444444, \"#bd3786\"], [0.5555555555555556, \"#d8576b\"], [0.6666666666666666, \"#ed7953\"], [0.7777777777777778, \"#fb9f3a\"], [0.8888888888888888, \"#fdca26\"], [1.0, \"#f0f921\"]], \"type\": \"surface\"}], \"table\": [{\"cells\": {\"fill\": {\"color\": \"#EBF0F8\"}, \"line\": {\"color\": \"white\"}}, \"header\": {\"fill\": {\"color\": \"#C8D4E3\"}, \"line\": {\"color\": \"white\"}}, \"type\": \"table\"}]}, \"layout\": {\"annotationdefaults\": {\"arrowcolor\": \"#2a3f5f\", \"arrowhead\": 0, \"arrowwidth\": 1}, \"coloraxis\": {\"colorbar\": {\"outlinewidth\": 0, \"ticks\": \"\"}}, \"colorscale\": {\"diverging\": [[0, \"#8e0152\"], [0.1, \"#c51b7d\"], [0.2, \"#de77ae\"], [0.3, \"#f1b6da\"], [0.4, \"#fde0ef\"], [0.5, \"#f7f7f7\"], [0.6, \"#e6f5d0\"], [0.7, \"#b8e186\"], [0.8, \"#7fbc41\"], [0.9, \"#4d9221\"], [1, \"#276419\"]], \"sequential\": [[0.0, \"#0d0887\"], [0.1111111111111111, \"#46039f\"], [0.2222222222222222, \"#7201a8\"], [0.3333333333333333, \"#9c179e\"], [0.4444444444444444, \"#bd3786\"], [0.5555555555555556, \"#d8576b\"], [0.6666666666666666, \"#ed7953\"], [0.7777777777777778, \"#fb9f3a\"], [0.8888888888888888, \"#fdca26\"], [1.0, \"#f0f921\"]], \"sequentialminus\": [[0.0, \"#0d0887\"], [0.1111111111111111, \"#46039f\"], [0.2222222222222222, \"#7201a8\"], [0.3333333333333333, \"#9c179e\"], [0.4444444444444444, \"#bd3786\"], [0.5555555555555556, \"#d8576b\"], [0.6666666666666666, \"#ed7953\"], [0.7777777777777778, \"#fb9f3a\"], [0.8888888888888888, \"#fdca26\"], [1.0, \"#f0f921\"]]}, \"colorway\": [\"#636efa\", \"#EF553B\", \"#00cc96\", \"#ab63fa\", \"#FFA15A\", \"#19d3f3\", \"#FF6692\", \"#B6E880\", \"#FF97FF\", \"#FECB52\"], \"font\": {\"color\": \"#2a3f5f\"}, \"geo\": {\"bgcolor\": \"white\", \"lakecolor\": \"white\", \"landcolor\": \"#E5ECF6\", \"showlakes\": true, \"showland\": true, \"subunitcolor\": \"white\"}, \"hoverlabel\": {\"align\": \"left\"}, \"hovermode\": \"closest\", \"mapbox\": {\"style\": \"light\"}, \"paper_bgcolor\": \"white\", \"plot_bgcolor\": \"#E5ECF6\", \"polar\": {\"angularaxis\": {\"gridcolor\": \"white\", \"linecolor\": \"white\", \"ticks\": \"\"}, \"bgcolor\": \"#E5ECF6\", \"radialaxis\": {\"gridcolor\": \"white\", \"linecolor\": \"white\", \"ticks\": \"\"}}, \"scene\": {\"xaxis\": {\"backgroundcolor\": \"#E5ECF6\", \"gridcolor\": \"white\", \"gridwidth\": 2, \"linecolor\": \"white\", \"showbackground\": true, \"ticks\": \"\", \"zerolinecolor\": \"white\"}, \"yaxis\": {\"backgroundcolor\": \"#E5ECF6\", \"gridcolor\": \"white\", \"gridwidth\": 2, \"linecolor\": \"white\", \"showbackground\": true, \"ticks\": \"\", \"zerolinecolor\": \"white\"}, \"zaxis\": {\"backgroundcolor\": \"#E5ECF6\", \"gridcolor\": \"white\", \"gridwidth\": 2, \"linecolor\": \"white\", \"showbackground\": true, \"ticks\": \"\", \"zerolinecolor\": \"white\"}}, \"shapedefaults\": {\"line\": {\"color\": \"#2a3f5f\"}}, \"ternary\": {\"aaxis\": {\"gridcolor\": \"white\", \"linecolor\": \"white\", \"ticks\": \"\"}, \"baxis\": {\"gridcolor\": \"white\", \"linecolor\": \"white\", \"ticks\": \"\"}, \"bgcolor\": \"#E5ECF6\", \"caxis\": {\"gridcolor\": \"white\", \"linecolor\": \"white\", \"ticks\": \"\"}}, \"title\": {\"x\": 0.05}, \"xaxis\": {\"automargin\": true, \"gridcolor\": \"white\", \"linecolor\": \"white\", \"ticks\": \"\", \"title\": {\"standoff\": 15}, \"zerolinecolor\": \"white\", \"zerolinewidth\": 2}, \"yaxis\": {\"automargin\": true, \"gridcolor\": \"white\", \"linecolor\": \"white\", \"ticks\": \"\", \"title\": {\"standoff\": 15}, \"zerolinecolor\": \"white\", \"zerolinewidth\": 2}}}, \"title\": {\"font\": {\"family\": \"Roboto\"}, \"text\": \"time breakdown\"}, \"width\": 900, \"xaxis\": {\"anchor\": \"y\", \"domain\": [0.0, 1.0], \"showgrid\": false, \"showline\": false, \"title\": {\"text\": \"pickup_time\"}}, \"yaxis\": {\"anchor\": \"x\", \"domain\": [0.0, 1.0], \"showgrid\": false, \"showline\": false, \"title\": {\"text\": \"hour\"}}},                        {\"responsive\": true}                    ).then(function(){\n",
       "                            \n",
       "var gd = document.getElementById('da9ac745-b2f6-4003-9b39-154e70709dfc');\n",
       "var x = new MutationObserver(function (mutations, observer) {{\n",
       "        var display = window.getComputedStyle(gd).display;\n",
       "        if (!display || display === 'none') {{\n",
       "            console.log([gd, 'removed!']);\n",
       "            Plotly.purge(gd);\n",
       "            observer.disconnect();\n",
       "        }}\n",
       "}});\n",
       "\n",
       "// Listen for the removal of the full notebook cells\n",
       "var notebookContainer = gd.closest('#notebook-container');\n",
       "if (notebookContainer) {{\n",
       "    x.observe(notebookContainer, {childList: true});\n",
       "}}\n",
       "\n",
       "// Listen for the clearing of the current output cell\n",
       "var outputEl = gd.closest('.output');\n",
       "if (outputEl) {{\n",
       "    x.observe(outputEl, {childList: true});\n",
       "}}\n",
       "\n",
       "                        })                };                });            </script>        </div>"
      ]
     },
     "metadata": {},
     "output_type": "display_data"
    }
   ],
   "source": [
    "fig = px.bar(time, x=\"pickup_time\", y=\"hour\", color='day_of_week', orientation='h',height=400,width=900,\n",
    "             color_discrete_map={'Sunday':'#CDF0EA', 'Monday':'#F9CF93', 'Tuesday':'#ADC2A9','Wednesday':'#FEF5ED',\n",
    "                                 'Thursday':'#C7B198', 'Friday':'#D3E4CD', 'Saturday':'#898B8A'})#949db9\n",
    "\n",
    "\n",
    "fig.update_layout(hovermode = 'x', yaxis=dict(showgrid=False,showline=False,), xaxis=dict(showgrid=False,showline=False,),\n",
    "                  title=\"time breakdown\", font=dict(size = 10, color = 'white'), \n",
    "                  plot_bgcolor='black', paper_bgcolor='black',font_family=\"Roboto\", title_font_family=\"Roboto\") \n",
    "fig.show()"
   ]
  },
  {
   "cell_type": "markdown",
   "id": "48d4851f",
   "metadata": {},
   "source": [
    "## 2020 Vs 2017 "
   ]
  },
  {
   "cell_type": "code",
   "execution_count": 58,
   "id": "551aa818",
   "metadata": {},
   "outputs": [
    {
     "data": {
      "text/html": [
       "<div>\n",
       "<style scoped>\n",
       "    .dataframe tbody tr th:only-of-type {\n",
       "        vertical-align: middle;\n",
       "    }\n",
       "\n",
       "    .dataframe tbody tr th {\n",
       "        vertical-align: top;\n",
       "    }\n",
       "\n",
       "    .dataframe thead th {\n",
       "        text-align: right;\n",
       "    }\n",
       "</style>\n",
       "<table border=\"1\" class=\"dataframe\">\n",
       "  <thead>\n",
       "    <tr style=\"text-align: right;\">\n",
       "      <th>year</th>\n",
       "      <th>week</th>\n",
       "      <th>Y2017</th>\n",
       "      <th>Y2018</th>\n",
       "      <th>Y2019</th>\n",
       "      <th>Y2020</th>\n",
       "    </tr>\n",
       "  </thead>\n",
       "  <tbody>\n",
       "    <tr>\n",
       "      <th>0</th>\n",
       "      <td>01</td>\n",
       "      <td>2318619.435</td>\n",
       "      <td>1936238.625</td>\n",
       "      <td>1543389.770</td>\n",
       "      <td>525922.550</td>\n",
       "    </tr>\n",
       "    <tr>\n",
       "      <th>1</th>\n",
       "      <td>02</td>\n",
       "      <td>2683086.050</td>\n",
       "      <td>2173906.900</td>\n",
       "      <td>1674619.575</td>\n",
       "      <td>850166.145</td>\n",
       "    </tr>\n",
       "  </tbody>\n",
       "</table>\n",
       "</div>"
      ],
      "text/plain": [
       "year week        Y2017        Y2018        Y2019       Y2020\n",
       "0      01  2318619.435  1936238.625  1543389.770  525922.550\n",
       "1      02  2683086.050  2173906.900  1674619.575  850166.145"
      ]
     },
     "execution_count": 58,
     "metadata": {},
     "output_type": "execute_result"
    }
   ],
   "source": [
    "df_scatter = trips.pivot_table(index='week',columns='year',values='fare_amount',aggfunc='sum')\n",
    "df_scatter.columns = 'Y'+ df_scatter.columns.astype(str)\n",
    "df_scatter = df_scatter.reset_index()\n",
    "df_scatter.head(2)"
   ]
  },
  {
   "cell_type": "code",
   "execution_count": 118,
   "id": "368f7c1b",
   "metadata": {
    "scrolled": true
   },
   "outputs": [
    {
     "data": {
      "application/vnd.plotly.v1+json": {
       "config": {
        "plotlyServerURL": "https://plot.ly"
       },
       "data": [
        {
         "marker": {
          "color": "rgba(156, 165, 196, 0.95)",
          "line": {
           "color": "rgba(156, 165, 196, 1.0)",
           "width": 1
          },
          "size": 16,
          "symbol": "circle"
         },
         "mode": "markers",
         "name": "2020",
         "type": "scatter",
         "x": [
          "01",
          "02",
          "03",
          "04",
          "05",
          "06",
          "07",
          "08",
          "09",
          "10",
          "11",
          "12",
          "13",
          "14",
          "15",
          "16",
          "17",
          "18",
          "19",
          "20",
          "21",
          "22",
          "23",
          "24",
          "25",
          "26",
          "27",
          "28",
          "29",
          "30",
          "31",
          "32",
          "33",
          "34",
          "35",
          "36",
          "37",
          "38",
          "39",
          "40",
          "41",
          "42",
          "43",
          "44",
          "45",
          "46",
          "47",
          "48",
          "49",
          "50",
          "51",
          "52",
          "53"
         ],
         "y": [
          525922.5499999989,
          850166.1450000096,
          860030.8850000188,
          843071.6050000177,
          875089.610000017,
          871563.8700000145,
          862583.2400000105,
          803909.5650000091,
          892201.1050000109,
          852404.2150000121,
          642315.2050000059,
          269863.6149999993,
          101683.5300000001,
          85320.42000000009,
          71087.61500000003,
          69868.31500000003,
          70246.66000000005,
          78886.79500000004,
          83912.90500000006,
          86156.03,
          95876.06500000003,
          99313.15500000003,
          109652.30500000008,
          113562.04999999997,
          112903.81500000005,
          126975.51500000004,
          121855.87000000008,
          124146.59000000005,
          129448.15500000006,
          133758.92000000016,
          145555.60999999996,
          149719.77000000063,
          141847.02000000014,
          146864.69000000024,
          140364.12500000017,
          143797.4750000002,
          147883.7100000002,
          152762.40500000052,
          151037.27000000028,
          151581.89500000037,
          147794.19000000015,
          149321.88000000012,
          151274.0300000005,
          151184.41500000044,
          150038.52500000037,
          147046.05500000005,
          151897.19000000038,
          128630.075,
          144983.36000000004,
          147416.02500000002,
          127124.82,
          124698.88500000004,
          57539.63499999998
         ]
        },
        {
         "marker": {
          "color": "rgba(204, 204, 204, 0.95)",
          "line": {
           "color": "rgba(217, 217, 217, 1.0)",
           "width": 1
          },
          "size": 16,
          "symbol": "circle"
         },
         "mode": "markers",
         "name": "2017",
         "type": "scatter",
         "x": [
          "01",
          "02",
          "03",
          "04",
          "05",
          "06",
          "07",
          "08",
          "09",
          "10",
          "11",
          "12",
          "13",
          "14",
          "15",
          "16",
          "17",
          "18",
          "19",
          "20",
          "21",
          "22",
          "23",
          "24",
          "25",
          "26",
          "27",
          "28",
          "29",
          "30",
          "31",
          "32",
          "33",
          "34",
          "35",
          "36",
          "37",
          "38",
          "39",
          "40",
          "41",
          "42",
          "43",
          "44",
          "45",
          "46",
          "47",
          "48",
          "49",
          "50",
          "51",
          "52",
          "53"
         ],
         "y": [
          2318619.435,
          2683086.05,
          2527038.1499999994,
          2715248.5149999997,
          2783300.55,
          2564488.05,
          2862056.2249999996,
          2764350.525,
          2912158.1849999996,
          2844690.575,
          2752759.075,
          2793956.7749999994,
          2799937.025,
          2880164.575,
          2608509.75,
          2757630.7249999996,
          2796951.1500000004,
          2777514.4,
          2752924.2749999994,
          2911150.6499999994,
          2553209.535,
          2557058.895,
          2625682.79,
          2583910.325,
          2485636.0149999997,
          2397053.5500000003,
          2198320.3499999996,
          2390760.5999999996,
          2407257.1999999997,
          2335990.425,
          2271360.61,
          2221988.775,
          2199402.575,
          2187788.75,
          2127988.8,
          2445940.075,
          2440242.4749999996,
          2353682.45,
          2451356.2999999993,
          2407431.4849999994,
          2383963.6999999997,
          2442513.2749999994,
          2478001.575,
          2456680.5,
          2394642.3,
          2443033.85,
          2060451.125,
          2363605.9749999996,
          2371518.95,
          2538394.375,
          2340281.1,
          2311350.74,
          null
         ]
        }
       ],
       "layout": {
        "font": {
         "family": "Roboto"
        },
        "height": 250,
        "hovermode": "closest",
        "legend": {
         "font": {
          "size": 10
         },
         "xanchor": "right",
         "yanchor": "middle"
        },
        "margin": {
         "b": 50,
         "l": 140,
         "r": 40,
         "t": 80
        },
        "paper_bgcolor": "black",
        "plot_bgcolor": "black",
        "template": {
         "data": {
          "bar": [
           {
            "error_x": {
             "color": "#2a3f5f"
            },
            "error_y": {
             "color": "#2a3f5f"
            },
            "marker": {
             "line": {
              "color": "#E5ECF6",
              "width": 0.5
             }
            },
            "type": "bar"
           }
          ],
          "barpolar": [
           {
            "marker": {
             "line": {
              "color": "#E5ECF6",
              "width": 0.5
             }
            },
            "type": "barpolar"
           }
          ],
          "carpet": [
           {
            "aaxis": {
             "endlinecolor": "#2a3f5f",
             "gridcolor": "white",
             "linecolor": "white",
             "minorgridcolor": "white",
             "startlinecolor": "#2a3f5f"
            },
            "baxis": {
             "endlinecolor": "#2a3f5f",
             "gridcolor": "white",
             "linecolor": "white",
             "minorgridcolor": "white",
             "startlinecolor": "#2a3f5f"
            },
            "type": "carpet"
           }
          ],
          "choropleth": [
           {
            "colorbar": {
             "outlinewidth": 0,
             "ticks": ""
            },
            "type": "choropleth"
           }
          ],
          "contour": [
           {
            "colorbar": {
             "outlinewidth": 0,
             "ticks": ""
            },
            "colorscale": [
             [
              0,
              "#0d0887"
             ],
             [
              0.1111111111111111,
              "#46039f"
             ],
             [
              0.2222222222222222,
              "#7201a8"
             ],
             [
              0.3333333333333333,
              "#9c179e"
             ],
             [
              0.4444444444444444,
              "#bd3786"
             ],
             [
              0.5555555555555556,
              "#d8576b"
             ],
             [
              0.6666666666666666,
              "#ed7953"
             ],
             [
              0.7777777777777778,
              "#fb9f3a"
             ],
             [
              0.8888888888888888,
              "#fdca26"
             ],
             [
              1,
              "#f0f921"
             ]
            ],
            "type": "contour"
           }
          ],
          "contourcarpet": [
           {
            "colorbar": {
             "outlinewidth": 0,
             "ticks": ""
            },
            "type": "contourcarpet"
           }
          ],
          "heatmap": [
           {
            "colorbar": {
             "outlinewidth": 0,
             "ticks": ""
            },
            "colorscale": [
             [
              0,
              "#0d0887"
             ],
             [
              0.1111111111111111,
              "#46039f"
             ],
             [
              0.2222222222222222,
              "#7201a8"
             ],
             [
              0.3333333333333333,
              "#9c179e"
             ],
             [
              0.4444444444444444,
              "#bd3786"
             ],
             [
              0.5555555555555556,
              "#d8576b"
             ],
             [
              0.6666666666666666,
              "#ed7953"
             ],
             [
              0.7777777777777778,
              "#fb9f3a"
             ],
             [
              0.8888888888888888,
              "#fdca26"
             ],
             [
              1,
              "#f0f921"
             ]
            ],
            "type": "heatmap"
           }
          ],
          "heatmapgl": [
           {
            "colorbar": {
             "outlinewidth": 0,
             "ticks": ""
            },
            "colorscale": [
             [
              0,
              "#0d0887"
             ],
             [
              0.1111111111111111,
              "#46039f"
             ],
             [
              0.2222222222222222,
              "#7201a8"
             ],
             [
              0.3333333333333333,
              "#9c179e"
             ],
             [
              0.4444444444444444,
              "#bd3786"
             ],
             [
              0.5555555555555556,
              "#d8576b"
             ],
             [
              0.6666666666666666,
              "#ed7953"
             ],
             [
              0.7777777777777778,
              "#fb9f3a"
             ],
             [
              0.8888888888888888,
              "#fdca26"
             ],
             [
              1,
              "#f0f921"
             ]
            ],
            "type": "heatmapgl"
           }
          ],
          "histogram": [
           {
            "marker": {
             "colorbar": {
              "outlinewidth": 0,
              "ticks": ""
             }
            },
            "type": "histogram"
           }
          ],
          "histogram2d": [
           {
            "colorbar": {
             "outlinewidth": 0,
             "ticks": ""
            },
            "colorscale": [
             [
              0,
              "#0d0887"
             ],
             [
              0.1111111111111111,
              "#46039f"
             ],
             [
              0.2222222222222222,
              "#7201a8"
             ],
             [
              0.3333333333333333,
              "#9c179e"
             ],
             [
              0.4444444444444444,
              "#bd3786"
             ],
             [
              0.5555555555555556,
              "#d8576b"
             ],
             [
              0.6666666666666666,
              "#ed7953"
             ],
             [
              0.7777777777777778,
              "#fb9f3a"
             ],
             [
              0.8888888888888888,
              "#fdca26"
             ],
             [
              1,
              "#f0f921"
             ]
            ],
            "type": "histogram2d"
           }
          ],
          "histogram2dcontour": [
           {
            "colorbar": {
             "outlinewidth": 0,
             "ticks": ""
            },
            "colorscale": [
             [
              0,
              "#0d0887"
             ],
             [
              0.1111111111111111,
              "#46039f"
             ],
             [
              0.2222222222222222,
              "#7201a8"
             ],
             [
              0.3333333333333333,
              "#9c179e"
             ],
             [
              0.4444444444444444,
              "#bd3786"
             ],
             [
              0.5555555555555556,
              "#d8576b"
             ],
             [
              0.6666666666666666,
              "#ed7953"
             ],
             [
              0.7777777777777778,
              "#fb9f3a"
             ],
             [
              0.8888888888888888,
              "#fdca26"
             ],
             [
              1,
              "#f0f921"
             ]
            ],
            "type": "histogram2dcontour"
           }
          ],
          "mesh3d": [
           {
            "colorbar": {
             "outlinewidth": 0,
             "ticks": ""
            },
            "type": "mesh3d"
           }
          ],
          "parcoords": [
           {
            "line": {
             "colorbar": {
              "outlinewidth": 0,
              "ticks": ""
             }
            },
            "type": "parcoords"
           }
          ],
          "pie": [
           {
            "automargin": true,
            "type": "pie"
           }
          ],
          "scatter": [
           {
            "marker": {
             "colorbar": {
              "outlinewidth": 0,
              "ticks": ""
             }
            },
            "type": "scatter"
           }
          ],
          "scatter3d": [
           {
            "line": {
             "colorbar": {
              "outlinewidth": 0,
              "ticks": ""
             }
            },
            "marker": {
             "colorbar": {
              "outlinewidth": 0,
              "ticks": ""
             }
            },
            "type": "scatter3d"
           }
          ],
          "scattercarpet": [
           {
            "marker": {
             "colorbar": {
              "outlinewidth": 0,
              "ticks": ""
             }
            },
            "type": "scattercarpet"
           }
          ],
          "scattergeo": [
           {
            "marker": {
             "colorbar": {
              "outlinewidth": 0,
              "ticks": ""
             }
            },
            "type": "scattergeo"
           }
          ],
          "scattergl": [
           {
            "marker": {
             "colorbar": {
              "outlinewidth": 0,
              "ticks": ""
             }
            },
            "type": "scattergl"
           }
          ],
          "scattermapbox": [
           {
            "marker": {
             "colorbar": {
              "outlinewidth": 0,
              "ticks": ""
             }
            },
            "type": "scattermapbox"
           }
          ],
          "scatterpolar": [
           {
            "marker": {
             "colorbar": {
              "outlinewidth": 0,
              "ticks": ""
             }
            },
            "type": "scatterpolar"
           }
          ],
          "scatterpolargl": [
           {
            "marker": {
             "colorbar": {
              "outlinewidth": 0,
              "ticks": ""
             }
            },
            "type": "scatterpolargl"
           }
          ],
          "scatterternary": [
           {
            "marker": {
             "colorbar": {
              "outlinewidth": 0,
              "ticks": ""
             }
            },
            "type": "scatterternary"
           }
          ],
          "surface": [
           {
            "colorbar": {
             "outlinewidth": 0,
             "ticks": ""
            },
            "colorscale": [
             [
              0,
              "#0d0887"
             ],
             [
              0.1111111111111111,
              "#46039f"
             ],
             [
              0.2222222222222222,
              "#7201a8"
             ],
             [
              0.3333333333333333,
              "#9c179e"
             ],
             [
              0.4444444444444444,
              "#bd3786"
             ],
             [
              0.5555555555555556,
              "#d8576b"
             ],
             [
              0.6666666666666666,
              "#ed7953"
             ],
             [
              0.7777777777777778,
              "#fb9f3a"
             ],
             [
              0.8888888888888888,
              "#fdca26"
             ],
             [
              1,
              "#f0f921"
             ]
            ],
            "type": "surface"
           }
          ],
          "table": [
           {
            "cells": {
             "fill": {
              "color": "#EBF0F8"
             },
             "line": {
              "color": "white"
             }
            },
            "header": {
             "fill": {
              "color": "#C8D4E3"
             },
             "line": {
              "color": "white"
             }
            },
            "type": "table"
           }
          ]
         },
         "layout": {
          "annotationdefaults": {
           "arrowcolor": "#2a3f5f",
           "arrowhead": 0,
           "arrowwidth": 1
          },
          "coloraxis": {
           "colorbar": {
            "outlinewidth": 0,
            "ticks": ""
           }
          },
          "colorscale": {
           "diverging": [
            [
             0,
             "#8e0152"
            ],
            [
             0.1,
             "#c51b7d"
            ],
            [
             0.2,
             "#de77ae"
            ],
            [
             0.3,
             "#f1b6da"
            ],
            [
             0.4,
             "#fde0ef"
            ],
            [
             0.5,
             "#f7f7f7"
            ],
            [
             0.6,
             "#e6f5d0"
            ],
            [
             0.7,
             "#b8e186"
            ],
            [
             0.8,
             "#7fbc41"
            ],
            [
             0.9,
             "#4d9221"
            ],
            [
             1,
             "#276419"
            ]
           ],
           "sequential": [
            [
             0,
             "#0d0887"
            ],
            [
             0.1111111111111111,
             "#46039f"
            ],
            [
             0.2222222222222222,
             "#7201a8"
            ],
            [
             0.3333333333333333,
             "#9c179e"
            ],
            [
             0.4444444444444444,
             "#bd3786"
            ],
            [
             0.5555555555555556,
             "#d8576b"
            ],
            [
             0.6666666666666666,
             "#ed7953"
            ],
            [
             0.7777777777777778,
             "#fb9f3a"
            ],
            [
             0.8888888888888888,
             "#fdca26"
            ],
            [
             1,
             "#f0f921"
            ]
           ],
           "sequentialminus": [
            [
             0,
             "#0d0887"
            ],
            [
             0.1111111111111111,
             "#46039f"
            ],
            [
             0.2222222222222222,
             "#7201a8"
            ],
            [
             0.3333333333333333,
             "#9c179e"
            ],
            [
             0.4444444444444444,
             "#bd3786"
            ],
            [
             0.5555555555555556,
             "#d8576b"
            ],
            [
             0.6666666666666666,
             "#ed7953"
            ],
            [
             0.7777777777777778,
             "#fb9f3a"
            ],
            [
             0.8888888888888888,
             "#fdca26"
            ],
            [
             1,
             "#f0f921"
            ]
           ]
          },
          "colorway": [
           "#636efa",
           "#EF553B",
           "#00cc96",
           "#ab63fa",
           "#FFA15A",
           "#19d3f3",
           "#FF6692",
           "#B6E880",
           "#FF97FF",
           "#FECB52"
          ],
          "font": {
           "color": "#2a3f5f"
          },
          "geo": {
           "bgcolor": "white",
           "lakecolor": "white",
           "landcolor": "#E5ECF6",
           "showlakes": true,
           "showland": true,
           "subunitcolor": "white"
          },
          "hoverlabel": {
           "align": "left"
          },
          "hovermode": "closest",
          "mapbox": {
           "style": "light"
          },
          "paper_bgcolor": "white",
          "plot_bgcolor": "#E5ECF6",
          "polar": {
           "angularaxis": {
            "gridcolor": "white",
            "linecolor": "white",
            "ticks": ""
           },
           "bgcolor": "#E5ECF6",
           "radialaxis": {
            "gridcolor": "white",
            "linecolor": "white",
            "ticks": ""
           }
          },
          "scene": {
           "xaxis": {
            "backgroundcolor": "#E5ECF6",
            "gridcolor": "white",
            "gridwidth": 2,
            "linecolor": "white",
            "showbackground": true,
            "ticks": "",
            "zerolinecolor": "white"
           },
           "yaxis": {
            "backgroundcolor": "#E5ECF6",
            "gridcolor": "white",
            "gridwidth": 2,
            "linecolor": "white",
            "showbackground": true,
            "ticks": "",
            "zerolinecolor": "white"
           },
           "zaxis": {
            "backgroundcolor": "#E5ECF6",
            "gridcolor": "white",
            "gridwidth": 2,
            "linecolor": "white",
            "showbackground": true,
            "ticks": "",
            "zerolinecolor": "white"
           }
          },
          "shapedefaults": {
           "line": {
            "color": "#2a3f5f"
           }
          },
          "ternary": {
           "aaxis": {
            "gridcolor": "white",
            "linecolor": "white",
            "ticks": ""
           },
           "baxis": {
            "gridcolor": "white",
            "linecolor": "white",
            "ticks": ""
           },
           "bgcolor": "#E5ECF6",
           "caxis": {
            "gridcolor": "white",
            "linecolor": "white",
            "ticks": ""
           }
          },
          "title": {
           "x": 0.05
          },
          "xaxis": {
           "automargin": true,
           "gridcolor": "white",
           "linecolor": "white",
           "ticks": "",
           "title": {
            "standoff": 15
           },
           "zerolinecolor": "white",
           "zerolinewidth": 2
          },
          "yaxis": {
           "automargin": true,
           "gridcolor": "white",
           "linecolor": "white",
           "ticks": "",
           "title": {
            "standoff": 15
           },
           "zerolinecolor": "white",
           "zerolinewidth": 2
          }
         }
        },
        "title": {
         "font": {
          "family": "Roboto"
         },
         "text": "2017 Vs 2020"
        },
        "width": 1000,
        "xaxis": {
         "dtick": 10,
         "linecolor": "black",
         "showgrid": false,
         "showline": false,
         "showticklabels": false,
         "tickcolor": "black",
         "tickfont": {
          "color": "black"
         },
         "ticks": "outside"
        },
        "yaxis": {
         "showgrid": false,
         "showline": false
        }
       }
      },
      "text/html": [
       "<div>                            <div id=\"b66d5cc1-86e9-4f52-9978-ca963a547d0a\" class=\"plotly-graph-div\" style=\"height:250px; width:1000px;\"></div>            <script type=\"text/javascript\">                require([\"plotly\"], function(Plotly) {                    window.PLOTLYENV=window.PLOTLYENV || {};                                    if (document.getElementById(\"b66d5cc1-86e9-4f52-9978-ca963a547d0a\")) {                    Plotly.newPlot(                        \"b66d5cc1-86e9-4f52-9978-ca963a547d0a\",                        [{\"marker\": {\"color\": \"rgba(156, 165, 196, 0.95)\", \"line\": {\"color\": \"rgba(156, 165, 196, 1.0)\", \"width\": 1}, \"size\": 16, \"symbol\": \"circle\"}, \"mode\": \"markers\", \"name\": \"2020\", \"type\": \"scatter\", \"x\": [\"01\", \"02\", \"03\", \"04\", \"05\", \"06\", \"07\", \"08\", \"09\", \"10\", \"11\", \"12\", \"13\", \"14\", \"15\", \"16\", \"17\", \"18\", \"19\", \"20\", \"21\", \"22\", \"23\", \"24\", \"25\", \"26\", \"27\", \"28\", \"29\", \"30\", \"31\", \"32\", \"33\", \"34\", \"35\", \"36\", \"37\", \"38\", \"39\", \"40\", \"41\", \"42\", \"43\", \"44\", \"45\", \"46\", \"47\", \"48\", \"49\", \"50\", \"51\", \"52\", \"53\"], \"y\": [525922.5499999989, 850166.1450000096, 860030.8850000188, 843071.6050000177, 875089.610000017, 871563.8700000145, 862583.2400000105, 803909.5650000091, 892201.1050000109, 852404.2150000121, 642315.2050000059, 269863.6149999993, 101683.5300000001, 85320.42000000009, 71087.61500000003, 69868.31500000003, 70246.66000000005, 78886.79500000004, 83912.90500000006, 86156.03, 95876.06500000003, 99313.15500000003, 109652.30500000008, 113562.04999999997, 112903.81500000005, 126975.51500000004, 121855.87000000008, 124146.59000000005, 129448.15500000006, 133758.92000000016, 145555.60999999996, 149719.77000000063, 141847.02000000014, 146864.69000000024, 140364.12500000017, 143797.4750000002, 147883.7100000002, 152762.40500000052, 151037.27000000028, 151581.89500000037, 147794.19000000015, 149321.88000000012, 151274.0300000005, 151184.41500000044, 150038.52500000037, 147046.05500000005, 151897.19000000038, 128630.075, 144983.36000000004, 147416.02500000002, 127124.82, 124698.88500000004, 57539.63499999998]}, {\"marker\": {\"color\": \"rgba(204, 204, 204, 0.95)\", \"line\": {\"color\": \"rgba(217, 217, 217, 1.0)\", \"width\": 1}, \"size\": 16, \"symbol\": \"circle\"}, \"mode\": \"markers\", \"name\": \"2017\", \"type\": \"scatter\", \"x\": [\"01\", \"02\", \"03\", \"04\", \"05\", \"06\", \"07\", \"08\", \"09\", \"10\", \"11\", \"12\", \"13\", \"14\", \"15\", \"16\", \"17\", \"18\", \"19\", \"20\", \"21\", \"22\", \"23\", \"24\", \"25\", \"26\", \"27\", \"28\", \"29\", \"30\", \"31\", \"32\", \"33\", \"34\", \"35\", \"36\", \"37\", \"38\", \"39\", \"40\", \"41\", \"42\", \"43\", \"44\", \"45\", \"46\", \"47\", \"48\", \"49\", \"50\", \"51\", \"52\", \"53\"], \"y\": [2318619.435, 2683086.05, 2527038.1499999994, 2715248.5149999997, 2783300.55, 2564488.05, 2862056.2249999996, 2764350.525, 2912158.1849999996, 2844690.575, 2752759.075, 2793956.7749999994, 2799937.025, 2880164.575, 2608509.75, 2757630.7249999996, 2796951.1500000004, 2777514.4, 2752924.2749999994, 2911150.6499999994, 2553209.535, 2557058.895, 2625682.79, 2583910.325, 2485636.0149999997, 2397053.5500000003, 2198320.3499999996, 2390760.5999999996, 2407257.1999999997, 2335990.425, 2271360.61, 2221988.775, 2199402.575, 2187788.75, 2127988.8, 2445940.075, 2440242.4749999996, 2353682.45, 2451356.2999999993, 2407431.4849999994, 2383963.6999999997, 2442513.2749999994, 2478001.575, 2456680.5, 2394642.3, 2443033.85, 2060451.125, 2363605.9749999996, 2371518.95, 2538394.375, 2340281.1, 2311350.74, null]}],                        {\"font\": {\"family\": \"Roboto\"}, \"height\": 250, \"hovermode\": \"closest\", \"legend\": {\"font\": {\"size\": 10}, \"xanchor\": \"right\", \"yanchor\": \"middle\"}, \"margin\": {\"b\": 50, \"l\": 140, \"r\": 40, \"t\": 80}, \"paper_bgcolor\": \"black\", \"plot_bgcolor\": \"black\", \"template\": {\"data\": {\"bar\": [{\"error_x\": {\"color\": \"#2a3f5f\"}, \"error_y\": {\"color\": \"#2a3f5f\"}, \"marker\": {\"line\": {\"color\": \"#E5ECF6\", \"width\": 0.5}}, \"type\": \"bar\"}], \"barpolar\": [{\"marker\": {\"line\": {\"color\": \"#E5ECF6\", \"width\": 0.5}}, \"type\": \"barpolar\"}], \"carpet\": [{\"aaxis\": {\"endlinecolor\": \"#2a3f5f\", \"gridcolor\": \"white\", \"linecolor\": \"white\", \"minorgridcolor\": \"white\", \"startlinecolor\": \"#2a3f5f\"}, \"baxis\": {\"endlinecolor\": \"#2a3f5f\", \"gridcolor\": \"white\", \"linecolor\": \"white\", \"minorgridcolor\": \"white\", \"startlinecolor\": \"#2a3f5f\"}, \"type\": \"carpet\"}], \"choropleth\": [{\"colorbar\": {\"outlinewidth\": 0, \"ticks\": \"\"}, \"type\": \"choropleth\"}], \"contour\": [{\"colorbar\": {\"outlinewidth\": 0, \"ticks\": \"\"}, \"colorscale\": [[0.0, \"#0d0887\"], [0.1111111111111111, \"#46039f\"], [0.2222222222222222, \"#7201a8\"], [0.3333333333333333, \"#9c179e\"], [0.4444444444444444, \"#bd3786\"], [0.5555555555555556, \"#d8576b\"], [0.6666666666666666, \"#ed7953\"], [0.7777777777777778, \"#fb9f3a\"], [0.8888888888888888, \"#fdca26\"], [1.0, \"#f0f921\"]], \"type\": \"contour\"}], \"contourcarpet\": [{\"colorbar\": {\"outlinewidth\": 0, \"ticks\": \"\"}, \"type\": \"contourcarpet\"}], \"heatmap\": [{\"colorbar\": {\"outlinewidth\": 0, \"ticks\": \"\"}, \"colorscale\": [[0.0, \"#0d0887\"], [0.1111111111111111, \"#46039f\"], [0.2222222222222222, \"#7201a8\"], [0.3333333333333333, \"#9c179e\"], [0.4444444444444444, \"#bd3786\"], [0.5555555555555556, \"#d8576b\"], [0.6666666666666666, \"#ed7953\"], [0.7777777777777778, \"#fb9f3a\"], [0.8888888888888888, \"#fdca26\"], [1.0, \"#f0f921\"]], \"type\": \"heatmap\"}], \"heatmapgl\": [{\"colorbar\": {\"outlinewidth\": 0, \"ticks\": \"\"}, \"colorscale\": [[0.0, \"#0d0887\"], [0.1111111111111111, \"#46039f\"], [0.2222222222222222, \"#7201a8\"], [0.3333333333333333, \"#9c179e\"], [0.4444444444444444, \"#bd3786\"], [0.5555555555555556, \"#d8576b\"], [0.6666666666666666, \"#ed7953\"], [0.7777777777777778, \"#fb9f3a\"], [0.8888888888888888, \"#fdca26\"], [1.0, \"#f0f921\"]], \"type\": \"heatmapgl\"}], \"histogram\": [{\"marker\": {\"colorbar\": {\"outlinewidth\": 0, \"ticks\": \"\"}}, \"type\": \"histogram\"}], \"histogram2d\": [{\"colorbar\": {\"outlinewidth\": 0, \"ticks\": \"\"}, \"colorscale\": [[0.0, \"#0d0887\"], [0.1111111111111111, \"#46039f\"], [0.2222222222222222, \"#7201a8\"], [0.3333333333333333, \"#9c179e\"], [0.4444444444444444, \"#bd3786\"], [0.5555555555555556, \"#d8576b\"], [0.6666666666666666, \"#ed7953\"], [0.7777777777777778, \"#fb9f3a\"], [0.8888888888888888, \"#fdca26\"], [1.0, \"#f0f921\"]], \"type\": \"histogram2d\"}], \"histogram2dcontour\": [{\"colorbar\": {\"outlinewidth\": 0, \"ticks\": \"\"}, \"colorscale\": [[0.0, \"#0d0887\"], [0.1111111111111111, \"#46039f\"], [0.2222222222222222, \"#7201a8\"], [0.3333333333333333, \"#9c179e\"], [0.4444444444444444, \"#bd3786\"], [0.5555555555555556, \"#d8576b\"], [0.6666666666666666, \"#ed7953\"], [0.7777777777777778, \"#fb9f3a\"], [0.8888888888888888, \"#fdca26\"], [1.0, \"#f0f921\"]], \"type\": \"histogram2dcontour\"}], \"mesh3d\": [{\"colorbar\": {\"outlinewidth\": 0, \"ticks\": \"\"}, \"type\": \"mesh3d\"}], \"parcoords\": [{\"line\": {\"colorbar\": {\"outlinewidth\": 0, \"ticks\": \"\"}}, \"type\": \"parcoords\"}], \"pie\": [{\"automargin\": true, \"type\": \"pie\"}], \"scatter\": [{\"marker\": {\"colorbar\": {\"outlinewidth\": 0, \"ticks\": \"\"}}, \"type\": \"scatter\"}], \"scatter3d\": [{\"line\": {\"colorbar\": {\"outlinewidth\": 0, \"ticks\": \"\"}}, \"marker\": {\"colorbar\": {\"outlinewidth\": 0, \"ticks\": \"\"}}, \"type\": \"scatter3d\"}], \"scattercarpet\": [{\"marker\": {\"colorbar\": {\"outlinewidth\": 0, \"ticks\": \"\"}}, \"type\": \"scattercarpet\"}], \"scattergeo\": [{\"marker\": {\"colorbar\": {\"outlinewidth\": 0, \"ticks\": \"\"}}, \"type\": \"scattergeo\"}], \"scattergl\": [{\"marker\": {\"colorbar\": {\"outlinewidth\": 0, \"ticks\": \"\"}}, \"type\": \"scattergl\"}], \"scattermapbox\": [{\"marker\": {\"colorbar\": {\"outlinewidth\": 0, \"ticks\": \"\"}}, \"type\": \"scattermapbox\"}], \"scatterpolar\": [{\"marker\": {\"colorbar\": {\"outlinewidth\": 0, \"ticks\": \"\"}}, \"type\": \"scatterpolar\"}], \"scatterpolargl\": [{\"marker\": {\"colorbar\": {\"outlinewidth\": 0, \"ticks\": \"\"}}, \"type\": \"scatterpolargl\"}], \"scatterternary\": [{\"marker\": {\"colorbar\": {\"outlinewidth\": 0, \"ticks\": \"\"}}, \"type\": \"scatterternary\"}], \"surface\": [{\"colorbar\": {\"outlinewidth\": 0, \"ticks\": \"\"}, \"colorscale\": [[0.0, \"#0d0887\"], [0.1111111111111111, \"#46039f\"], [0.2222222222222222, \"#7201a8\"], [0.3333333333333333, \"#9c179e\"], [0.4444444444444444, \"#bd3786\"], [0.5555555555555556, \"#d8576b\"], [0.6666666666666666, \"#ed7953\"], [0.7777777777777778, \"#fb9f3a\"], [0.8888888888888888, \"#fdca26\"], [1.0, \"#f0f921\"]], \"type\": \"surface\"}], \"table\": [{\"cells\": {\"fill\": {\"color\": \"#EBF0F8\"}, \"line\": {\"color\": \"white\"}}, \"header\": {\"fill\": {\"color\": \"#C8D4E3\"}, \"line\": {\"color\": \"white\"}}, \"type\": \"table\"}]}, \"layout\": {\"annotationdefaults\": {\"arrowcolor\": \"#2a3f5f\", \"arrowhead\": 0, \"arrowwidth\": 1}, \"coloraxis\": {\"colorbar\": {\"outlinewidth\": 0, \"ticks\": \"\"}}, \"colorscale\": {\"diverging\": [[0, \"#8e0152\"], [0.1, \"#c51b7d\"], [0.2, \"#de77ae\"], [0.3, \"#f1b6da\"], [0.4, \"#fde0ef\"], [0.5, \"#f7f7f7\"], [0.6, \"#e6f5d0\"], [0.7, \"#b8e186\"], [0.8, \"#7fbc41\"], [0.9, \"#4d9221\"], [1, \"#276419\"]], \"sequential\": [[0.0, \"#0d0887\"], [0.1111111111111111, \"#46039f\"], [0.2222222222222222, \"#7201a8\"], [0.3333333333333333, \"#9c179e\"], [0.4444444444444444, \"#bd3786\"], [0.5555555555555556, \"#d8576b\"], [0.6666666666666666, \"#ed7953\"], [0.7777777777777778, \"#fb9f3a\"], [0.8888888888888888, \"#fdca26\"], [1.0, \"#f0f921\"]], \"sequentialminus\": [[0.0, \"#0d0887\"], [0.1111111111111111, \"#46039f\"], [0.2222222222222222, \"#7201a8\"], [0.3333333333333333, \"#9c179e\"], [0.4444444444444444, \"#bd3786\"], [0.5555555555555556, \"#d8576b\"], [0.6666666666666666, \"#ed7953\"], [0.7777777777777778, \"#fb9f3a\"], [0.8888888888888888, \"#fdca26\"], [1.0, \"#f0f921\"]]}, \"colorway\": [\"#636efa\", \"#EF553B\", \"#00cc96\", \"#ab63fa\", \"#FFA15A\", \"#19d3f3\", \"#FF6692\", \"#B6E880\", \"#FF97FF\", \"#FECB52\"], \"font\": {\"color\": \"#2a3f5f\"}, \"geo\": {\"bgcolor\": \"white\", \"lakecolor\": \"white\", \"landcolor\": \"#E5ECF6\", \"showlakes\": true, \"showland\": true, \"subunitcolor\": \"white\"}, \"hoverlabel\": {\"align\": \"left\"}, \"hovermode\": \"closest\", \"mapbox\": {\"style\": \"light\"}, \"paper_bgcolor\": \"white\", \"plot_bgcolor\": \"#E5ECF6\", \"polar\": {\"angularaxis\": {\"gridcolor\": \"white\", \"linecolor\": \"white\", \"ticks\": \"\"}, \"bgcolor\": \"#E5ECF6\", \"radialaxis\": {\"gridcolor\": \"white\", \"linecolor\": \"white\", \"ticks\": \"\"}}, \"scene\": {\"xaxis\": {\"backgroundcolor\": \"#E5ECF6\", \"gridcolor\": \"white\", \"gridwidth\": 2, \"linecolor\": \"white\", \"showbackground\": true, \"ticks\": \"\", \"zerolinecolor\": \"white\"}, \"yaxis\": {\"backgroundcolor\": \"#E5ECF6\", \"gridcolor\": \"white\", \"gridwidth\": 2, \"linecolor\": \"white\", \"showbackground\": true, \"ticks\": \"\", \"zerolinecolor\": \"white\"}, \"zaxis\": {\"backgroundcolor\": \"#E5ECF6\", \"gridcolor\": \"white\", \"gridwidth\": 2, \"linecolor\": \"white\", \"showbackground\": true, \"ticks\": \"\", \"zerolinecolor\": \"white\"}}, \"shapedefaults\": {\"line\": {\"color\": \"#2a3f5f\"}}, \"ternary\": {\"aaxis\": {\"gridcolor\": \"white\", \"linecolor\": \"white\", \"ticks\": \"\"}, \"baxis\": {\"gridcolor\": \"white\", \"linecolor\": \"white\", \"ticks\": \"\"}, \"bgcolor\": \"#E5ECF6\", \"caxis\": {\"gridcolor\": \"white\", \"linecolor\": \"white\", \"ticks\": \"\"}}, \"title\": {\"x\": 0.05}, \"xaxis\": {\"automargin\": true, \"gridcolor\": \"white\", \"linecolor\": \"white\", \"ticks\": \"\", \"title\": {\"standoff\": 15}, \"zerolinecolor\": \"white\", \"zerolinewidth\": 2}, \"yaxis\": {\"automargin\": true, \"gridcolor\": \"white\", \"linecolor\": \"white\", \"ticks\": \"\", \"title\": {\"standoff\": 15}, \"zerolinecolor\": \"white\", \"zerolinewidth\": 2}}}, \"title\": {\"font\": {\"family\": \"Roboto\"}, \"text\": \"2017 Vs 2020\"}, \"width\": 1000, \"xaxis\": {\"dtick\": 10, \"linecolor\": \"black\", \"showgrid\": false, \"showline\": false, \"showticklabels\": false, \"tickcolor\": \"black\", \"tickfont\": {\"color\": \"black\"}, \"ticks\": \"outside\"}, \"yaxis\": {\"showgrid\": false, \"showline\": false}},                        {\"responsive\": true}                    ).then(function(){\n",
       "                            \n",
       "var gd = document.getElementById('b66d5cc1-86e9-4f52-9978-ca963a547d0a');\n",
       "var x = new MutationObserver(function (mutations, observer) {{\n",
       "        var display = window.getComputedStyle(gd).display;\n",
       "        if (!display || display === 'none') {{\n",
       "            console.log([gd, 'removed!']);\n",
       "            Plotly.purge(gd);\n",
       "            observer.disconnect();\n",
       "        }}\n",
       "}});\n",
       "\n",
       "// Listen for the removal of the full notebook cells\n",
       "var notebookContainer = gd.closest('#notebook-container');\n",
       "if (notebookContainer) {{\n",
       "    x.observe(notebookContainer, {childList: true});\n",
       "}}\n",
       "\n",
       "// Listen for the clearing of the current output cell\n",
       "var outputEl = gd.closest('.output');\n",
       "if (outputEl) {{\n",
       "    x.observe(outputEl, {childList: true});\n",
       "}}\n",
       "\n",
       "                        })                };                });            </script>        </div>"
      ]
     },
     "metadata": {},
     "output_type": "display_data"
    }
   ],
   "source": [
    "fig = go.Figure()\n",
    "\n",
    "fig.add_trace(go.Scatter(\n",
    "    x=df_scatter['week'],\n",
    "    y=df_scatter['Y2020'],\n",
    "    name='2020',\n",
    "    marker=dict(\n",
    "        color='rgba(156, 165, 196, 0.95)',\n",
    "        line_color='rgba(156, 165, 196, 1.0)',\n",
    "    )\n",
    "))\n",
    "fig.add_trace(go.Scatter(\n",
    "    x=df_scatter['week'], y=df_scatter['Y2017'],\n",
    "    name='2017',\n",
    "    marker=dict(\n",
    "        color='rgba(204, 204, 204, 0.95)',\n",
    "        line_color='rgba(217, 217, 217, 1.0)'\n",
    "    )\n",
    "))\n",
    "\n",
    "fig.update_traces(mode='markers', marker=dict(line_width=1, symbol='circle', size=16))\n",
    "\n",
    "\n",
    "\n",
    "fig.update_layout(\n",
    "    title=\"2017 Vs 2020\",font_family=\"Roboto\", title_font_family=\"Roboto\" ,\n",
    "    xaxis=dict(\n",
    "        showgrid=False,\n",
    "        showline=False,\n",
    "        linecolor='black',\n",
    "        tickfont_color='black',#'rgb(102, 102, 102)',\n",
    "        showticklabels=False,\n",
    "        dtick=10,\n",
    "        ticks='outside',\n",
    "        tickcolor='black',#'rgb(102, 102, 102)',\n",
    "    ),\n",
    "    yaxis=dict(\n",
    "        showgrid=False,\n",
    "        showline=False,\n",
    "    ),\n",
    "    margin=dict(l=140, r=40, b=50, t=80),\n",
    "    legend=dict(\n",
    "        font_size=10,\n",
    "        yanchor='middle',\n",
    "        xanchor='right',\n",
    "    ),\n",
    "    width=1000,\n",
    "    height=250,\n",
    "    paper_bgcolor='black',\n",
    "    plot_bgcolor='black',\n",
    "    hovermode='closest',\n",
    ")\n",
    "fig.show()"
   ]
  },
  {
   "cell_type": "markdown",
   "id": "072a89c8",
   "metadata": {},
   "source": [
    "# At a glance"
   ]
  },
  {
   "cell_type": "code",
   "execution_count": 142,
   "id": "6fe6ee50-3bf5-4cd7-9944-a12816d2f1aa",
   "metadata": {
    "ExecuteTime": {
     "end_time": "2021-10-27T13:53:11.153432Z",
     "start_time": "2021-10-27T13:42:26.161Z"
    }
   },
   "outputs": [
    {
     "name": "stdout",
     "output_type": "stream",
     "text": [
      "What's the average number of trips we can expect this week? - 21614\n",
      "What's the average fare per trip we expect to collect? - $12\n",
      "What's the average distance traveled per trip? - 3 miles\n"
     ]
    }
   ],
   "source": [
    "print(\"What's the average number of trips we can expect this week? - {0:.0f}\".format(trips.loc[trips['year']=='2020'].groupby(['week']).agg({'pickup_time':'count'}).reset_index().pickup_time.mean()))\n",
    "print(\"What's the average fare per trip we expect to collect? - ${0:.0f}\".format(trips.fare_amount.mean()))\n",
    "print(\"What's the average distance traveled per trip? - {0:.0f} miles\".format(trips.trip_distance.mean()))"
   ]
  },
  {
   "cell_type": "markdown",
   "id": "e5914a6c",
   "metadata": {},
   "source": [
    "# Appendix"
   ]
  },
  {
   "cell_type": "code",
   "execution_count": 92,
   "id": "f57b870b",
   "metadata": {},
   "outputs": [
    {
     "data": {
      "text/html": [
       "<div>\n",
       "<style scoped>\n",
       "    .dataframe tbody tr th:only-of-type {\n",
       "        vertical-align: middle;\n",
       "    }\n",
       "\n",
       "    .dataframe tbody tr th {\n",
       "        vertical-align: top;\n",
       "    }\n",
       "\n",
       "    .dataframe thead th {\n",
       "        text-align: right;\n",
       "    }\n",
       "</style>\n",
       "<table border=\"1\" class=\"dataframe\">\n",
       "  <thead>\n",
       "    <tr style=\"text-align: right;\">\n",
       "      <th></th>\n",
       "      <th></th>\n",
       "      <th>pickup_time</th>\n",
       "      <th>percent</th>\n",
       "    </tr>\n",
       "    <tr>\n",
       "      <th>doborough</th>\n",
       "      <th>dozone</th>\n",
       "      <th></th>\n",
       "      <th></th>\n",
       "    </tr>\n",
       "  </thead>\n",
       "  <tbody>\n",
       "    <tr>\n",
       "      <th rowspan=\"3\" valign=\"top\">Manhattan</th>\n",
       "      <th>East Harlem North</th>\n",
       "      <td>955946</td>\n",
       "      <td>3.6</td>\n",
       "    </tr>\n",
       "    <tr>\n",
       "      <th>Central Harlem North</th>\n",
       "      <td>915492</td>\n",
       "      <td>3.5</td>\n",
       "    </tr>\n",
       "    <tr>\n",
       "      <th>Central Harlem</th>\n",
       "      <td>825188</td>\n",
       "      <td>3.1</td>\n",
       "    </tr>\n",
       "    <tr>\n",
       "      <th rowspan=\"2\" valign=\"top\">Queens</th>\n",
       "      <th>Astoria</th>\n",
       "      <td>797293</td>\n",
       "      <td>3.0</td>\n",
       "    </tr>\n",
       "    <tr>\n",
       "      <th>Jackson Heights</th>\n",
       "      <td>727796</td>\n",
       "      <td>2.8</td>\n",
       "    </tr>\n",
       "  </tbody>\n",
       "</table>\n",
       "</div>"
      ],
      "text/plain": [
       "                                pickup_time  percent\n",
       "doborough dozone                                    \n",
       "Manhattan East Harlem North          955946      3.6\n",
       "          Central Harlem North       915492      3.5\n",
       "          Central Harlem             825188      3.1\n",
       "Queens    Astoria                    797293      3.0\n",
       "          Jackson Heights            727796      2.8"
      ]
     },
     "execution_count": 92,
     "metadata": {},
     "output_type": "execute_result"
    }
   ],
   "source": [
    "do = trips.groupby(['doborough','dozone']).agg({'pickup_time':'count'}).sort_values(by=['pickup_time'],ascending=False)\n",
    "do['percent'] = np.round((do['pickup_time']/do.pickup_time.sum()*100),decimals=1)\n",
    "do.head(5)"
   ]
  },
  {
   "cell_type": "code",
   "execution_count": 93,
   "id": "88a19b2f",
   "metadata": {},
   "outputs": [
    {
     "data": {
      "text/html": [
       "<div>\n",
       "<style scoped>\n",
       "    .dataframe tbody tr th:only-of-type {\n",
       "        vertical-align: middle;\n",
       "    }\n",
       "\n",
       "    .dataframe tbody tr th {\n",
       "        vertical-align: top;\n",
       "    }\n",
       "\n",
       "    .dataframe thead th {\n",
       "        text-align: right;\n",
       "    }\n",
       "</style>\n",
       "<table border=\"1\" class=\"dataframe\">\n",
       "  <thead>\n",
       "    <tr style=\"text-align: right;\">\n",
       "      <th></th>\n",
       "      <th></th>\n",
       "      <th>pickup_time</th>\n",
       "      <th>percent</th>\n",
       "    </tr>\n",
       "    <tr>\n",
       "      <th>puborough</th>\n",
       "      <th>puzone</th>\n",
       "      <th></th>\n",
       "      <th></th>\n",
       "    </tr>\n",
       "  </thead>\n",
       "  <tbody>\n",
       "    <tr>\n",
       "      <th rowspan=\"3\" valign=\"top\">Manhattan</th>\n",
       "      <th>East Harlem North</th>\n",
       "      <td>1833599</td>\n",
       "      <td>7.0</td>\n",
       "    </tr>\n",
       "    <tr>\n",
       "      <th>East Harlem South</th>\n",
       "      <td>1584533</td>\n",
       "      <td>6.0</td>\n",
       "    </tr>\n",
       "    <tr>\n",
       "      <th>Central Harlem</th>\n",
       "      <td>1535265</td>\n",
       "      <td>5.9</td>\n",
       "    </tr>\n",
       "    <tr>\n",
       "      <th rowspan=\"2\" valign=\"top\">Queens</th>\n",
       "      <th>Astoria</th>\n",
       "      <td>1277025</td>\n",
       "      <td>4.9</td>\n",
       "    </tr>\n",
       "    <tr>\n",
       "      <th>Elmhurst</th>\n",
       "      <td>1172017</td>\n",
       "      <td>4.5</td>\n",
       "    </tr>\n",
       "  </tbody>\n",
       "</table>\n",
       "</div>"
      ],
      "text/plain": [
       "                             pickup_time  percent\n",
       "puborough puzone                                 \n",
       "Manhattan East Harlem North      1833599      7.0\n",
       "          East Harlem South      1584533      6.0\n",
       "          Central Harlem         1535265      5.9\n",
       "Queens    Astoria                1277025      4.9\n",
       "          Elmhurst               1172017      4.5"
      ]
     },
     "execution_count": 93,
     "metadata": {},
     "output_type": "execute_result"
    }
   ],
   "source": [
    "pu = trips.groupby(['puborough','puzone']).agg({'pickup_time':'count'}).sort_values(by=['pickup_time'],ascending=False)\n",
    "pu['percent'] = np.round((pu['pickup_time']/pu.pickup_time.sum()*100),decimals=1)\n",
    "pu.head(5)"
   ]
  }
 ],
 "metadata": {
  "kernelspec": {
   "display_name": "Python 3",
   "language": "python",
   "name": "python3"
  },
  "language_info": {
   "codemirror_mode": {
    "name": "ipython",
    "version": 3
   },
   "file_extension": ".py",
   "mimetype": "text/x-python",
   "name": "python",
   "nbconvert_exporter": "python",
   "pygments_lexer": "ipython3",
   "version": "3.7.1"
  }
 },
 "nbformat": 4,
 "nbformat_minor": 5
}
